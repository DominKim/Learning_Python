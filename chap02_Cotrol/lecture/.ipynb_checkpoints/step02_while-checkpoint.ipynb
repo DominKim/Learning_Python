{
 "cells": [
  {
   "cell_type": "code",
   "execution_count": null,
   "metadata": {},
   "outputs": [],
   "source": [
    "'''\n",
    "반복문(while)\n",
    "\n",
    "while 조건식:\n",
    "    실행문\n",
    "    실행문\n",
    "'''\n",
    "\n",
    "# 카운터, 누적 변수\n",
    "cnt = tot = 0 # 변수 초기화\n",
    "\n",
    "while cnt < 5: # True -> loop(명령문 집합)\n",
    "    cnt += 1   # 카운터 변수\n",
    "    tot += cnt # 누적변수\n",
    "    print(cnt, tot)\n",
    "    \n",
    "# 문1) 1 ~ 100 까지 합 출력\n",
    "cnt = tot = 0\n",
    "data = [] # 빈 list(짝수 저장)\n",
    "while cnt < 100:\n",
    "    cnt += 1\n",
    "    tot += cnt\n",
    "    if cnt % 2 == 0:\n",
    "        data.append(cnt) # 짝수 값 추가\n",
    "        \n",
    "print(\"1 ~ 100까지 합 : %d\" % (tot))\n",
    "print(\"짝수 값 :\", data)\n",
    "\n",
    "# 문2) 1 ~ 100 사이에서 5의 배수 이면서 3의 배수가 아닌 값만 append하기\n",
    "data = []\n",
    "for i in range(1, 101):\n",
    "    if i % 5 == 0 and i % 3 != 0:\n",
    "        data.append(i)\n",
    "print(data)"
   ]
  },
  {
   "cell_type": "code",
   "execution_count": null,
   "metadata": {},
   "outputs": [],
   "source": [
    "# random : 난수 생성\n",
    "import random # 난수 생성 모듈\n",
    "help(random.random) # 0 ~ 1 skstn tlftn\n",
    "help(random.choice)\n",
    "help(random.randint) # 난수 정수\n",
    "r = random.random()  # 모듈.함수(0 ~ 1 난수) \n",
    "print(\"r = \", r)     # r =  0.3335511632899698\n",
    "\n",
    "# 문3) 난수 0.01 미만이면 종료, 아니면 난수 개수 출력\n",
    "cnt = 0\n",
    "while True:\n",
    "    r = random.random()\n",
    "    if r < 0.01:\n",
    "        break\n",
    "    else:\n",
    "        cnt +=1\n",
    "print(cnt)\n",
    "\n",
    "r = random.randint(1,5)\n",
    "print(r)"
   ]
  },
  {
   "cell_type": "code",
   "execution_count": null,
   "metadata": {},
   "outputs": [],
   "source": [
    "'''\n",
    "myInput == computer : 성공(exit) -> 종료 조건\n",
    "myInput > computer : \"더 작은 수 입력\"\n",
    "myInput < computer : \"던 큰 수 입력\"\n",
    "'''\n",
    "\n",
    "computer = random.randint(1,10)\n",
    "while True:\n",
    "    myInput = int(input(\"숫자 입력 : \"))\n",
    "    if myInput == computer:\n",
    "        print(computer)\n",
    "        print(\"Bingo!\")\n",
    "        break\n",
    "    elif myInput > computer:\n",
    "        print(\"더 작은 수 입력\")\n",
    "    else:\n",
    "        print(\"더 큰수 입력\")"
   ]
  },
  {
   "cell_type": "code",
   "execution_count": 6,
   "metadata": {},
   "outputs": [
    {
     "name": "stdout",
     "output_type": "stream",
     "text": [
      "1 2 4 5 "
     ]
    }
   ],
   "source": [
    "'''\n",
    "continue vs break\n",
    " - 반복문에서 사용되는 명령\n",
    " - continue : 반복을 지속, 다음 문장 skip\n",
    " - break : 반복 멈춤\n",
    "'''\n",
    "i = 0\n",
    "while i < 10:\n",
    "    i += 1\n",
    "    if i == 3:\n",
    "        continue # 다음 문장 skip\n",
    "    if i == 6:\n",
    "        break\n",
    "    print(i, end = \" \") # 1 2 4 5"
   ]
  },
  {
   "cell_type": "code",
   "execution_count": null,
   "metadata": {},
   "outputs": [],
   "source": []
  }
 ],
 "metadata": {
  "kernelspec": {
   "display_name": "Python 3",
   "language": "python",
   "name": "python3"
  },
  "language_info": {
   "codemirror_mode": {
    "name": "ipython",
    "version": 3
   },
   "file_extension": ".py",
   "mimetype": "text/x-python",
   "name": "python",
   "nbconvert_exporter": "python",
   "pygments_lexer": "ipython3",
   "version": "3.7.4"
  }
 },
 "nbformat": 4,
 "nbformat_minor": 2
}
