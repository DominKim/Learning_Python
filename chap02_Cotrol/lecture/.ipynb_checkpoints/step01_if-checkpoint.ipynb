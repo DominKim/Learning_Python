{
 "cells": [
  {
   "cell_type": "code",
   "execution_count": 1,
   "metadata": {},
   "outputs": [
    {
     "name": "stdout",
     "output_type": "stream",
     "text": [
      "var =  10\n",
      "var는 10보다 크거나 같다.\n",
      "항상 실행되는 영역\n"
     ]
    }
   ],
   "source": [
    "'''\n",
    "제어문 : 조건문(if), 반복문(while, for)\n",
    "python 블럭 : 콜론과 들여쓰기\n",
    "\n",
    "형식1)\n",
    "if 조건식:\n",
    "    실행문\n",
    "    실행문\n",
    "'''\n",
    "# R은 if가 함수 : if () {}\n",
    "# Python은 if가 명령어\n",
    "var = 10\n",
    "if var >= 10:\n",
    "    print(\"var = \", var)\n",
    "    print(\"var는 10보다 크거나 같다.\")\n",
    "print(\"항상 실행되는 영역\")"
   ]
  },
  {
   "cell_type": "code",
   "execution_count": 2,
   "metadata": {},
   "outputs": [
    {
     "name": "stdout",
     "output_type": "stream",
     "text": [
      "var는 5보다 작다.\n",
      "점수 입력 : 1\n",
      "불합격\n",
      "2020-04-07 17:10:04.724393\n",
      "1\n",
      "평일\n",
      "점수 입력 : 1\n",
      "불합격\n",
      "2020-04-07 17:10:07.989676\n",
      "1\n",
      "평일\n",
      "점수 입력 : 2\n",
      "불합격\n",
      "2020-04-07 17:10:09.624064\n",
      "1\n",
      "평일\n",
      "점수 입력 : 30\n",
      "불합격\n",
      "2020-04-07 17:10:10.998217\n",
      "1\n",
      "평일\n",
      "점수 입력 : 40\n",
      "불합격\n",
      "2020-04-07 17:10:11.861371\n",
      "1\n",
      "평일\n",
      "점수 입력 : 50\n",
      "불합격\n",
      "2020-04-07 17:10:12.647645\n",
      "1\n",
      "평일\n",
      "점수 입력 : 70\n",
      "합격\n"
     ]
    }
   ],
   "source": [
    "'''\n",
    "형식2)\n",
    "if 조건식:\n",
    "    실행문1\n",
    "else:\n",
    "    실행문2\n",
    "'''\n",
    "var = 2\n",
    "if var >= 5:\n",
    "    print(\"var는 5보다 크거나 같다.\")\n",
    "else:\n",
    "    print(\"var는 5보다 작다.\")\n",
    "\n",
    "# var는 5보다 ㅈ가다.\n",
    "\n",
    "# 키보드 점수 입력 0> 60점 이상 : 합격, 미만이면 : 불합격\n",
    "while True:\n",
    "    score = int(input(\"점수 입력 : \"))\n",
    "    if score >= 60:\n",
    "        print(\"합격\")\n",
    "        break\n",
    "    else:\n",
    "        print(\"불합격\")\n",
    "        \n",
    "    import datetime as dt # module 임포트\n",
    "    today = dt.datetime.now() # module.class.method()\n",
    "    print(today)\n",
    "    \n",
    "    # 요일 반환\n",
    "    week = today.weekday()\n",
    "    print(week) # 0 ~ 4 : 평일, 5 ~ 6 : 휴일\n",
    "    \n",
    "    if week >= 5:\n",
    "        print(\"휴일\")\n",
    "    else:\n",
    "        print(\"평일\")"
   ]
  },
  {
   "cell_type": "code",
   "execution_count": 4,
   "metadata": {},
   "outputs": [
    {
     "name": "stdout",
     "output_type": "stream",
     "text": [
      "점수 입력 : 100\n",
      "당신의 점수는 100이고, 등급은 A이다.\n",
      "18\n",
      "18\n"
     ]
    }
   ],
   "source": [
    "'''\n",
    "형식3)\n",
    "if 조건식1:\n",
    "    실행문\n",
    "elif 조건식2:\n",
    "    실행문\n",
    "else:\n",
    "    실행문\n",
    "'''\n",
    "\n",
    "# 문2) 키보드 score 입력 : A(100 ~ 90), B(89 ~ 80), C, D, F\n",
    "score = int(input(\"점수 입력 : \"))\n",
    "# 전역변수 : score, grade\n",
    "if score >= 90:\n",
    "    grade = \"A\"\n",
    "elif score >= 80:\n",
    "    grade = \"B\"\n",
    "elif score >= 70:\n",
    "    grade = \"C\"\n",
    "elif score >= 60:\n",
    "    grade = \"D\"\n",
    "else:\n",
    "    grade = \"F\"\n",
    "    \n",
    "print(\"당신의 점수는 %d이고, 등급은 %s이다.\" % (score, grade))\n",
    "\n",
    "# 블럭 if vs 라인 if\n",
    "\n",
    "num = 9\n",
    "if num >= 5:\n",
    "    result = num * 2\n",
    "else:\n",
    "    result = num + 2\n",
    "    \n",
    "print(result)\n",
    "\n",
    "# 라인 if\n",
    "# 형식) 변수 = 참 if 조건문 else 거짓\n",
    "\n",
    "result = num * 2 if num >= 5 else num +2\n",
    "print(result)"
   ]
  },
  {
   "cell_type": "code",
   "execution_count": null,
   "metadata": {},
   "outputs": [],
   "source": []
  }
 ],
 "metadata": {
  "kernelspec": {
   "display_name": "Python 3",
   "language": "python",
   "name": "python3"
  },
  "language_info": {
   "codemirror_mode": {
    "name": "ipython",
    "version": 3
   },
   "file_extension": ".py",
   "mimetype": "text/x-python",
   "name": "python",
   "nbconvert_exporter": "python",
   "pygments_lexer": "ipython3",
   "version": "3.7.4"
  }
 },
 "nbformat": 4,
 "nbformat_minor": 2
}
