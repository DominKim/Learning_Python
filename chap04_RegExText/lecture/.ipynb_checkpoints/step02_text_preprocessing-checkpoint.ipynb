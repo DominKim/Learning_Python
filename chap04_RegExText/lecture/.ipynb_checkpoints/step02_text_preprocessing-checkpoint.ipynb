{
 "cells": [
  {
   "cell_type": "code",
   "execution_count": 24,
   "metadata": {},
   "outputs": [
    {
     "name": "stdout",
     "output_type": "stream",
     "text": [
      "3 <class 'list'>\n"
     ]
    }
   ],
   "source": [
    "# 텍스트 전처리 \n",
    "texts = ['AFAB54747,asabag?', 'abTTa $$;a12:2424.', 'uysfsfA,A124&***$?']\n",
    "print(len(texts), type(texts)) # 3 <class 'list'>\n",
    "from re import sub # gsub() 유사함\n",
    "#  from package.module import class or function\n",
    "# from module import class or function"
   ]
  },
  {
   "cell_type": "code",
   "execution_count": 25,
   "metadata": {},
   "outputs": [
    {
     "name": "stdout",
     "output_type": "stream",
     "text": [
      "소문자 변경\n",
      "texts_re1 : ['afab54747,asabag?', 'abtta $$;a12:2424.', 'uysfsfa,a124&***$?']\n"
     ]
    }
   ],
   "source": [
    "# 1. 소문자 변경\n",
    "print(\"소문자 변경\")\n",
    "texts_re = [text.lower() for text in texts]\n",
    "print(\"texts_re1 :\", texts_re)"
   ]
  },
  {
   "cell_type": "code",
   "execution_count": 27,
   "metadata": {},
   "outputs": [
    {
     "name": "stdout",
     "output_type": "stream",
     "text": [
      "texts_re2 : ['afab,asabag?', 'abtta $$;a:.', 'uysfsfa,a&***$?']\n"
     ]
    }
   ],
   "source": [
    "# 2. 숫자 제거\n",
    "texts_re2 = [sub(\"[0-9]\", \"\", text) for text in texts_re]\n",
    "print(\"texts_re2 :\", texts_re2)"
   ]
  },
  {
   "cell_type": "code",
   "execution_count": 28,
   "metadata": {},
   "outputs": [
    {
     "name": "stdout",
     "output_type": "stream",
     "text": [
      "texts_re3 : ['afabasabag', 'abtta $$a', 'uysfsfaa&***$']\n"
     ]
    }
   ],
   "source": [
    "# 3.문장부호 제거\n",
    "punc_str = \"[,.;:?!]\"\n",
    "texts_re3 = [sub(punc_str, \"\", text) for text in texts_re2]\n",
    "print(\"texts_re3 :\", texts_re3)"
   ]
  },
  {
   "cell_type": "code",
   "execution_count": 29,
   "metadata": {},
   "outputs": [
    {
     "name": "stdout",
     "output_type": "stream",
     "text": [
      "texts_re4 : ['afabasabag', 'abtta a', 'uysfsfaa']\n"
     ]
    }
   ],
   "source": [
    "# 4. 특수문자 제거\n",
    "spec_str = \"[@#$%^&*()]\"\n",
    "texts_re4 = [sub(spec_str, \"\", text) for text in texts_re3]\n",
    "print(\"texts_re4 :\", texts_re4)"
   ]
  },
  {
   "cell_type": "code",
   "execution_count": 31,
   "metadata": {},
   "outputs": [
    {
     "name": "stdout",
     "output_type": "stream",
     "text": [
      "texts_re5 : ['afabasabag', 'abttaa', 'uysfsfaa']\n"
     ]
    }
   ],
   "source": [
    "# 5. 공백(white space) 제거 : \"abtta a\" -> \"\".join(\"abtta\", \"a\") -> \"abttaa\"\n",
    "texts_re5 = [ \"\".join(text.split()) for text in texts_re4]\n",
    "print(\"texts_re5 :\", texts_re5)"
   ]
  }
 ],
 "metadata": {
  "kernelspec": {
   "display_name": "Python 3",
   "language": "python",
   "name": "python3"
  },
  "language_info": {
   "codemirror_mode": {
    "name": "ipython",
    "version": 3
   },
   "file_extension": ".py",
   "mimetype": "text/x-python",
   "name": "python",
   "nbconvert_exporter": "python",
   "pygments_lexer": "ipython3",
   "version": "3.7.4"
  }
 },
 "nbformat": 4,
 "nbformat_minor": 2
}
