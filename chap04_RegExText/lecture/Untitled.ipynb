{
 "cells": [
  {
   "cell_type": "code",
   "execution_count": 15,
   "metadata": {},
   "outputs": [
    {
     "name": "stdout",
     "output_type": "stream",
     "text": [
      "유관순 750905-204*****\n",
      "홍길동 850905-105*****\n",
      "강감찬 770210-154*****\n"
     ]
    }
   ],
   "source": [
    "import re\n",
    "\n",
    "person = \"\"\"유관순 750905-2049118\n",
    "홍길동 850905-1059119\n",
    "강호동 790101-5142142\n",
    "강감찬 770210-1542001\"\"\"\n",
    "person_lst = person.split(\"\\n\")\n",
    "\n",
    "for i in person_lst:\n",
    "    emp = re.findall(\"[가-힣]{3} [0-9]\\\\d{5}-[1-4][0-9]{3}\", i)\n",
    "    if emp:\n",
    "        num = 0\n",
    "        while num < 19:\n",
    "            if num <= 13:\n",
    "                print(i[num], end = \"\")\n",
    "            else:\n",
    "                print(\"*\", end = \"\")\n",
    "            num+=1\n",
    "        print()"
   ]
  }
 ],
 "metadata": {
  "kernelspec": {
   "display_name": "Python 3",
   "language": "python",
   "name": "python3"
  },
  "language_info": {
   "codemirror_mode": {
    "name": "ipython",
    "version": 3
   },
   "file_extension": ".py",
   "mimetype": "text/x-python",
   "name": "python",
   "nbconvert_exporter": "python",
   "pygments_lexer": "ipython3",
   "version": "3.7.4"
  }
 },
 "nbformat": 4,
 "nbformat_minor": 2
}
