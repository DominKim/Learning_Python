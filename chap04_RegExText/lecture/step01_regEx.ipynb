{
 "cells": [
  {
   "cell_type": "code",
   "execution_count": null,
   "metadata": {},
   "outputs": [],
   "source": [
    "'''\n",
    "정규 표현식\n",
    " \n",
    "[주요 메타문자]\n",
    ". : 임의의 한 문자 \n",
    ".x : 임의의 한 문자 뒤에 x가 오는 문자열(ex : abc, mbc -> .bc) \n",
    "^x : x로 시작하는 문자열(접두어 추출)\n",
    "x$ : x로 끝나는 문자열(접미어 추출)\n",
    "x. : x 다음에 임의의 한 문자가 오는 문자열(ex : t1, t2, ta -> t.) \n",
    "x* : x가 0번 이상 반복\n",
    "x+ : x가 1개 이상 반복\n",
    "x? : x가 0 또는 1개 존재\n",
    "x{m, n} : x가 m~n 사이 연속 \n",
    "x{m, } : x가 m 이상 연속\n",
    "x{,n} : x가 n 이하 연속\n",
    "[x] : x문자 한 개 일치   \n",
    "'''\n",
    "\n",
    "st1 = '1234 abc홍길동 ABC_555_6 이다도시'\n",
    "st2 = 'test1abcABC 123mbc 45test'\n",
    "st3 = 'test^홍길동 abc 대한*민국 123$tbc'\n",
    "\n",
    "# 방법1) 정규표현식 모듈\n",
    "import re\n",
    "# 방법2) from 모듈 import 함수 * 메모리를 효율적으로 사용 가능\n",
    "from re import findall, match, sub\n",
    "'''\n",
    "re.findall() # 방법1)\n",
    "findall()    # 방법2)\n",
    "'''\n",
    "\n",
    "# 1. findall\n",
    "# 형식) findall(pattern = \"메타문자\", string=\"문자열\")\n",
    "# 패턴과 일치하지 않는 문자가 있으면 빈 벡터로 반환한다.\n",
    "\n",
    "# 1) 숫자찾기\n",
    "print(re.findall(\"1234\", st1))   # ['1234']\n",
    "print(findall(\"[0-9]{3}\", st1))  # ['123', '555']\n",
    "print(findall(\"[0-9]{3,}\", st1)) # ['1234', '555']\n",
    "print(findall(\"\\\\d{3,}\", st1))   # ['1234', '555']\n",
    "\n",
    "# 2) 문자열 찾기\n",
    "print(findall(\"[가-힣]{3,}\", st1))   # ['홍길동', '이다도시']\n",
    "print(findall(\"[a-z]{3}\", st1))     # ['abc']\n",
    "print(findall(\"[a-z|A-Z]{3}\", st1)) # ['abc', 'ABC']   * | : 정규표현식 내에서 or 라는 뜻\n",
    "\n",
    "str_list = st1.split(sep = \" \")\n",
    "print(str_list)\n",
    "names = []\n",
    "for text in str_list:\n",
    "    tmp = findall(\"[가-힣]{3,}\", text)\n",
    "    if tmp:\n",
    "        names.append(tmp[0])\n",
    "print(names)"
   ]
  },
  {
   "cell_type": "code",
   "execution_count": null,
   "metadata": {},
   "outputs": [],
   "source": [
    "# 3) 접두어 . 접미어 문자열 찾기\n",
    "st2 = 'test1abcABC 123mbc 45test'\n",
    "print(findall(\"^test\", st2)) # ['test']\n",
    "print(findall(\"st$\", st2))   # ['st']\n",
    "\n",
    "# 종료 문자 찾기\n",
    "print(findall(\".bc\", st2))  # ['abc', 'mbc']\n",
    "\n",
    "# 시작 문자 찾기\n",
    "print(findall(\"t.\", st2))  # ['te', 't1', 'te']"
   ]
  },
  {
   "cell_type": "code",
   "execution_count": null,
   "metadata": {},
   "outputs": [],
   "source": [
    "# 4) 단어 찾기(\\\\w) : 한글, 영문자, 숫자\n",
    "st3 = 'test^홍길동 abc 대한*민국 123$tbc'\n",
    "\n",
    "words = findall(\"\\\\w{3,}\", st3) # list 반환\n",
    "print(words) # ['test', '홍길동', 'abc', '123', 'tbc']"
   ]
  },
  {
   "cell_type": "code",
   "execution_count": null,
   "metadata": {},
   "outputs": [],
   "source": [
    "# 5) 특정 문자열 제외\n",
    "print(findall(\"[^t]+\", st3)) # ['es', '^홍길동 abc 대한*민국 123$', 'bc']\n",
    "# 특수문자 제외\n",
    "print(findall(\"[^^*$]+\", st3)) # ['test', '홍길동 abc 대한', '민국 123', 'tbc']"
   ]
  },
  {
   "cell_type": "code",
   "execution_count": null,
   "metadata": {},
   "outputs": [],
   "source": [
    "# 2. match\n",
    "# match(pattern = \"패턴\", string = \"문자열\")\n",
    "#  - 패턴 일치 여부 반환(일치 : object 반환, 불일치 : NULL 반환)\n",
    "\n",
    "jumin = \"123456-1234567\"\n",
    "result = match(\"[0-9]{6}-[1-4]\\\\d{6}\", jumin)\n",
    "print(result)\n",
    "\n",
    "if result:\n",
    "    print(\"정상 주민번호\")\n",
    "else:\n",
    "    print(\"비정상 주민번호\")"
   ]
  },
  {
   "cell_type": "code",
   "execution_count": 38,
   "metadata": {},
   "outputs": [
    {
     "name": "stdout",
     "output_type": "stream",
     "text": [
      "test홍길동 abc 대한민국 123tbc\n"
     ]
    }
   ],
   "source": [
    "# 3. sub(\"pattern\", \"rep\", \"string\")\n",
    "st3 = 'test^홍길동 abc 대한*민국 123$tbc'\n",
    "\n",
    "result = sub(\"[\\^$*]\", \"\", st3)\n",
    "# \\의미 : 메타문자가 아닌 일반 특수문자\n",
    "print(result) # test홍길동 abc 대한민국 123tbc"
   ]
  }
 ],
 "metadata": {
  "kernelspec": {
   "display_name": "Python 3",
   "language": "python",
   "name": "python3"
  },
  "language_info": {
   "codemirror_mode": {
    "name": "ipython",
    "version": 3
   },
   "file_extension": ".py",
   "mimetype": "text/x-python",
   "name": "python",
   "nbconvert_exporter": "python",
   "pygments_lexer": "ipython3",
   "version": "3.7.4"
  }
 },
 "nbformat": 4,
 "nbformat_minor": 2
}
