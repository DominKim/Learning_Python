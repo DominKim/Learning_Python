{
 "cells": [
  {
   "cell_type": "code",
   "execution_count": 2,
   "metadata": {},
   "outputs": [
    {
     "name": "stdout",
     "output_type": "stream",
     "text": [
      "합격\n"
     ]
    }
   ],
   "source": [
    "# if, for, while...\n",
    "a = 11\n",
    "if a > 10:\n",
    "    print(\"합격\")"
   ]
  },
  {
   "cell_type": "code",
   "execution_count": 4,
   "metadata": {},
   "outputs": [
    {
     "name": "stdout",
     "output_type": "stream",
     "text": [
      "불합격\n"
     ]
    }
   ],
   "source": [
    "a = 7\n",
    "if a > 10:\n",
    "    print(\"합격\")\n",
    "else:\n",
    "    print(\"불합격\")"
   ]
  },
  {
   "cell_type": "code",
   "execution_count": 10,
   "metadata": {},
   "outputs": [
    {
     "name": "stdout",
     "output_type": "stream",
     "text": [
      "bad!\n"
     ]
    }
   ],
   "source": [
    "a = 3\n",
    "if a > 10:\n",
    "    print(\"very good!\")\n",
    "elif a > 5:\n",
    "    print(\"good!\")\n",
    "else:\n",
    "    print(\"bad!\")"
   ]
  },
  {
   "cell_type": "code",
   "execution_count": 13,
   "metadata": {},
   "outputs": [
    {
     "name": "stdout",
     "output_type": "stream",
     "text": [
      "최우수\n"
     ]
    }
   ],
   "source": [
    "b = 100\n",
    "if b > 90:\n",
    "    if b == 100:\n",
    "        print(\"최우수\")\n",
    "    else:\n",
    "        print(\"우수\")\n",
    "elif b > 80:\n",
    "    print(\"보통\")\n",
    "else:\n",
    "    print(\"나쁨\")"
   ]
  },
  {
   "cell_type": "code",
   "execution_count": 14,
   "metadata": {},
   "outputs": [],
   "source": [
    "# 반복문\n",
    "# 범위 반복 for, 조건 반복 while"
   ]
  },
  {
   "cell_type": "code",
   "execution_count": 16,
   "metadata": {},
   "outputs": [
    {
     "name": "stdout",
     "output_type": "stream",
     "text": [
      "0\n",
      "2\n",
      "4\n",
      "6\n",
      "8\n"
     ]
    }
   ],
   "source": [
    "for i in range(0, 10, 2):\n",
    "    print(i)"
   ]
  },
  {
   "cell_type": "code",
   "execution_count": 17,
   "metadata": {},
   "outputs": [
    {
     "name": "stdout",
     "output_type": "stream",
     "text": [
      "루피\n",
      "조로\n",
      "나미\n"
     ]
    }
   ],
   "source": [
    "my_list = [\"루피\", \"조로\", \"나미\"]\n",
    "for name in my_list:\n",
    "    print(name)"
   ]
  },
  {
   "cell_type": "code",
   "execution_count": 20,
   "metadata": {},
   "outputs": [
    {
     "name": "stdout",
     "output_type": "stream",
     "text": [
      "0\n",
      "1\n",
      "2\n"
     ]
    }
   ],
   "source": [
    "for i in range(0,len(my_list)):\n",
    "    print(i)"
   ]
  },
  {
   "cell_type": "code",
   "execution_count": 27,
   "metadata": {},
   "outputs": [
    {
     "name": "stdout",
     "output_type": "stream",
     "text": [
      "루피 16\n",
      "조로 19\n",
      "나미 17\n"
     ]
    }
   ],
   "source": [
    "name = [\"루피\", \"조로\", \"나미\"]\n",
    "age = [16, 19, 17]\n",
    "for i in range(0, len(name)):\n",
    "    print(name[i], age[i])"
   ]
  },
  {
   "cell_type": "code",
   "execution_count": 28,
   "metadata": {},
   "outputs": [
    {
     "name": "stdout",
     "output_type": "stream",
     "text": [
      "루피 16\n",
      "조로 19\n",
      "나미 17\n"
     ]
    }
   ],
   "source": [
    "z = zip(name, age)\n",
    "for n, a in z:\n",
    "    print(n, a)"
   ]
  },
  {
   "cell_type": "code",
   "execution_count": 39,
   "metadata": {},
   "outputs": [
    {
     "data": {
      "text/plain": [
       "55"
      ]
     },
     "execution_count": 39,
     "metadata": {},
     "output_type": "execute_result"
    }
   ],
   "source": [
    "i = 1\n",
    "sum = 0\n",
    "while i < 11:\n",
    "    sum += i # sum = sum + i\n",
    "    i += 1 # i = i + 1\n",
    "sum"
   ]
  },
  {
   "cell_type": "code",
   "execution_count": 2,
   "metadata": {},
   "outputs": [
    {
     "name": "stdout",
     "output_type": "stream",
     "text": [
      "ruppy\n",
      "\n",
      "zoro\n",
      "\n",
      "nami\n"
     ]
    }
   ],
   "source": [
    "# 부정적인 성격을 가진 데이터 숫자 0, 문자 공백, 객체 None(null)\n",
    "a = 0\n",
    "b = False\n",
    "c = \"\"\n",
    "d = None\n",
    "bool(None)\n",
    "\n",
    "name_file = open(\"name.txt\")\n",
    "name_file\n",
    "# line = name_file.readline()\n",
    "# print(line)\n",
    "# line = name_file.readline()\n",
    "# print(line)\n",
    "# line = name_file.readline()\n",
    "# print(line)\n",
    "\n",
    "line = name_file.readline()\n",
    "while line:\n",
    "    print(line)\n",
    "    line = name_file.readline()"
   ]
  },
  {
   "cell_type": "code",
   "execution_count": null,
   "metadata": {},
   "outputs": [],
   "source": []
  }
 ],
 "metadata": {
  "kernelspec": {
   "display_name": "Python 3",
   "language": "python",
   "name": "python3"
  },
  "language_info": {
   "codemirror_mode": {
    "name": "ipython",
    "version": 3
   },
   "file_extension": ".py",
   "mimetype": "text/x-python",
   "name": "python",
   "nbconvert_exporter": "python",
   "pygments_lexer": "ipython3",
   "version": "3.7.4"
  }
 },
 "nbformat": 4,
 "nbformat_minor": 2
}
