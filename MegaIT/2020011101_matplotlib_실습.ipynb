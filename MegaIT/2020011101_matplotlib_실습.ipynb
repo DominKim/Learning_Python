{
 "cells": [
  {
   "cell_type": "code",
   "execution_count": 2,
   "metadata": {},
   "outputs": [],
   "source": [
    "import csv\n",
    "import matplotlib.pyplot as plt"
   ]
  },
  {
   "cell_type": "code",
   "execution_count": 23,
   "metadata": {},
   "outputs": [
    {
     "data": {
      "image/png": "[encoded data removed]",
      "text/plain": [
       "<Figure size 432x288 with 1 Axes>"
      ]
     },
     "metadata": {
      "needs_background": "light"
     },
     "output_type": "display_data"
    }
   ],
   "source": [
    "f = open(\"c:/sample/seoul.csv\")\n",
    "data = csv.reader(f)\n",
    "header = next(data)\n",
    "agust = []\n",
    "january = []\n",
    "for row in data:\n",
    "    if row[4] != \"\": # if row[-1] != \"\":\n",
    "        if row[0].split(\"-\")[1] == \"08\":\n",
    "            agust.append(float(row[4]))\n",
    "        if row[0].split(\"-\")[1] == \"01\":\n",
    "            january.append(float(row[4]))\n",
    "# print(agust)\n",
    "plt.hist(agust, bins = 30, label = \"AUG\", color = \"red\")\n",
    "plt.hist(january,bins = 30, label = \"JAN\", color = \"navy\")\n",
    "plt.legend()\n",
    "plt.show()"
   ]
  },
  {
   "cell_type": "code",
   "execution_count": 28,
   "metadata": {},
   "outputs": [
    {
     "data": {
      "text/plain": [
       "{'whiskers': [<matplotlib.lines.Line2D at 0x29154778608>,\n",
       "  <matplotlib.lines.Line2D at 0x29154778dc8>,\n",
       "  <matplotlib.lines.Line2D at 0x29154787f48>,\n",
       "  <matplotlib.lines.Line2D at 0x29154782388>],\n",
       " 'caps': [<matplotlib.lines.Line2D at 0x29154778ec8>,\n",
       "  <matplotlib.lines.Line2D at 0x2915477dd48>,\n",
       "  <matplotlib.lines.Line2D at 0x2915478bfc8>,\n",
       "  <matplotlib.lines.Line2D at 0x2915478bf88>],\n",
       " 'boxes': [<matplotlib.lines.Line2D at 0x2915476fd88>,\n",
       "  <matplotlib.lines.Line2D at 0x29154782e88>],\n",
       " 'medians': [<matplotlib.lines.Line2D at 0x2915477de48>,\n",
       "  <matplotlib.lines.Line2D at 0x29154790f48>],\n",
       " 'fliers': [<matplotlib.lines.Line2D at 0x29154782d88>,\n",
       "  <matplotlib.lines.Line2D at 0x29154796988>],\n",
       " 'means': []}"
      ]
     },
     "execution_count": 28,
     "metadata": {},
     "output_type": "execute_result"
    },
    {
     "data": {
      "image/png": "[encoded data removed]",
      "text/plain": [
       "<Figure size 432x288 with 1 Axes>"
      ]
     },
     "metadata": {
      "needs_background": "light"
     },
     "output_type": "display_data"
    }
   ],
   "source": [
    "# boxplot : 빈도 관련\n",
    "plt.boxplot([agust, january])"
   ]
  },
  {
   "cell_type": "code",
   "execution_count": 39,
   "metadata": {},
   "outputs": [
    {
     "data": {
      "image/png": "[encoded data removed]",
      "text/plain": [
       "<Figure size 432x288 with 1 Axes>"
      ]
     },
     "metadata": {
      "needs_background": "light"
     },
     "output_type": "display_data"
    }
   ],
   "source": [
    "# barchart\n",
    "f2 = open(\"c:/sample/age.csv\")\n",
    "data2 = csv.reader(f2)\n",
    "header2 = next(data2)\n",
    "male = []\n",
    "female = []\n",
    "for row in data2:\n",
    "    if \"서울특별시\" in row[0]:\n",
    "        for i in row[3:104]:\n",
    "            m = i.replace(\",\",\"\")\n",
    "            male.append(-int(m))\n",
    "        for j in row[106:]:\n",
    "            f = j.replace(\",\",\"\")\n",
    "            female.append(int(f))\n",
    "plt.barh(range(101), male, label = \"male\")\n",
    "plt.barh(range(101), female, label = \"female\")\n",
    "plt.legend()\n",
    "plt.show()"
   ]
  },
  {
   "cell_type": "code",
   "execution_count": 45,
   "metadata": {},
   "outputs": [
    {
     "name": "stdout",
     "output_type": "stream",
     "text": [
      "4744059 4985048\n"
     ]
    },
    {
     "data": {
      "text/plain": [
       "([<matplotlib.patches.Wedge at 0x29153478b48>,\n",
       "  <matplotlib.patches.Wedge at 0x2915347c388>],\n",
       " [Text(0.04278852063658359, 1.0991674770032693, 'Male'),\n",
       "  Text(-0.04278852063658373, -1.0991674770032693, 'Female')],\n",
       " [Text(0.023339193074500136, 0.5995458965472378, '48.8%'),\n",
       "  Text(-0.023339193074500213, -0.5995458965472378, '51.2%')])"
      ]
     },
     "execution_count": 45,
     "metadata": {},
     "output_type": "execute_result"
    },
    {
     "data": {
      "image/png": "[encoded data removed]",
      "text/plain": [
       "<Figure size 432x288 with 1 Axes>"
      ]
     },
     "metadata": {},
     "output_type": "display_data"
    }
   ],
   "source": [
    "# piehcar\n",
    "f3 = open(\"c:/sample/age.csv\")\n",
    "data3 = csv.reader(f3)\n",
    "header3 = next(data3)\n",
    "male_cnt = 0\n",
    "female_cnt = 0\n",
    "for row in data3:\n",
    "    if \"서울특별시\" in row[0]:\n",
    "        for i in row[3:104]:\n",
    "            m = i.replace(\",\",\"\")\n",
    "            male_cnt = male_cnt + (int(m))\n",
    "        for j in row[106:]:\n",
    "            f = j.replace(\",\",\"\")\n",
    "            female_cnt = female_cnt + (int(f))\n",
    "print(male_cnt, female_cnt)\n",
    "plt.pie([male_cnt, female_cnt], labels = [\"Male\", \"Female\"], autopct = \"%.1f%%\")"
   ]
  }
 ],
 "metadata": {
  "kernelspec": {
   "display_name": "Python 3",
   "language": "python",
   "name": "python3"
  },
  "language_info": {
   "codemirror_mode": {
    "name": "ipython",
    "version": 3
   },
   "file_extension": ".py",
   "mimetype": "text/x-python",
   "name": "python",
   "nbconvert_exporter": "python",
   "pygments_lexer": "ipython3",
   "version": "3.7.4"
  }
 },
 "nbformat": 4,
 "nbformat_minor": 2
}
