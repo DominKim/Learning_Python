{
 "cells": [
  {
   "cell_type": "code",
   "execution_count": 1,
   "metadata": {},
   "outputs": [
    {
     "name": "stdout",
     "output_type": "stream",
     "text": [
      "{'name': 'ruffy', 'age': 17}\n",
      "{'name': 'zoro', 'age': 19}\n"
     ]
    }
   ],
   "source": [
    "p1 = {\"name\" : \"ruffy\", \"age\" : 17}\n",
    "p2 = {\"name\" : \"zoro\", \"age\" : 19}\n",
    "print(p1)\n",
    "print(p2)"
   ]
  },
  {
   "cell_type": "code",
   "execution_count": 9,
   "metadata": {},
   "outputs": [],
   "source": [
    "# 사용자가 새로 만든 데이터 타입 -> 클래스\n",
    "class Pirate:\n",
    "    def __init__(self, name = \"\", age = 0): # 메서드(생성자 메서드) : 클래스 안에 있는 함수\n",
    "        self.name = name\n",
    "        self.age = age\n",
    "p3 = Pirate(\"ruppy\", 17) # class 함수 앞에 있는 걔 self\n",
    "# p3.name = \"ruppy\"\n",
    "# p3.age = 17"
   ]
  },
  {
   "cell_type": "code",
   "execution_count": 23,
   "metadata": {},
   "outputs": [
    {
     "name": "stdout",
     "output_type": "stream",
     "text": [
      "5\n"
     ]
    }
   ],
   "source": [
    "data = []\n",
    "p = Pirate(\"루피\", 17)\n",
    "data.append(p)\n",
    "data.append(Pirate(\"조로\", 20))\n",
    "data.append(Pirate(\"나미\", 19))\n",
    "data.append(Pirate(\"상디\", 19))\n",
    "data.append(Pirate(\"우솦\", 18))\n",
    "print(len(data))"
   ]
  },
  {
   "cell_type": "code",
   "execution_count": 15,
   "metadata": {},
   "outputs": [
    {
     "name": "stdout",
     "output_type": "stream",
     "text": [
      "루피 17\n",
      "조로 20\n",
      "나미 19\n",
      "상디 19\n",
      "우솦 18\n"
     ]
    }
   ],
   "source": [
    "for i in range(len(data)):\n",
    "    print(data[i].name, data[i].age)"
   ]
  },
  {
   "cell_type": "code",
   "execution_count": 16,
   "metadata": {},
   "outputs": [
    {
     "name": "stdout",
     "output_type": "stream",
     "text": [
      "조로 20\n",
      "나미 19\n",
      "상디 19\n"
     ]
    }
   ],
   "source": [
    "for i in range(len(data)):\n",
    "    if (data[i].age >= 19):\n",
    "        print(data[i].name, data[i].age)"
   ]
  },
  {
   "cell_type": "code",
   "execution_count": 17,
   "metadata": {},
   "outputs": [
    {
     "name": "stdout",
     "output_type": "stream",
     "text": [
      "루피 17\n"
     ]
    }
   ],
   "source": [
    "for i in range(len(data)):\n",
    "    if (\"루\" in data[i].name):\n",
    "        print(data[i].name, data[i].age)"
   ]
  },
  {
   "cell_type": "code",
   "execution_count": 19,
   "metadata": {},
   "outputs": [
    {
     "name": "stdout",
     "output_type": "stream",
     "text": [
      "루피 16\n"
     ]
    }
   ],
   "source": [
    "for i in range(len(data)):\n",
    "    if (data[i].name == \"루피\"):\n",
    "        data[i].age = 16\n",
    "        print(data[i].name, data[i].age)"
   ]
  },
  {
   "cell_type": "code",
   "execution_count": 29,
   "metadata": {},
   "outputs": [
    {
     "name": "stdout",
     "output_type": "stream",
     "text": [
      "루피 17\n",
      "조로 20\n",
      "나미 19\n",
      "상디 19\n"
     ]
    }
   ],
   "source": [
    "for i in range(len(data)):\n",
    "    if (data[i].name == \"우솦\"):\n",
    "        data.remove(data[i])\n",
    "\n",
    "for i in range(len(data)):\n",
    "    print(data[i].name, data[i].age)"
   ]
  },
  {
   "cell_type": "code",
   "execution_count": 41,
   "metadata": {},
   "outputs": [
    {
     "name": "stdout",
     "output_type": "stream",
     "text": [
      "['루피', '조로', '나미', '상디']\n",
      "[17, 20, 19, 19]\n"
     ]
    },
    {
     "data": {
      "text/html": [
       "<div>\n",
       "<style scoped>\n",
       "    .dataframe tbody tr th:only-of-type {\n",
       "        vertical-align: middle;\n",
       "    }\n",
       "\n",
       "    .dataframe tbody tr th {\n",
       "        vertical-align: top;\n",
       "    }\n",
       "\n",
       "    .dataframe thead th {\n",
       "        text-align: right;\n",
       "    }\n",
       "</style>\n",
       "<table border=\"1\" class=\"dataframe\">\n",
       "  <thead>\n",
       "    <tr style=\"text-align: right;\">\n",
       "      <th></th>\n",
       "      <th>이름</th>\n",
       "      <th>나이</th>\n",
       "    </tr>\n",
       "  </thead>\n",
       "  <tbody>\n",
       "    <tr>\n",
       "      <td>0</td>\n",
       "      <td>루피</td>\n",
       "      <td>17</td>\n",
       "    </tr>\n",
       "    <tr>\n",
       "      <td>1</td>\n",
       "      <td>조로</td>\n",
       "      <td>20</td>\n",
       "    </tr>\n",
       "    <tr>\n",
       "      <td>2</td>\n",
       "      <td>나미</td>\n",
       "      <td>19</td>\n",
       "    </tr>\n",
       "    <tr>\n",
       "      <td>3</td>\n",
       "      <td>상디</td>\n",
       "      <td>19</td>\n",
       "    </tr>\n",
       "  </tbody>\n",
       "</table>\n",
       "</div>"
      ],
      "text/plain": [
       "   이름  나이\n",
       "0  루피  17\n",
       "1  조로  20\n",
       "2  나미  19\n",
       "3  상디  19"
      ]
     },
     "execution_count": 41,
     "metadata": {},
     "output_type": "execute_result"
    }
   ],
   "source": [
    "name_list = []\n",
    "age_list = []\n",
    "for i in range(len(data)):\n",
    "    name_list.append(data[i].name)\n",
    "    age_list.append(data[i].age)\n",
    "print(name_list)\n",
    "print(age_list)\n",
    "\n",
    "import pandas as pd\n",
    "df = pd.DataFrame({\"이름\" : name_list, \"나이\" : age_list})\n",
    "df"
   ]
  },
  {
   "cell_type": "code",
   "execution_count": 6,
   "metadata": {},
   "outputs": [
    {
     "name": "stdout",
     "output_type": "stream",
     "text": [
      "<_mysql.connection open to 'localhost' at 000001FD743B3488>\n",
      "(('d001', 'Marketing'), ('d002', 'Finance'), ('d003', 'Human Resources'), ('d004', 'Production'), ('d005', 'Development'), ('d006', 'Quality Management'), ('d007', 'Sales'), ('d008', 'Research'), ('d009', 'Customer Service'))\n",
      "['d001', 'd002', 'd003', 'd004', 'd005', 'd006', 'd007', 'd008', 'd009']\n",
      "['Marketing', 'Finance', 'Human Resources', 'Production', 'Development', 'Quality Management', 'Sales', 'Research', 'Customer Service']\n"
     ]
    },
    {
     "data": {
      "text/html": [
       "<div>\n",
       "<style scoped>\n",
       "    .dataframe tbody tr th:only-of-type {\n",
       "        vertical-align: middle;\n",
       "    }\n",
       "\n",
       "    .dataframe tbody tr th {\n",
       "        vertical-align: top;\n",
       "    }\n",
       "\n",
       "    .dataframe thead th {\n",
       "        text-align: right;\n",
       "    }\n",
       "</style>\n",
       "<table border=\"1\" class=\"dataframe\">\n",
       "  <thead>\n",
       "    <tr style=\"text-align: right;\">\n",
       "      <th></th>\n",
       "      <th>dept_no</th>\n",
       "      <th>dept_name</th>\n",
       "    </tr>\n",
       "  </thead>\n",
       "  <tbody>\n",
       "    <tr>\n",
       "      <td>0</td>\n",
       "      <td>d001</td>\n",
       "      <td>Marketing</td>\n",
       "    </tr>\n",
       "    <tr>\n",
       "      <td>1</td>\n",
       "      <td>d002</td>\n",
       "      <td>Finance</td>\n",
       "    </tr>\n",
       "    <tr>\n",
       "      <td>2</td>\n",
       "      <td>d003</td>\n",
       "      <td>Human Resources</td>\n",
       "    </tr>\n",
       "    <tr>\n",
       "      <td>3</td>\n",
       "      <td>d004</td>\n",
       "      <td>Production</td>\n",
       "    </tr>\n",
       "    <tr>\n",
       "      <td>4</td>\n",
       "      <td>d005</td>\n",
       "      <td>Development</td>\n",
       "    </tr>\n",
       "    <tr>\n",
       "      <td>5</td>\n",
       "      <td>d006</td>\n",
       "      <td>Quality Management</td>\n",
       "    </tr>\n",
       "    <tr>\n",
       "      <td>6</td>\n",
       "      <td>d007</td>\n",
       "      <td>Sales</td>\n",
       "    </tr>\n",
       "    <tr>\n",
       "      <td>7</td>\n",
       "      <td>d008</td>\n",
       "      <td>Research</td>\n",
       "    </tr>\n",
       "    <tr>\n",
       "      <td>8</td>\n",
       "      <td>d009</td>\n",
       "      <td>Customer Service</td>\n",
       "    </tr>\n",
       "  </tbody>\n",
       "</table>\n",
       "</div>"
      ],
      "text/plain": [
       "  dept_no           dept_name\n",
       "0    d001           Marketing\n",
       "1    d002             Finance\n",
       "2    d003     Human Resources\n",
       "3    d004          Production\n",
       "4    d005         Development\n",
       "5    d006  Quality Management\n",
       "6    d007               Sales\n",
       "7    d008            Research\n",
       "8    d009    Customer Service"
      ]
     },
     "execution_count": 6,
     "metadata": {},
     "output_type": "execute_result"
    }
   ],
   "source": [
    "import pandas as pd\n",
    "import MySQLdb\n",
    "conn = MySQLdb.connect(host = \"localhost\", port = 3306, db = \"employees\", user = \"root\", password = \"python1234\")\n",
    "print(conn)\n",
    "cursor = conn.cursor()\n",
    "cursor.execute(\"select dept_no, dept_name from departments order by dept_no\")\n",
    "rows = cursor.fetchall()\n",
    "print(rows)\n",
    "no_list = []\n",
    "name_list = []\n",
    "for row in rows:\n",
    "    no_list.append(row[0])\n",
    "    name_list.append(row[1])\n",
    "print(no_list)\n",
    "print(name_list)\n",
    "dept = pd.DataFrame({\"dept_no\" : no_list, \"dept_name\" : name_list})\n",
    "dept"
   ]
  },
  {
   "cell_type": "code",
   "execution_count": null,
   "metadata": {},
   "outputs": [],
   "source": []
  }
 ],
 "metadata": {
  "kernelspec": {
   "display_name": "Python 3",
   "language": "python",
   "name": "python3"
  },
  "language_info": {
   "codemirror_mode": {
    "name": "ipython",
    "version": 3
   },
   "file_extension": ".py",
   "mimetype": "text/x-python",
   "name": "python",
   "nbconvert_exporter": "python",
   "pygments_lexer": "ipython3",
   "version": "3.7.4"
  }
 },
 "nbformat": 4,
 "nbformat_minor": 2
}
