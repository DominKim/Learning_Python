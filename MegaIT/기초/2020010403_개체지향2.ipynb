{
 "cells": [
  {
   "cell_type": "code",
   "execution_count": 12,
   "metadata": {},
   "outputs": [
    {
     "name": "stdout",
     "output_type": "stream",
     "text": [
      "루피 16\n",
      "나미 19\n",
      "('루피', 16)\n"
     ]
    }
   ],
   "source": [
    "class Pirate:\n",
    "        def __init__(self, name = \"\", age=0): # 생성자 메서드\n",
    "            self.name = name\n",
    "            self.age = age\n",
    "        def printName(self): # 메서드가 되려면 매개변수를 self로 받으면 된다, 메서드는 class 안에 무조건 들어 가야됨\n",
    "            print(\"name.....\")\n",
    "        def set_name(self, name): # 메서드\n",
    "            self.name = name\n",
    "        def get_name(self):\n",
    "            return self.name\n",
    "        def set_age(self, age):\n",
    "            self.age = age\n",
    "        def get_age(self):\n",
    "            return self.age\n",
    "        def to_string(self):\n",
    "            return self.name, self.age\n",
    "p1 = Pirate()\n",
    "p1.set_name(\"루피\")\n",
    "p1.set_age(16)\n",
    "print(p1.get_name(), p1.get_age())\n",
    "p2 = Pirate(\"나미\", 19)\n",
    "print(p2.get_name(), p2.get_age())\n",
    "print(p1.to_string())"
   ]
  },
  {
   "cell_type": "code",
   "execution_count": 23,
   "metadata": {},
   "outputs": [
    {
     "name": "stdout",
     "output_type": "stream",
     "text": [
      "조로,남,19\n"
     ]
    },
    {
     "data": {
      "text/plain": [
       "['__class__',\n",
       " '__delattr__',\n",
       " '__dict__',\n",
       " '__dir__',\n",
       " '__doc__',\n",
       " '__eq__',\n",
       " '__format__',\n",
       " '__ge__',\n",
       " '__getattribute__',\n",
       " '__gt__',\n",
       " '__hash__',\n",
       " '__init__',\n",
       " '__init_subclass__',\n",
       " '__le__',\n",
       " '__lt__',\n",
       " '__module__',\n",
       " '__ne__',\n",
       " '__new__',\n",
       " '__reduce__',\n",
       " '__reduce_ex__',\n",
       " '__repr__',\n",
       " '__setattr__',\n",
       " '__sizeof__',\n",
       " '__str__',\n",
       " '__subclasshook__',\n",
       " '__weakref__',\n",
       " 'get_age',\n",
       " 'get_gender',\n",
       " 'get_name',\n",
       " 'printName',\n",
       " 'set_age',\n",
       " 'set_gender',\n",
       " 'set_name',\n",
       " 'to_string']"
      ]
     },
     "execution_count": 23,
     "metadata": {},
     "output_type": "execute_result"
    }
   ],
   "source": [
    "class Pirate:\n",
    "        def __init__(self, name = \"\", age=0):\n",
    "            self.name = name\n",
    "            self.age = age\n",
    "        def printName(self): # 메서드가 되려면 매개변수를 self로 받으면 된다, 메서드는 class 안에 무조건 들어 가야됨\n",
    "            print(\"name.....\")\n",
    "        def set_name(self, name): # 메서드\n",
    "            self.name = name\n",
    "        def get_name(self):\n",
    "            return self.name\n",
    "        def set_age(self, age):\n",
    "            self.age = age\n",
    "        def get_age(self):\n",
    "            return self.age\n",
    "        def to_string(self):\n",
    "            return self.name, self.age\n",
    "        \n",
    "# 상속 : 이미 있는 함수를 가지고 새로운 함수를 만드는거\n",
    "class Pirate2(Pirate): # 상속\n",
    "    def __init__(self, name = \"\", age = 0, gender = \"\"): # 생성자 오버라이딩\n",
    "        Pirate.__init__(self, name,age)\n",
    "        self.gender = gender\n",
    "    def set_gender(self, gender):\n",
    "        self.gender = gender\n",
    "    def get_gender(self):\n",
    "        return self. gender\n",
    "    def to_string(self): # 메서드 오버라이딩 : 기존에 있던 메서드를 같은 메서드 문자를 써서 덮어쓰기\n",
    "        return self.name + \",\" + self.gender + \",\" + str(self.age)\n",
    "\n",
    "p2 = Pirate2(\"조로\", 19, \"남\")\n",
    "print(p2.to_string())\n",
    "dir(Pirate2)"
   ]
  },
  {
   "cell_type": "code",
   "execution_count": null,
   "metadata": {},
   "outputs": [],
   "source": []
  }
 ],
 "metadata": {
  "kernelspec": {
   "display_name": "Python 3",
   "language": "python",
   "name": "python3"
  },
  "language_info": {
   "codemirror_mode": {
    "name": "ipython",
    "version": 3
   },
   "file_extension": ".py",
   "mimetype": "text/x-python",
   "name": "python",
   "nbconvert_exporter": "python",
   "pygments_lexer": "ipython3",
   "version": "3.7.4"
  }
 },
 "nbformat": 4,
 "nbformat_minor": 2
}
