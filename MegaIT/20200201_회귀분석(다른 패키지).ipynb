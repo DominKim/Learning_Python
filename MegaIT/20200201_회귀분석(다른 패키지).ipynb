{
 "cells": [
  {
   "cell_type": "code",
   "execution_count": 1,
   "metadata": {},
   "outputs": [],
   "source": [
    "import statsmodels.api as sm\n",
    "from sklearn import datasets"
   ]
  },
  {
   "cell_type": "code",
   "execution_count": 5,
   "metadata": {},
   "outputs": [
    {
     "name": "stdout",
     "output_type": "stream",
     "text": [
      "                                 OLS Regression Results                                \n",
      "=======================================================================================\n",
      "Dep. Variable:                      y   R-squared (uncentered):                   0.959\n",
      "Model:                            OLS   Adj. R-squared (uncentered):              0.958\n",
      "Method:                 Least Squares   F-statistic:                              891.3\n",
      "Date:                Sat, 01 Feb 2020   Prob (F-statistic):                        0.00\n",
      "Time:                        17:39:35   Log-Likelihood:                         -1523.8\n",
      "No. Observations:                 506   AIC:                                      3074.\n",
      "Df Residuals:                     493   BIC:                                      3128.\n",
      "Df Model:                          13                                                  \n",
      "Covariance Type:            nonrobust                                                  \n",
      "==============================================================================\n",
      "                 coef    std err          t      P>|t|      [0.025      0.975]\n",
      "------------------------------------------------------------------------------\n",
      "x1            -0.0929      0.034     -2.699      0.007      -0.161      -0.025\n",
      "x2             0.0487      0.014      3.382      0.001       0.020       0.077\n",
      "x3            -0.0041      0.064     -0.063      0.950      -0.131       0.123\n",
      "x4             2.8540      0.904      3.157      0.002       1.078       4.630\n",
      "x5            -2.8684      3.359     -0.854      0.394      -9.468       3.731\n",
      "x6             5.9281      0.309     19.178      0.000       5.321       6.535\n",
      "x7            -0.0073      0.014     -0.526      0.599      -0.034       0.020\n",
      "x8            -0.9685      0.196     -4.951      0.000      -1.353      -0.584\n",
      "x9             0.1712      0.067      2.564      0.011       0.040       0.302\n",
      "x10           -0.0094      0.004     -2.395      0.017      -0.017      -0.002\n",
      "x11           -0.3922      0.110     -3.570      0.000      -0.608      -0.176\n",
      "x12            0.0149      0.003      5.528      0.000       0.010       0.020\n",
      "x13           -0.4163      0.051     -8.197      0.000      -0.516      -0.317\n",
      "==============================================================================\n",
      "Omnibus:                      204.082   Durbin-Watson:                   0.999\n",
      "Prob(Omnibus):                  0.000   Jarque-Bera (JB):             1374.225\n",
      "Skew:                           1.609   Prob(JB):                    3.90e-299\n",
      "Kurtosis:                      10.404   Cond. No.                     8.50e+03\n",
      "==============================================================================\n",
      "\n",
      "Warnings:\n",
      "[1] Standard Errors assume that the covariance matrix of the errors is correctly specified.\n",
      "[2] The condition number is large, 8.5e+03. This might indicate that there are\n",
      "strong multicollinearity or other numerical problems.\n"
     ]
    }
   ],
   "source": [
    "boston = datasets.load_boston()\n",
    "X = sm.add_constant(boston.target)\n",
    "model= sm.OLS(boston.target, boston.data)\n",
    "result = model.fit()\n",
    "print(result.summary())"
   ]
  },
  {
   "cell_type": "code",
   "execution_count": null,
   "metadata": {},
   "outputs": [],
   "source": []
  }
 ],
 "metadata": {
  "kernelspec": {
   "display_name": "Python 3",
   "language": "python",
   "name": "python3"
  },
  "language_info": {
   "codemirror_mode": {
    "name": "ipython",
    "version": 3
   },
   "file_extension": ".py",
   "mimetype": "text/x-python",
   "name": "python",
   "nbconvert_exporter": "python",
   "pygments_lexer": "ipython3",
   "version": "3.7.4"
  }
 },
 "nbformat": 4,
 "nbformat_minor": 2
}
