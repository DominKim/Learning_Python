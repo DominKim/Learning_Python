{
 "cells": [
  {
   "cell_type": "code",
   "execution_count": null,
   "metadata": {},
   "outputs": [],
   "source": [
    "'''\n",
    "예외 : 프로그램 실행상태에서 예기치 않은 상황(오류)\n",
    "try:\n",
    "    예외발생 코드\n",
    "except:\n",
    "    예외처리 코드\n",
    "finally:\n",
    "    항상처리 코드\n",
    "'''\n",
    "print(\"프로그램 시작\")\n",
    "x = [10, 20, 35.5, 15, \"num\", 14.5]\n",
    "\n",
    "for i in x:\n",
    "    print(i)\n",
    "    y = i ** 2\n",
    "    print(\"y =\", y)\n",
    "    \n",
    "# 1. 간단한 예외처리\n",
    "for i in x:\n",
    "    try:\n",
    "        print(i)\n",
    "        y = i ** 2\n",
    "        print(\"y =\", y)\n",
    "    except Exception as e:\n",
    "        print(\"예외발생(숫자 아님) :\", e)\n",
    "print(\"프로그램종료\")"
   ]
  },
  {
   "cell_type": "code",
   "execution_count": 5,
   "metadata": {},
   "outputs": [
    {
     "name": "stdout",
     "output_type": "stream",
     "text": [
      "유향뱔 예외처리\n",
      "div = 400.000\n",
      "숫자 입력 : 10\n",
      "프로그램 종료\n"
     ]
    }
   ],
   "source": [
    "# 2. 유형별 예외처리\n",
    "print(\"유향뱔 예외처리\")\n",
    "\n",
    "try:\n",
    "    div = 1000 / 2.5 # 정상\n",
    "    print(\"div = %.3f\" % div)\n",
    "    # div2 = 1000 / 0 # 산술적 예외\n",
    "    # print(\"div = %.3f\" % div2)\n",
    "    # f = open(\"!23\") # 2차 : 파일 열기\n",
    "    num = int(input(\"숫자 입력 : \")) # 3차 : 기타 예외발생\n",
    "except ZeroDivisionError as e: # class as\n",
    "    print(\"예외발생 :\", e)\n",
    "except FileNotFoundError as e:\n",
    "    print(\"예외발생 :\", e)\n",
    "except Exception as e:\n",
    "    print(\"예외발생 : \", e)\n",
    "finally:\n",
    "    print(\"프로그램 종료\")"
   ]
  }
 ],
 "metadata": {
  "kernelspec": {
   "display_name": "Python 3",
   "language": "python",
   "name": "python3"
  },
  "language_info": {
   "codemirror_mode": {
    "name": "ipython",
    "version": 3
   },
   "file_extension": ".py",
   "mimetype": "text/x-python",
   "name": "python",
   "nbconvert_exporter": "python",
   "pygments_lexer": "ipython3",
   "version": "3.7.4"
  }
 },
 "nbformat": 4,
 "nbformat_minor": 2
}
