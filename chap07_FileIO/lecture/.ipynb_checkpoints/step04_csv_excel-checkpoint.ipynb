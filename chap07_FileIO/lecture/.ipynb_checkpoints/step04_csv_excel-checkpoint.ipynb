{
 "cells": [
  {
   "cell_type": "code",
   "execution_count": 6,
   "metadata": {},
   "outputs": [
    {
     "name": "stdout",
     "output_type": "stream",
     "text": [
      "<class 'pandas.core.frame.DataFrame'>\n",
      "RangeIndex: 5 entries, 0 to 4\n",
      "Data columns (total 2 columns):\n",
      "0    5 non-null object\n",
      "1    5 non-null object\n",
      "dtypes: object(2)\n",
      "memory usage: 208.0+ bytes\n",
      "None\n",
      "      0                        1\n",
      "0   ham    우리나라    대한민국, 우리나라 만세\n",
      "1  spam      비아그라 500GRAM 정력 최고!\n",
      "2   ham               나는 대한민국 사람\n",
      "3  spam  보험료 15000원에 평생 보장 마감 임박\n",
      "4   ham                   나는 홍길동\n"
     ]
    }
   ],
   "source": [
    "'''\n",
    "csv, excel file read / write\n",
    " - 컬럼 단위로 작성된 파일 유형\n",
    " \n",
    "cmd에서 외부 라이브러리 설치\n",
    " pip install package명\n",
    "'''\n",
    "import pandas as pd\n",
    "spam_data = pd.read_csv(\"../data/spam_data.csv\", header = None, encoding = \"ms949\")\n",
    "print(spam_data.info())\n",
    "'''\n",
    "<class 'pandas.core.frame.DataFrame'>\n",
    "RangeIndex: 5 entries, 0 to 4 : 관측치\n",
    "Data columns (total 2 columns): 컬럼\n",
    "'''\n",
    "print(spam_data)"
   ]
  },
  {
   "cell_type": "code",
   "execution_count": 7,
   "metadata": {},
   "outputs": [
    {
     "name": "stdout",
     "output_type": "stream",
     "text": [
      "0     ham\n",
      "1    spam\n",
      "2     ham\n",
      "3    spam\n",
      "4     ham\n",
      "Name: 0, dtype: object\n",
      "0      우리나라    대한민국, 우리나라 만세\n",
      "1        비아그라 500GRAM 정력 최고!\n",
      "2                 나는 대한민국 사람\n",
      "3    보험료 15000원에 평생 보장 마감 임박\n",
      "4                     나는 홍길동\n",
      "Name: 1, dtype: object\n"
     ]
    }
   ],
   "source": [
    "# 2. x, y 변수 선택\n",
    "target = spam_data[0] # DF[컬럼]\n",
    "texts = spam_data[1]\n",
    "print(target)\n",
    "print(texts)"
   ]
  },
  {
   "cell_type": "code",
   "execution_count": 8,
   "metadata": {},
   "outputs": [
    {
     "name": "stdout",
     "output_type": "stream",
     "text": [
      "[0, 1, 0, 1, 0]\n"
     ]
    }
   ],
   "source": [
    "# 3. target -> dummy\n",
    "target = [1 if i == \"spam\" else 0 for i in target]\n",
    "print(target) # [0, 1, 0, 1, 0]"
   ]
  },
  {
   "cell_type": "code",
   "execution_count": 11,
   "metadata": {},
   "outputs": [
    {
     "name": "stdout",
     "output_type": "stream",
     "text": [
      "텍스트 전처리 후\n",
      "['우리나라 대한민국 우리나라 만세', '비아그라 정력 최고', '나는 대한민국 사람', '보험료 원에 평생 보장 마감 임박', '나는 홍길동']\n"
     ]
    }
   ],
   "source": [
    "# 4. text 전처리\n",
    "def clean_text(texts):\n",
    "    from re import sub  # gsub() 유사함\n",
    "\n",
    "    # 1. 소문자 변경\n",
    "    texts_re = texts.lower() # 문장 1개 소문자 변경\n",
    "\n",
    "    # 2. 숫자 제거(불용어 제거 (1))\n",
    "    texts_re2 = sub(\"[0-9]\", \"\", texts_re)\n",
    "\n",
    "    # 3. 문장부호 제거(불용어 제거 (2))\n",
    "    punc_str = \"[.,;:!?]\"\n",
    "    texts_re3 = sub(punc_str, \"\", texts_re2)\n",
    "\n",
    "    # 4. 문장부호 제거(불용어 제거 (3))\n",
    "    spec_str = \"[!@#$%^&*()]\"\n",
    "    texts_re4 = sub(spec_str, \"\", texts_re3)\n",
    "    \n",
    "    # 5. 영문자 제거\n",
    "    texts_re5 = sub(\"[a-z]\", \"\", texts_re4)\n",
    "\n",
    "    # 6. 공백(white space) 제거(불용어 제거 (4)) : 'abtta a' -> ''.join('abtta', 'a') -> 'abttaa'\n",
    "    texts_re6 = \" \".join(texts_re5.split())\n",
    "\n",
    "    return texts_re6\n",
    "\n",
    "clean_texts = [clean_text(text) for text in texts]\n",
    "print(\"텍스트 전처리 후\")\n",
    "print(clean_texts)"
   ]
  },
  {
   "cell_type": "code",
   "execution_count": 17,
   "metadata": {},
   "outputs": [
    {
     "name": "stdout",
     "output_type": "stream",
     "text": [
      "<class 'pandas.core.frame.DataFrame'>\n",
      "RangeIndex: 20000 entries, 0 to 19999\n",
      "Data columns (total 3 columns):\n",
      "height    20000 non-null int64\n",
      "weight    20000 non-null int64\n",
      "label     20000 non-null object\n",
      "dtypes: int64(2), object(1)\n",
      "memory usage: 468.9+ KB\n",
      "None\n",
      "   height  weight   label\n",
      "0     184      61    thin\n",
      "1     189      56    thin\n",
      "2     183      79  normal\n",
      "3     143      40  normal\n",
      "4     187      66  normal\n",
      "       height  weight   label\n",
      "19995     168      74     fat\n",
      "19996     190      62    thin\n",
      "19997     179      77  normal\n",
      "19998     148      57     fat\n",
      "19999     167      71     fat\n",
      "20000\n",
      "20000\n",
      "키 평균 : 164.9379\n",
      "몸무게 평균 : 62.40995\n",
      "max h = 190 \n",
      "max w = 85\n",
      "정규화\n",
      "0        0.968421\n",
      "1        0.994737\n",
      "2        0.963158\n",
      "3        0.752632\n",
      "4        0.984211\n",
      "           ...   \n",
      "19995    0.884211\n",
      "19996    1.000000\n",
      "19997    0.942105\n",
      "19998    0.778947\n",
      "19999    0.878947\n",
      "Name: height, Length: 20000, dtype: float64\n",
      "0        0.717647\n",
      "1        0.658824\n",
      "2        0.929412\n",
      "3        0.470588\n",
      "4        0.776471\n",
      "           ...   \n",
      "19995    0.870588\n",
      "19996    0.729412\n",
      "19997    0.905882\n",
      "19998    0.670588\n",
      "19999    0.835294\n",
      "Name: weight, Length: 20000, dtype: float64\n",
      "normal    7677\n",
      "fat       7425\n",
      "thin      4898\n",
      "Name: label, dtype: int64\n"
     ]
    }
   ],
   "source": [
    "############\n",
    "## bmi.csv\n",
    "############\n",
    "# 1. read.csv\n",
    "bmi = pd.read_csv(\"../data/bmi.csv\", encoding = \"utf-8\")\n",
    "print(bmi.info())\n",
    "'''\n",
    "RangeIndex: 20000 entries, 0 to 19999\n",
    "Data columns (total 3 columns):\n",
    "'''\n",
    "print(bmi.head()) # 앞부분 5개\n",
    "print(bmi.tail()) # 뒤부분 5개\n",
    "\n",
    "height = bmi[\"height\"] # DF[\"컬럼명\"]\n",
    "weight = bmi[\"weight\"]\n",
    "label = bmi.label # DF.컬럼명\n",
    "\n",
    "print(len(height))\n",
    "print(len(label))\n",
    "\n",
    "print(\"키 평균 :\", height.mean())\n",
    "print(\"몸무게 평균 :\", weight.mean())\n",
    "'''\n",
    "키 평균 : 164.9379\n",
    "몸무게 평균 : 62.40995\n",
    "'''\n",
    "\n",
    "# max() / min()\n",
    "max_h = max(height)\n",
    "max_w = max(weight)\n",
    "print(\"max h =\", max_h, \"\\nmax w =\", max_w)\n",
    "\n",
    "print(\"정규화\")\n",
    "height_nor = height / max_h\n",
    "weight_nor = weight / max_w\n",
    "\n",
    "print(height_nor)\n",
    "print(weight_nor)\n",
    "\n",
    "# 범주형 변수 : label\n",
    "lab_cnt = label.value_counts() # 빈도수\n",
    "print(lab_cnt)"
   ]
  },
  {
   "cell_type": "code",
   "execution_count": 8,
   "metadata": {},
   "outputs": [
    {
     "name": "stdout",
     "output_type": "stream",
     "text": [
      "<pandas.io.excel._base.ExcelFile object at 0x11d74b590>\n",
      "          Date     Open     High      Low    Close  Volume\n",
      "0   2015-10-30  1345000  1390000  1341000  1372000  498776\n",
      "1   2015-10-29  1330000  1392000  1324000  1325000  622336\n",
      "2   2015-10-28  1294000  1308000  1291000  1308000  257374\n",
      "3   2015-10-27  1282000  1299000  1281000  1298000  131144\n",
      "4   2015-10-26  1298000  1298000  1272000  1292000  151996\n",
      "..         ...      ...      ...      ...      ...     ...\n",
      "242 2014-11-07  1218000  1218000  1195000  1206000  107688\n",
      "243 2014-11-06  1198000  1210000  1193000  1204000  168497\n",
      "244 2014-11-05  1215000  1225000  1194000  1202000  187182\n",
      "245 2014-11-04  1219000  1242000  1205000  1217000  237045\n",
      "246 2014-11-03  1250000  1252000  1216000  1235000  263940\n",
      "\n",
      "[247 rows x 6 columns]\n",
      "<class 'pandas.core.frame.DataFrame'>\n",
      "RangeIndex: 247 entries, 0 to 246\n",
      "Data columns (total 6 columns):\n",
      "Date      247 non-null datetime64[ns]\n",
      "Open      247 non-null int64\n",
      "High      247 non-null int64\n",
      "Low       247 non-null int64\n",
      "Close     247 non-null int64\n",
      "Volume    247 non-null int64\n",
      "dtypes: datetime64[ns](1), int64(5)\n",
      "memory usage: 11.7 KB\n",
      "None\n"
     ]
    },
    {
     "data": {
      "text/plain": [
       "'\\nRangeIndex: 247 entries, 0 to 246\\nData columns (total 6 columns):\\n'"
      ]
     },
     "execution_count": 8,
     "metadata": {},
     "output_type": "execute_result"
    }
   ],
   "source": [
    "# excel file read\n",
    "import pandas as pd\n",
    "excel = pd.ExcelFile(\"../data/sam_kospi.xlsx\")\n",
    "print(excel)\n",
    "kospi = excel.parse(\"sam_kospi\")\n",
    "print(kospi)\n",
    "print(kospi.info())\n",
    "'''\n",
    "RangeIndex: 247 entries, 0 to 246\n",
    "Data columns (total 6 columns):\n",
    "'''"
   ]
  },
  {
   "cell_type": "code",
   "execution_count": 15,
   "metadata": {},
   "outputs": [
    {
     "name": "stdout",
     "output_type": "stream",
     "text": [
      "<class 'pandas.core.frame.DataFrame'>\n",
      "RangeIndex: 247 entries, 0 to 246\n",
      "Data columns (total 7 columns):\n",
      "Date      247 non-null object\n",
      "Open      247 non-null int64\n",
      "High      247 non-null int64\n",
      "Low       247 non-null int64\n",
      "Close     247 non-null int64\n",
      "Volume    247 non-null int64\n",
      "diff      247 non-null int64\n",
      "dtypes: int64(6), object(1)\n",
      "memory usage: 13.6+ KB\n",
      "None\n",
      "종료\n"
     ]
    }
   ],
   "source": [
    "# 3. csv file save\n",
    "\n",
    "kospi[\"diff\"] = kospi.High - kospi.Low\n",
    "kospi.to_csv(\"../data/kospi_df.csv\", index = None, encoding = \"utf-8\")\n",
    "try:\n",
    "    kospi_df = pd.read_csv(\"../data/kospi_df.csv\", encoding = \"utf-8\")\n",
    "    print(kospi_df.info())\n",
    "except Exception as e:\n",
    "    print(e)\n",
    "finally:\n",
    "    print(\"종료\")"
   ]
  }
 ],
 "metadata": {
  "kernelspec": {
   "display_name": "Python 3",
   "language": "python",
   "name": "python3"
  },
  "language_info": {
   "codemirror_mode": {
    "name": "ipython",
    "version": 3
   },
   "file_extension": ".py",
   "mimetype": "text/x-python",
   "name": "python",
   "nbconvert_exporter": "python",
   "pygments_lexer": "ipython3",
   "version": "3.7.4"
  }
 },
 "nbformat": 4,
 "nbformat_minor": 2
}
