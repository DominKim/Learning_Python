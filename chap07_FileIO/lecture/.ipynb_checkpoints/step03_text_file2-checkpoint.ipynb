{
 "cells": [
  {
   "cell_type": "code",
   "execution_count": null,
   "metadata": {},
   "outputs": [
    {
     "name": "stdout",
     "output_type": "stream",
     "text": [
      "동 입력 : 삼산동\n"
     ]
    }
   ],
   "source": [
    "'''\n",
    "우편번호 검색 * tav : 8칸 이사으이 공백\n",
    "[우펴번호]tab[도/시]tab[구]tab[동]\n",
    "'''\n",
    "import os\n",
    "os.getcwd()\n",
    "file.readline()\n",
    "try:\n",
    "    dong = input(\"동 입력 : \")\n",
    "    file = open(\"../data/zipcode.txt\", mode = \"r\", encoding = \"utf-8\")\n",
    "    line = file.readline() # 첫줄 주소 읽음\n",
    "    \n",
    "    while line: # null == False\n",
    "        addr = line.split(\"\\t\")\n",
    "        \n",
    "        if addr[3].startswith(dong):\n",
    "            print(\"[\" + addr[0] + \"]\", addr[1], addr[2], addr[3], addr[4], addr[5])\n",
    "            line = file.readline() # 두번째 ~ n 줄 주소 읽음\n",
    "except Exception as e:\n",
    "    print(\"예외발생 :\", e)\n",
    "finally:\n",
    "    print(\"~~~ 종료 ~~~\")\n",
    "    file.close"
   ]
  }
 ],
 "metadata": {
  "kernelspec": {
   "display_name": "Python 3",
   "language": "python",
   "name": "python3"
  },
  "language_info": {
   "codemirror_mode": {
    "name": "ipython",
    "version": 3
   },
   "file_extension": ".py",
   "mimetype": "text/x-python",
   "name": "python",
   "nbconvert_exporter": "python",
   "pygments_lexer": "ipython3",
   "version": "3.7.4"
  }
 },
 "nbformat": 4,
 "nbformat_minor": 2
}
