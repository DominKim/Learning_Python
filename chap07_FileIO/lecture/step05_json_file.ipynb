{
 "cells": [
  {
   "cell_type": "code",
   "execution_count": 5,
   "metadata": {},
   "outputs": [
    {
     "name": "stdout",
     "output_type": "stream",
     "text": [
      "<class 'dict'>\n",
      "{\"id\": 1234, \"name\": \"홍길동\"}\n",
      "<class 'str'>\n"
     ]
    }
   ],
   "source": [
    "'''\n",
    "JSON 파일\n",
    " - 네트워크에서 표준으로 사용되는 파일 형식\n",
    " - 파일 형식 : {key:value, key:value}, {key:value, key:value}\n",
    " - 활용 예 : 서로 다른 플랫폼(java, python)에서 파일 공유\n",
    " \n",
    " - json ahebf\n",
    "  1. encoding : file save : python object(lsit, dict) -> json file\n",
    "  2. decoding : file read : json file -> python object\n",
    "'''\n",
    "\n",
    "import json\n",
    "\n",
    "# 1. encoding : obejct -> 문자열\n",
    "'''\n",
    "python object -> json 문자열 -> file save\n",
    "형식) json.dumps(object)\n",
    "'''\n",
    "user = {\"id\":1234, \"name\" : \"홍길동\"} # dict\n",
    "print(type(user)) # <class 'dict'>\n",
    "\n",
    "json_str = json.dumps(user, ensure_ascii = False) # eunsire_ascii : unicode -> ascii 인코딩 나함\n",
    "print(json_str)       # {\"id\": 1234, \"name\": \"홍길동\"}\n",
    "print(type(json_str)) # <class 'str'>"
   ]
  },
  {
   "cell_type": "code",
   "execution_count": 9,
   "metadata": {},
   "outputs": [
    {
     "name": "stdout",
     "output_type": "stream",
     "text": [
      "{'id': 1234, 'name': '홍길동'}\n",
      "<class 'dict'>\n"
     ]
    }
   ],
   "source": [
    "# 2. decoding: 문자열 -> object\n",
    "'''\n",
    "json 문자열 -> python object\n",
    "형식) json.loads(json 문자열)\n",
    "'''\n",
    "py_obj = json.loads(json_str)\n",
    "print(py_obj)       # {'id': 1234, 'name': '홍길동'}\n",
    "print(type(py_obj)) # <class 'dict'>"
   ]
  },
  {
   "cell_type": "code",
   "execution_count": 17,
   "metadata": {},
   "outputs": [
    {
     "name": "stdout",
     "output_type": "stream",
     "text": [
      "3560\n",
      "{'a': 'Mozilla/5.0 (Windows NT 6.1; WOW64) AppleWebKit/535.11 (KHTML, like Gecko) Chrome/17.0.963.78 Safari/535.11', 'c': 'US', 'nk': 1, 'tz': 'America/New_York', 'gr': 'MA', 'g': 'A6qOVH', 'h': 'wfLQtf', 'l': 'orofrog', 'al': 'en-US,en;q=0.8', 'hh': '1.usa.gov', 'r': 'http://www.facebook.com/l/7AQEFzjSi/1.usa.gov/wfLQtf', 'u': 'http://www.ncbi.nlm.nih.gov/pubmed/22415991', 't': 1331923247, 'hc': 1331822918, 'cy': 'Danvers', 'll': [42.576698, -70.954903]}\n",
      "<class 'dict'>\n",
      "{'a': 'GoogleMaps/RochesterNY', 'c': 'US', 'nk': 0, 'tz': 'America/Denver', 'gr': 'UT', 'g': 'mwszkS', 'h': 'mwszkS', 'l': 'bitly', 'hh': 'j.mp', 'r': 'http://www.AwareMap.com/', 'u': 'http://www.monroecounty.gov/etc/911/rss.php', 't': 1331923249, 'hc': 1308262393, 'cy': 'Provo', 'll': [40.218102, -111.613297]}\n",
      "<class 'dict'>\n",
      "<class 'pandas.core.frame.DataFrame'>\n",
      "RangeIndex: 3560 entries, 0 to 3559\n",
      "Data columns (total 18 columns):\n",
      "a              3440 non-null object\n",
      "c              2919 non-null object\n",
      "nk             3440 non-null float64\n",
      "tz             3440 non-null object\n",
      "gr             2919 non-null object\n",
      "g              3440 non-null object\n",
      "h              3440 non-null object\n",
      "l              3440 non-null object\n",
      "al             3094 non-null object\n",
      "hh             3440 non-null object\n",
      "r              3440 non-null object\n",
      "u              3440 non-null object\n",
      "t              3440 non-null float64\n",
      "hc             3440 non-null float64\n",
      "cy             2919 non-null object\n",
      "ll             2919 non-null object\n",
      "_heartbeat_    120 non-null float64\n",
      "kw             93 non-null object\n",
      "dtypes: float64(4), object(14)\n",
      "memory usage: 500.8+ KB\n",
      "None\n"
     ]
    },
    {
     "data": {
      "text/plain": [
       "'\\nRangeIndex: 3560 entries, 0 to 3559\\nData columns (total 18 columns):\\n'"
      ]
     },
     "execution_count": 17,
     "metadata": {},
     "output_type": "execute_result"
    }
   ],
   "source": [
    "# 3. json file read / write\n",
    "\n",
    "# 1) json file read : decoding\n",
    "import os\n",
    "os.getcwd()\n",
    "file = open(\"../data/usagov_bitly.txt\", mode = \"r\", encoding = \"utf-8\")\n",
    "data = file.readlines() # 전체 내용 -> 줄단위 읽기(list)\n",
    "file.close()\n",
    "# print(data)\n",
    "\n",
    "# decoding : json 문자열 -> python obejct\n",
    "rows = [json.loads(row) for row in data] # row {\"key\":value, ...}\n",
    "print(len(rows)) # 3560\n",
    "\n",
    "for row in rows[:2]:\n",
    "    print(row)       # {'a': 'Mozilla/5.0 (Windows NT 6.1; WOW64)\n",
    "    print(type(row)) #  <class 'dict'>\n",
    "\n",
    "# json object -> DataFrame\n",
    "import pandas as pd\n",
    "rows_df = pd.DataFrame(rows) # 행렬 자료구조\n",
    "print(rows_df.info())\n",
    "'''\n",
    "RangeIndex: 3560 entries, 0 to 3559\n",
    "Data columns (total 18 columns):\n",
    "'''"
   ]
  },
  {
   "cell_type": "code",
   "execution_count": 18,
   "metadata": {},
   "outputs": [
    {
     "name": "stdout",
     "output_type": "stream",
     "text": [
      "<class 'list'>\n",
      "file 저장 완료 ~~~~\n"
     ]
    }
   ],
   "source": [
    "# 2) json file write : json encoding\n",
    "file = open(\"../data/json_text.txt\", mode = \"w\", encoding = \"utf-8\")\n",
    "print(type(rows)) # python obejct\n",
    "\n",
    "for row in rows[:100]: # row = {key:value, ...} : dict\n",
    "    json_str = json.dumps(row) # dict -> json 문자열\n",
    "    file.write(json_str)  # file save\n",
    "    file.write(\"\\n\") # 줄바꿈\n",
    "    \n",
    "print(\"file 저장 완료 ~~~~\")"
   ]
  },
  {
   "cell_type": "code",
   "execution_count": 21,
   "metadata": {},
   "outputs": [
    {
     "name": "stdout",
     "output_type": "stream",
     "text": [
      "100\n",
      "<class 'pandas.core.frame.DataFrame'>\n",
      "RangeIndex: 100 entries, 0 to 99\n",
      "Data columns (total 18 columns):\n",
      "a              97 non-null object\n",
      "c              78 non-null object\n",
      "nk             97 non-null float64\n",
      "tz             97 non-null object\n",
      "gr             78 non-null object\n",
      "g              97 non-null object\n",
      "h              97 non-null object\n",
      "l              97 non-null object\n",
      "al             94 non-null object\n",
      "hh             97 non-null object\n",
      "r              97 non-null object\n",
      "u              97 non-null object\n",
      "t              97 non-null float64\n",
      "hc             97 non-null float64\n",
      "cy             78 non-null object\n",
      "ll             78 non-null object\n",
      "_heartbeat_    3 non-null float64\n",
      "kw             5 non-null object\n",
      "dtypes: float64(4), object(14)\n",
      "memory usage: 14.2+ KB\n",
      "None\n"
     ]
    }
   ],
   "source": [
    "# 3) json file read : json decoding\n",
    "file = open(\"../data/json_text.txt\", mode = \"r\", encoding = \"utf-8\")\n",
    "data = file.readlines()\n",
    "print(len(data))\n",
    "\n",
    "# json decoding\n",
    "rows = [json.loads(row) for row in data]\n",
    "\n",
    "rows_df = pd.DataFrame(rows)\n",
    "print(rows_df.info())\n",
    "'''\n",
    "<class 'pandas.core.frame.DataFrame'>\n",
    "RangeIndex: 100 entries, 0 to 99\n",
    "Data columns (total 18 columns):\n",
    "'''"
   ]
  }
 ],
 "metadata": {
  "kernelspec": {
   "display_name": "Python 3",
   "language": "python",
   "name": "python3"
  },
  "language_info": {
   "codemirror_mode": {
    "name": "ipython",
    "version": 3
   },
   "file_extension": ".py",
   "mimetype": "text/x-python",
   "name": "python",
   "nbconvert_exporter": "python",
   "pygments_lexer": "ipython3",
   "version": "3.7.4"
  }
 },
 "nbformat": 4,
 "nbformat_minor": 2
}
