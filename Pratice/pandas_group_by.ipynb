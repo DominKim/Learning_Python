{
 "cells": [
  {
   "cell_type": "code",
   "execution_count": null,
   "metadata": {},
   "outputs": [],
   "source": [
    "from gapminder import gapminder\n",
    "gapminder.info()\n",
    "gapminder.head()"
   ]
  },
  {
   "cell_type": "code",
   "execution_count": 6,
   "metadata": {},
   "outputs": [
    {
     "name": "stdout",
     "output_type": "stream",
     "text": [
      "0       1952\n",
      "1       1957\n",
      "2       1962\n",
      "3       1967\n",
      "4       1972\n",
      "        ... \n",
      "1699    1987\n",
      "1700    1992\n",
      "1701    1997\n",
      "1702    2002\n",
      "1703    2007\n",
      "Name: year, Length: 1704, dtype: int64\n"
     ]
    },
    {
     "data": {
      "text/plain": [
       "year\n",
       "1952    49.057620\n",
       "1957    51.507401\n",
       "1962    53.609249\n",
       "1967    55.678290\n",
       "1972    57.647386\n",
       "1977    59.570157\n",
       "1982    61.533197\n",
       "1987    63.212613\n",
       "1992    64.160338\n",
       "1997    65.014676\n",
       "2002    65.694923\n",
       "2007    67.007423\n",
       "Name: lifeExp, dtype: float64"
      ]
     },
     "execution_count": 6,
     "metadata": {},
     "output_type": "execute_result"
    }
   ],
   "source": [
    "gap_year = gapminder[\"year\"]\n",
    "print(gap_year)\n",
    "\n",
    "gap_lifeExp_mean = gapminder.groupby(\"year\")[\"lifeExp\"].mean()\n",
    "gap_lifeExp_mean"
   ]
  },
  {
   "cell_type": "code",
   "execution_count": 13,
   "metadata": {},
   "outputs": [
    {
     "data": {
      "text/plain": [
       "continent\n",
       "Africa      52\n",
       "Americas    25\n",
       "Asia        33\n",
       "Europe      30\n",
       "Oceania      2\n",
       "Name: country, dtype: int64"
      ]
     },
     "execution_count": 13,
     "metadata": {},
     "output_type": "execute_result"
    }
   ],
   "source": [
    "# gapminder.groupby([\"year\", \"continet\"])(\"lifeExp\").mean()\n",
    "\n",
    "gapminder.groupby(\"continent\")[\"country\"].nunique()\n",
    "\n",
    "# gapminder.groupby(\"year\")[\"country\"].nunique()"
   ]
  },
  {
   "cell_type": "code",
   "execution_count": 30,
   "metadata": {},
   "outputs": [
    {
     "name": "stdout",
     "output_type": "stream",
     "text": [
      "\n",
      "\t*** 2018년도 2학기 성적처리 결과 ***\n",
      "--------------------------------------------------\n",
      " 번호\t 국어\t 영어\t 수학\t 총점\t 평균\n",
      "--------------------------------------------------\n"
     ]
    },
    {
     "ename": "TypeError",
     "evalue": "can only concatenate list (not \"int\") to list",
     "output_type": "error",
     "traceback": [
      "\u001b[0;31m---------------------------------------------------------------------------\u001b[0m",
      "\u001b[0;31mTypeError\u001b[0m                                 Traceback (most recent call last)",
      "\u001b[0;32m<ipython-input-30-92ec23a27272>\u001b[0m in \u001b[0;36m<module>\u001b[0;34m\u001b[0m\n\u001b[1;32m     49\u001b[0m     \u001b[0;32mreturn\u001b[0m \u001b[0mscore_display\u001b[0m\u001b[0;34m\u001b[0m\u001b[0;34m\u001b[0m\u001b[0m\n\u001b[1;32m     50\u001b[0m \u001b[0ma\u001b[0m \u001b[0;34m=\u001b[0m \u001b[0mstudents\u001b[0m\u001b[0;34m(\u001b[0m\u001b[0;34m)\u001b[0m\u001b[0;34m\u001b[0m\u001b[0;34m\u001b[0m\u001b[0m\n\u001b[0;32m---> 51\u001b[0;31m \u001b[0mb\u001b[0m \u001b[0;34m=\u001b[0m \u001b[0ma\u001b[0m\u001b[0;34m(\u001b[0m\u001b[0mstudent\u001b[0m\u001b[0;34m)\u001b[0m\u001b[0;34m\u001b[0m\u001b[0;34m\u001b[0m\u001b[0m\n\u001b[0m\u001b[1;32m     52\u001b[0m \u001b[0mstudent\u001b[0m\u001b[0;34m[\u001b[0m\u001b[0;36m0\u001b[0m\u001b[0;34m]\u001b[0m\u001b[0;34m[\u001b[0m\u001b[0;36m1\u001b[0m\u001b[0;34m]\u001b[0m\u001b[0;34m\u001b[0m\u001b[0;34m\u001b[0m\u001b[0m\n",
      "\u001b[0;32m<ipython-input-30-92ec23a27272>\u001b[0m in \u001b[0;36mscore_display\u001b[0;34m(student)\u001b[0m\n\u001b[1;32m     45\u001b[0m             \u001b[0ms\u001b[0m\u001b[0;34m,\u001b[0m \u001b[0mm\u001b[0m \u001b[0;34m=\u001b[0m \u001b[0mtot_age_calc\u001b[0m\u001b[0;34m(\u001b[0m\u001b[0mi\u001b[0m\u001b[0;34m)\u001b[0m\u001b[0;34m\u001b[0m\u001b[0;34m\u001b[0m\u001b[0m\n\u001b[1;32m     46\u001b[0m             print(\" %d. \\t %d \\t %d \\t %d \"\n\u001b[0;32m---> 47\u001b[0;31m                   % (i+1, i[0], i[1], i[2]))\n\u001b[0m\u001b[1;32m     48\u001b[0m \u001b[0;34m\u001b[0m\u001b[0m\n\u001b[1;32m     49\u001b[0m     \u001b[0;32mreturn\u001b[0m \u001b[0mscore_display\u001b[0m\u001b[0;34m\u001b[0m\u001b[0;34m\u001b[0m\u001b[0m\n",
      "\u001b[0;31mTypeError\u001b[0m: can only concatenate list (not \"int\") to list"
     ]
    }
   ],
   "source": [
    "\n",
    "'''\n",
    " chap05_Function 관련 문제 \n",
    " [문3] student(3명의 학생 점수)를 이용하여 다음 조건에 맞게 학생관리 프로로그램의\n",
    "       함수로 완성하시오.\n",
    "  <조건1> outer : students() -> 제목(title) 출력 , inner 함수 포함  \n",
    "  <조건2> inner : tot_age_calc()  -> 총점과 평균 계산 반환\n",
    "          inner : score_display() -> 학생 이름과 과목점수, 총점, 평균 출력 \n",
    "  <조건3> 기타 나머지는 출력 예시 참조           \n",
    "\n",
    "            <<출력 예시>>\n",
    "    *** 2018년도 2학기 성적처리 결과 ***\n",
    "-----------------------------------------    \n",
    " 번호  국어   영어  수학   총점    평균\n",
    "-----------------------------------------\n",
    "  1.   90    85    70    245    81.67\n",
    "  2.   99    90    95    284    94.67\n",
    "  3.   70    80    100   250    83.33\n",
    "------------------------------------------\n",
    "'''\n",
    "#  [국어,영어,수학]\n",
    "hong = [90, 85, 70]\n",
    "lee = [99, 90, 95]\n",
    "yoo = [70, 80, 100]\n",
    "student = [hong, lee, yoo]\n",
    "def students():\n",
    "    from statistics import mean\n",
    "    print('\\n\\t*** 2018년도 2학기 성적처리 결과 ***')\n",
    "    print('-' * 50)\n",
    "    print(\" 번호\\t 국어\\t 영어\\t 수학\\t 총점\\t 평균\")\n",
    "    print('-' * 50)\n",
    "    tot = [0, 0, 0]\n",
    "    avg = []\n",
    "\n",
    "    # 평균, 총점 계산\n",
    "    def tot_age_calc(score):\n",
    "        from statistics import mean\n",
    "        s = sum(score)\n",
    "        m = mean(score)\n",
    "        return s, m\n",
    "        \n",
    "\n",
    "    # 점수 출력\n",
    "    def score_display(student):\n",
    "        for i in student:\n",
    "            s, m = tot_age_calc(i)\n",
    "            print(\" %d. \\t %d \\t %d \\t %d \\t %s \\t %s\"\n",
    "                  % (i+1, i[0], i[1], i[2], s, m))\n",
    "\n",
    "    return score_display\n",
    "a = students()\n",
    "b = a(student)"
   ]
  },
  {
   "cell_type": "code",
   "execution_count": 31,
   "metadata": {},
   "outputs": [
    {
     "data": {
      "text/plain": [
       "85"
      ]
     },
     "execution_count": 31,
     "metadata": {},
     "output_type": "execute_result"
    }
   ],
   "source": [
    "hong = [90, 85, 70]\n",
    "lee = [99, 90, 95]\n",
    "yoo = [70, 80, 100]\n",
    "student = [hong, lee, yoo]\n",
    "student[0][1]"
   ]
  }
 ],
 "metadata": {
  "kernelspec": {
   "display_name": "Python 3",
   "language": "python",
   "name": "python3"
  },
  "language_info": {
   "codemirror_mode": {
    "name": "ipython",
    "version": 3
   },
   "file_extension": ".py",
   "mimetype": "text/x-python",
   "name": "python",
   "nbconvert_exporter": "python",
   "pygments_lexer": "ipython3",
   "version": "3.7.4"
  }
 },
 "nbformat": 4,
 "nbformat_minor": 2
}
