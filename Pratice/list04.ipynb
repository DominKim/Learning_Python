{
 "cells": [
  {
   "cell_type": "code",
   "execution_count": 11,
   "metadata": {},
   "outputs": [
    {
     "name": "stdout",
     "output_type": "stream",
     "text": [
      "꽝\n"
     ]
    }
   ],
   "source": [
    "'''\n",
    "즉석복권\n",
    "1. 3이 \"연속해서\" 3번 등장하면 당첨복권이다.\n",
    "2. 아래 3개의 복권들의 당첨여부를 출력해보자.\n",
    "'''\n",
    "\n",
    "lotto = [0, 0, 0, 3, 0, 3, 3]\n",
    "cnt = 0\n",
    "for i in range(len(lotto)):\n",
    "    if lotto[i] == 3:\n",
    "        cnt += 1\n",
    "    else:\n",
    "        cnt = 0\n",
    "if cnt == 3:\n",
    "    print(\"당첨\")\n",
    "else:\n",
    "    print(\"꽝\")"
   ]
  },
  {
   "cell_type": "code",
   "execution_count": 33,
   "metadata": {},
   "outputs": [
    {
     "name": "stdout",
     "output_type": "stream",
     "text": [
      "꽝\n"
     ]
    }
   ],
   "source": [
    "lotto = [0, 0, 3, 3, 0, 3, 0]\n",
    "cnt = 0\n",
    "check = 0\n",
    "for i in range(len(lotto)):\n",
    "    if lotto[i] == 3:\n",
    "        cnt += 1\n",
    "        if cnt == 3:\n",
    "            check = 1\n",
    "    else:\n",
    "        cnt = 0        \n",
    "if check == 1:\n",
    "    print(\"당첨\")\n",
    "else:\n",
    "    print(\"꽝\")"
   ]
  },
  {
   "cell_type": "code",
   "execution_count": null,
   "metadata": {},
   "outputs": [],
   "source": []
  }
 ],
 "metadata": {
  "kernelspec": {
   "display_name": "Python 3",
   "language": "python",
   "name": "python3"
  },
  "language_info": {
   "codemirror_mode": {
    "name": "ipython",
    "version": 3
   },
   "file_extension": ".py",
   "mimetype": "text/x-python",
   "name": "python",
   "nbconvert_exporter": "python",
   "pygments_lexer": "ipython3",
   "version": "3.7.4"
  }
 },
 "nbformat": 4,
 "nbformat_minor": 2
}
