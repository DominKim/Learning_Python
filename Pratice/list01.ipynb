{
 "cells": [
  {
   "cell_type": "code",
   "execution_count": 4,
   "metadata": {},
   "outputs": [
    {
     "name": "stdout",
     "output_type": "stream",
     "text": [
      "1282 256.4\n"
     ]
    }
   ],
   "source": [
    "scores = [13, 87, 34, 72, 98]\n",
    "\n",
    "# 총점 평균\n",
    "tot = 0\n",
    "avg = 0\n",
    "for i in scores:\n",
    "    tot += tot + i\n",
    "avg = tot / len(scores)\n",
    "print(tot, avg)"
   ]
  },
  {
   "cell_type": "code",
   "execution_count": 5,
   "metadata": {},
   "outputs": [
    {
     "name": "stdout",
     "output_type": "stream",
     "text": [
      "87\n",
      "72\n",
      "98\n"
     ]
    }
   ],
   "source": [
    "# 35점 이상의 점수만 출력\n",
    "for i in scores:\n",
    "    if i >= 35:\n",
    "        print(i)"
   ]
  },
  {
   "cell_type": "code",
   "execution_count": 6,
   "metadata": {},
   "outputs": [
    {
     "name": "stdout",
     "output_type": "stream",
     "text": [
      "3\n"
     ]
    }
   ],
   "source": [
    "# 35점 이상의 성적의 개수 출력\n",
    "cnt = 0\n",
    "for i in scores:\n",
    "    if i >= 35:\n",
    "        cnt += 1\n",
    "print(cnt)"
   ]
  },
  {
   "cell_type": "code",
   "execution_count": 9,
   "metadata": {},
   "outputs": [
    {
     "name": "stdout",
     "output_type": "stream",
     "text": [
      "번호 입력 : 1\n",
      "13\n"
     ]
    }
   ],
   "source": [
    "# 방번호(idx) 입력하면 성적 출력\n",
    "idx = int(input(\"번호 입력 : \"))\n",
    "idx2 = idx - 1\n",
    "for i in scores:\n",
    "    if scores[idx2] == i:\n",
    "        print(i)"
   ]
  },
  {
   "cell_type": "code",
   "execution_count": null,
   "metadata": {},
   "outputs": [
    {
     "name": "stdout",
     "output_type": "stream",
     "text": [
      "성적입력 : 13\n",
      "0\n"
     ]
    }
   ],
   "source": [
    "# 성적 입력 방번호 출력\n",
    "for i in range(len(scores)):\n",
    "    score = int(input(\"성적입력 : \"))\n",
    "    if scores[i] == score:\n",
    "        print(i)"
   ]
  },
  {
   "cell_type": "code",
   "execution_count": null,
   "metadata": {},
   "outputs": [],
   "source": []
  }
 ],
 "metadata": {
  "kernelspec": {
   "display_name": "Python 3",
   "language": "python",
   "name": "python3"
  },
  "language_info": {
   "codemirror_mode": {
    "name": "ipython",
    "version": 3
   },
   "file_extension": ".py",
   "mimetype": "text/x-python",
   "name": "python",
   "nbconvert_exporter": "python",
   "pygments_lexer": "ipython3",
   "version": "3.7.4"
  }
 },
 "nbformat": 4,
 "nbformat_minor": 2
}
