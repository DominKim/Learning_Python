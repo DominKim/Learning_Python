{
 "cells": [
  {
   "cell_type": "code",
   "execution_count": null,
   "metadata": {},
   "outputs": [],
   "source": [
    "def kangaroo(x1, v1, x2, v2):\n",
    "    if x1 > x2:\n",
    "        if v1 < v2:\n",
    "            if (x1 + v1) % (x2 + v2) == 0:\n",
    "                print(\"YES\")\n",
    "            else:\n",
    "                print(\"NO\")\n",
    "        else:\n",
    "            print(\"NO\")\n",
    "    elif x1 < x2:\n",
    "        if v1 > v2:\n",
    "            if (x1+v1) % (x2+v2) == 0:\n",
    "                print(\"YES\")\n",
    "            else:\n",
    "                print(\"NO\")\n",
    "        else:\n",
    "            print(\"NO\")\n",
    "kangaroo(0, 3, 4, 2)"
   ]
  },
  {
   "cell_type": "code",
   "execution_count": null,
   "metadata": {},
   "outputs": [],
   "source": [
    "'''\n",
    "- chap04_regExText ~ chap05_Function 관련 문제\n",
    "[2문] 다음 벡터(pay)는 '입사년도사원명급여'순으로 사원의 정보가 기록된 데이터 있다.\n",
    "      이 벡터 데이터를 이용하여 아래와 같은 출력결과가 나타나도록 함수를 정의하시오. \n",
    "\n",
    "   <출력 결과>\n",
    " 전체 급여 평균 : 260\n",
    " 평균 이상 급여 수령자\n",
    " 이순신 => 300 \n",
    " 유관순 => 260 \n",
    "'''\n",
    "\n",
    "pay = [\"2014홍길동220\", \"2002이순신300\", \"2010유관순260\"]\n",
    "### 내용 채우기 ###\n",
    "# 함수 정의\n",
    "def pay_pro(x): \n",
    "    from statistics import mean # 평균 \n",
    "    import re # 정규표현식     \n",
    "    \n",
    "    ### 내용 채우기 ###\n",
    "    ind_pay = [int(re.sub(\"[1-9][0-9]{3}[가-힣]{3}\", \"\", i)) for i in x]\n",
    "    name = [re.findall(\"[가-힣]{3}\", i)[0] for i in x]\n",
    "    pr_pay = []\n",
    "    pr_name = []\n",
    "    print(\"전체 급여 평균 :\", mean(ind_pay))\n",
    "    print(\"평균 이상 급여 수령자\")\n",
    "    for i in range(len(x)):\n",
    "        if ind_pay[i] >= mean(ind_pay):\n",
    "            print(pr_pay.append(ind_pay[i]), end = \"\")\n",
    "            print(\" =>\", pr_name.append(name[i]))"
   ]
  },
  {
   "cell_type": "code",
   "execution_count": null,
   "metadata": {},
   "outputs": [],
   "source": []
  }
 ],
 "metadata": {
  "kernelspec": {
   "display_name": "Python 3",
   "language": "python",
   "name": "python3"
  },
  "language_info": {
   "codemirror_mode": {
    "name": "ipython",
    "version": 3
   },
   "file_extension": ".py",
   "mimetype": "text/x-python",
   "name": "python",
   "nbconvert_exporter": "python",
   "pygments_lexer": "ipython3",
   "version": "3.7.4"
  }
 },
 "nbformat": 4,
 "nbformat_minor": 2
}
