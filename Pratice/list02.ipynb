{
 "cells": [
  {
   "cell_type": "code",
   "execution_count": 2,
   "metadata": {},
   "outputs": [
    {
     "name": "stdout",
     "output_type": "stream",
     "text": [
      "x, o, o, o, x, 총점은 60이다.\n"
     ]
    }
   ],
   "source": [
    "answer = [3, 1, 2, 1, 4]\n",
    "hgd    = [1, 1, 2, 1, 3]\n",
    "cnt = 0\n",
    "for i in range(len(answer)):\n",
    "    if answer[i] == hgd[i]:\n",
    "        print(\"o\", end = \", \")\n",
    "        cnt += int(answer[i] == hgd[i])\n",
    "    else:\n",
    "        print(\"x\", end = \", \")\n",
    "print(\"총점은 %d이다.\" % (cnt * 20))"
   ]
  },
  {
   "cell_type": "code",
   "execution_count": 3,
   "metadata": {},
   "outputs": [
    {
     "name": "stdout",
     "output_type": "stream",
     "text": [
      "262 52.4\n",
      "1등 학생의 학번은 1005\n",
      "1등 학생의 이름은 gee\n",
      "학번 입력 : 1002\n",
      "1002의 성적은 87 이다.\n"
     ]
    }
   ],
   "source": [
    "# 학생성적관리\n",
    "hakbun = [1001, 1002, 1003, 1004, 1005]\n",
    "mega   = [  11,   87,   92,   27,   45]\n",
    "name   = [\"kim\",\"lee\",\"park\",\"song\",\"gee\"]\n",
    "\n",
    "# 전교생의 총점과 평균 출력\n",
    "tot = 0\n",
    "for i in range(len(mega)):\n",
    "    tot += mega[i]\n",
    "avg = tot / len(mega)\n",
    "print(tot, avg)\n",
    "\n",
    "# 1등 학생의 학번과 이름 출력\n",
    "max_score = 0\n",
    "idx = 0\n",
    "for i in range(len(mega)):\n",
    "    if max_score < mega[i]:\n",
    "        max_socre = mega[i]\n",
    "        idx = i\n",
    "print(\"1등 학생의 학번은\", hakbun[idx])\n",
    "print(\"1등 학생의 이름은\", name[idx])\n",
    "\n",
    "# 잘못된 학번 입력시, 예외처리\n",
    "check = int(input(\"학번 입력 : \"))\n",
    "for i in range(len(mega)):\n",
    "    if check == hakbun[i]:\n",
    "        print(\"%d의 성적은 %d 이다.\" % (hakbun[i], mega[i]))\n",
    "    else:\n",
    "        cnt = 1 "
   ]
  },
  {
   "cell_type": "code",
   "execution_count": 6,
   "metadata": {},
   "outputs": [
    {
     "name": "stdout",
     "output_type": "stream",
     "text": [
      "[87, 11, 32, 94, 25]\n",
      "방번호 입력1:0\n",
      "방번호 입력2:1\n",
      "[11, 87, 32, 94, 25]\n",
      "학번1 입력 : 1001\n",
      "학번2 입력 : 1002\n"
     ]
    }
   ],
   "source": [
    "hakbun = [1001, 1002, 1003, 1004, 1005]\n",
    "score  = [  87,   11,   32,   94,   25]\n",
    "\n",
    "# 문1) 방번호 2개 입력받아 성적 교체\n",
    "print(score)\n",
    "idx1 = int(input(\"방번호 입력1:\"))\n",
    "idx2 = int(input(\"방번호 입력2:\"))\n",
    "score[idx1], score[idx2] = score[idx2], score[idx1]\n",
    "print(score)\n",
    "\n",
    "# 문2) 학번 2개 입력받아 성적 교체\n",
    "num1 = int(input(\"학번1 입력 : \"))\n",
    "num2 = int(input(\"학번2 입력 : \"))\n",
    "for i in range(len(hakbun)):\n",
    "    if num1 == hakbun[i]:\n",
    "        idx1 = i\n",
    "    if num2 == hakbun[i]:\n",
    "        idx2 = i\n",
    "score[idx1], score[idx2] = score[idx2], score[idx1]"
   ]
  },
  {
   "cell_type": "code",
   "execution_count": null,
   "metadata": {},
   "outputs": [],
   "source": [
    "'''\n",
    "캐릭터 이동하기\n",
    "1. 문자 \"읓\"은 캐릭터이다.\n",
    "2. 숫자1을 입력하면 캐릭터가 왼쪽으로 이동한다.\n",
    "3. 숫자2를 입력하면 캐릭터가 오른쪽으로 이동한다.\n",
    "4. 단, 좌우 끝에 도달했을 때 움직이지 못하도록 처리한다.\n",
    "'''\n",
    "game = [0, 0, 0, \"읓\", 0, 0, 0]\n",
    "# 캐릭터 위치 저장\n",
    "player = 3\n",
    "\n",
    "while True:\n",
    "    print(game)\n",
    "    move = int(input(\"왼쪽(1), 오른쪽(2) 이동\"))\n",
    "    if move == 1:\n",
    "        if player == 0:\n",
    "            continue\n",
    "        game[player], game[player - 1] = game[player - 1], game[player]\n",
    "        player -= 1\n",
    "    else:\n",
    "        if player == 6:\n",
    "            continue\n",
    "        game[player], game[player + 1] = game[player + 1], game[player]\n",
    "        player += 1"
   ]
  }
 ],
 "metadata": {
  "kernelspec": {
   "display_name": "Python 3",
   "language": "python",
   "name": "python3"
  },
  "language_info": {
   "codemirror_mode": {
    "name": "ipython",
    "version": 3
   },
   "file_extension": ".py",
   "mimetype": "text/x-python",
   "name": "python",
   "nbconvert_exporter": "python",
   "pygments_lexer": "ipython3",
   "version": "3.7.4"
  }
 },
 "nbformat": 4,
 "nbformat_minor": 2
}
