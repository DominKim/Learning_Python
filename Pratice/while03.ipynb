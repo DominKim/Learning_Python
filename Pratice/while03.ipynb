{
 "cells": [
  {
   "cell_type": "code",
   "execution_count": 12,
   "metadata": {},
   "outputs": [
    {
     "name": "stdout",
     "output_type": "stream",
     "text": [
      "정수 입력 : 1\n",
      "소수가 아님\n"
     ]
    }
   ],
   "source": [
    "'''\n",
    "소수찾기\n",
    "1. 소수란, 1과 자기자신으로만 나눠지는 수를 의미한다.\n",
    "2. 입력받은 수를 1부터 자기자신까지 나눴을 때,\n",
    " 그 나머지가 0인 경우가 2번이면 소수이다.\n",
    "'''\n",
    "\n",
    "num = int(input(\"정수 입력 : \"))\n",
    "cnt = 0\n",
    "for i in range(1,num+1):\n",
    "    if num % i == 0:\n",
    "        cnt += 1\n",
    "if cnt == 2:\n",
    "    print(\"소수\")\n",
    "else:\n",
    "    print(\"소수가 아님\")"
   ]
  },
  {
   "cell_type": "code",
   "execution_count": 15,
   "metadata": {},
   "outputs": [
    {
     "name": "stdout",
     "output_type": "stream",
     "text": [
      "###\n",
      "###\n",
      "###\n",
      "###\n",
      "###\n",
      "###\n"
     ]
    }
   ],
   "source": [
    "i = 0\n",
    "while i < 9:\n",
    "    print(\"#\", end = \"\")\n",
    "    if i % 3 == 2:\n",
    "        print()\n",
    "    i = i + 1\n",
    "for i in range(3):\n",
    "    for r in range(3):\n",
    "        print(\"#\", end = \"\")\n",
    "    print()\n",
    "    "
   ]
  },
  {
   "cell_type": "code",
   "execution_count": 4,
   "metadata": {},
   "outputs": [
    {
     "name": "stdout",
     "output_type": "stream",
     "text": [
      "***\n",
      " **\n",
      "  *\n"
     ]
    }
   ],
   "source": [
    "num = [3, 2, 1]\n",
    "cnt = 3\n",
    "for i in num:\n",
    "    if cnt == i:\n",
    "        print(\"*\"*i)\n",
    "    else:\n",
    "        print(\" \"*(cnt-i), end = \"\")\n",
    "        print(\"*\"*i)"
   ]
  },
  {
   "cell_type": "code",
   "execution_count": 11,
   "metadata": {},
   "outputs": [
    {
     "name": "stdout",
     "output_type": "stream",
     "text": [
      "  *\n",
      " ***\n",
      "*****\n"
     ]
    }
   ],
   "source": [
    "num = [2, 1, 0]\n",
    "cnt = 0\n",
    "for i in num:\n",
    "    cnt += 1\n",
    "    print(\" \"*i, end = \"\")\n",
    "    \n",
    "    if cnt >= 2:\n",
    "        print(\"*\"*cnt, end = \"\")\n",
    "        print(\"*\"*(cnt-1))\n",
    "    else:\n",
    "        print(\"*\"*cnt)"
   ]
  },
  {
   "cell_type": "code",
   "execution_count": null,
   "metadata": {},
   "outputs": [],
   "source": []
  }
 ],
 "metadata": {
  "kernelspec": {
   "display_name": "Python 3",
   "language": "python",
   "name": "python3"
  },
  "language_info": {
   "codemirror_mode": {
    "name": "ipython",
    "version": 3
   },
   "file_extension": ".py",
   "mimetype": "text/x-python",
   "name": "python",
   "nbconvert_exporter": "python",
   "pygments_lexer": "ipython3",
   "version": "3.7.4"
  }
 },
 "nbformat": 4,
 "nbformat_minor": 2
}
