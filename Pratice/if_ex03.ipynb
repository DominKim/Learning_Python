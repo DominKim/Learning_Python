{
 "cells": [
  {
   "cell_type": "code",
   "execution_count": null,
   "metadata": {},
   "outputs": [],
   "source": [
    "# 369 게임\n",
    "import random\n",
    "com = random.randint(1,50)\n",
    "print(com)\n",
    "cnt = 0\n",
    "if (com // 10) % 3 == 0 and com // 10 != 0:\n",
    "    cnt += 1\n",
    "if (com % 10) % 3 == 0 and (com % 10) != 0:\n",
    "    cnt += 1\n",
    "\n",
    "if cnt == 1:\n",
    "    print(\"짝\")\n",
    "elif cnt == 2:\n",
    "    print(\"짝짝\")\n",
    "else:\n",
    "    print(com)\n",
    "    \n"
   ]
  },
  {
   "cell_type": "code",
   "execution_count": 34,
   "metadata": {},
   "outputs": [
    {
     "name": "stdout",
     "output_type": "stream",
     "text": [
      "정수1입력 : 100\n",
      "정수2입력 : 2\n",
      "정수3입력 : 3\n",
      "최대값 =  100\n"
     ]
    }
   ],
   "source": [
    "# 최대값 구하기(MAX>\n",
    "\n",
    "num1 = int(input(\"정수1입력 : \"))\n",
    "num2 = int(input(\"정수2입력 : \"))\n",
    "num3 = int(input(\"정수3입력 : \"))\n",
    "\n",
    "max_num = num1\n",
    "if max_num < num2:\n",
    "    max_num = num2\n",
    "if max_num < num3:\n",
    "    max_num = num3\n",
    "print(\"최대값 = \", max_num)"
   ]
  },
  {
   "cell_type": "code",
   "execution_count": null,
   "metadata": {},
   "outputs": [],
   "source": []
  }
 ],
 "metadata": {
  "kernelspec": {
   "display_name": "Python 3",
   "language": "python",
   "name": "python3"
  },
  "language_info": {
   "codemirror_mode": {
    "name": "ipython",
    "version": 3
   },
   "file_extension": ".py",
   "mimetype": "text/x-python",
   "name": "python",
   "nbconvert_exporter": "python",
   "pygments_lexer": "ipython3",
   "version": "3.7.4"
  }
 },
 "nbformat": 4,
 "nbformat_minor": 2
}
