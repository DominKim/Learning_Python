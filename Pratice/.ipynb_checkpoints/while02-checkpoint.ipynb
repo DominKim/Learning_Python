{
 "cells": [
  {
   "cell_type": "code",
   "execution_count": null,
   "metadata": {},
   "outputs": [],
   "source": [
    "# 베스킨 라빈스 31\n",
    "p1 = 0\n",
    "p2 = 0\n",
    "br = 0   # break(종료)\n",
    "turn = 1 # turn == 1(p1), turn == 2(p2)\n",
    "while True:\n",
    "    print(br)\n",
    "    if br >= 31:\n",
    "        if turn == 1:\n",
    "            print(\"p1이 승리\")\n",
    "        else:\n",
    "            print(\"p2가 승리\")\n",
    "        break\n",
    "    if turn == 1:\n",
    "        p1 = int(input(\"p1 숫자 입력(1 ~ 3) : \"))\n",
    "        br += p1\n",
    "        turn = 2\n",
    "    elif turn == 2:\n",
    "        p2 = int(input(\"p2 숫자 입력(1 ~ 3) : \"))\n",
    "        br += p2\n",
    "        turn = 1"
   ]
  },
  {
   "cell_type": "code",
   "execution_count": null,
   "metadata": {},
   "outputs": [],
   "source": [
    "# Up & Down[A.I]\n",
    "import random \n",
    "me = int(input(\"임의의 숫자(1 ~100) 입력 : \"))\n",
    "\n",
    "min_num = 1\n",
    "max_num = 100\n",
    "while True:\n",
    "    com = random.randint(min_num, max_num)\n",
    "    if me == com:\n",
    "        print(\"숫자를 맞춤\")\n",
    "        break\n",
    "    elif me > com:\n",
    "        print(com)\n",
    "        print(\"Up!\")\n",
    "        min_num +=1\n",
    "    else:\n",
    "        print(com)\n",
    "        print(\"Down!\")\n",
    "        max_num -=1"
   ]
  },
  {
   "cell_type": "code",
   "execution_count": 1,
   "metadata": {},
   "outputs": [
    {
     "name": "stdout",
     "output_type": "stream",
     "text": [
      "목적지 : 1, 1\n",
      "기사님 현재 위치 : 0, 0\n",
      "방향설정 : \n",
      "방향설정 : 동\n",
      "속도 설정 : 1\n",
      "목적지 : 1, 1\n",
      "기사님 현재 위치 : 1, 0\n",
      "방향설정 : \n",
      "방향설정 : 북\n",
      "속도 설정 : 1\n",
      "목적지 : 1, 1\n",
      "기사님 현재 위치 : 1, 1\n",
      "도착 했습니다.\n"
     ]
    }
   ],
   "source": [
    "# 배달의 민족\n",
    "import random\n",
    "\n",
    "# 목적지\n",
    "des_x = random.randint(-10,10)\n",
    "des_y = random.randint(-10,10)\n",
    "\n",
    "# 방향\n",
    "direct = \"\"\n",
    "\n",
    "# 속도\n",
    "speed = 0\n",
    "\n",
    "# 기사님 현위치\n",
    "x = 0\n",
    "y = 0\n",
    "\n",
    "while True:\n",
    "    print(\"목적지 : %d, %d\" % (des_x, des_y))\n",
    "    print(\"기사님 현재 위치 : %d, %d\" % (x, y))\n",
    "    if x == des_x and y == des_y:\n",
    "        print(\"도착 했습니다.\")\n",
    "        break\n",
    "    else:\n",
    "        direct = input(\"방향설정 : \")\n",
    "        if direct == \"동\":\n",
    "            speed = int(input(\"속도 설정 : \"))\n",
    "            x += speed\n",
    "        elif direct == \"서\":\n",
    "            speed = int(input(\"속도 설정 : \"))\n",
    "            x -= speed\n",
    "        elif direct == \"북\":\n",
    "            speed = int(input(\"속도 설정 : \"))\n",
    "            y += speed\n",
    "        else:\n",
    "            speed = int(input(\"속도 설정 : \"))\n",
    "            y -= speed"
   ]
  },
  {
   "cell_type": "code",
   "execution_count": null,
   "metadata": {},
   "outputs": [],
   "source": []
  },
  {
   "cell_type": "code",
   "execution_count": null,
   "metadata": {},
   "outputs": [],
   "source": []
  }
 ],
 "metadata": {
  "kernelspec": {
   "display_name": "Python 3",
   "language": "python",
   "name": "python3"
  },
  "language_info": {
   "codemirror_mode": {
    "name": "ipython",
    "version": 3
   },
   "file_extension": ".py",
   "mimetype": "text/x-python",
   "name": "python",
   "nbconvert_exporter": "python",
   "pygments_lexer": "ipython3",
   "version": "3.7.4"
  }
 },
 "nbformat": 4,
 "nbformat_minor": 2
}
