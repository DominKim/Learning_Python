{
 "cells": [
  {
   "cell_type": "code",
   "execution_count": 9,
   "metadata": {},
   "outputs": [
    {
     "name": "stdout",
     "output_type": "stream",
     "text": [
      "['루피', '조로', '나미', '상디', '우솝']\n",
      "[17, 20, 19, 19, 18]\n"
     ]
    },
    {
     "data": {
      "text/html": [
       "<div>\n",
       "<style scoped>\n",
       "    .dataframe tbody tr th:only-of-type {\n",
       "        vertical-align: middle;\n",
       "    }\n",
       "\n",
       "    .dataframe tbody tr th {\n",
       "        vertical-align: top;\n",
       "    }\n",
       "\n",
       "    .dataframe thead th {\n",
       "        text-align: right;\n",
       "    }\n",
       "</style>\n",
       "<table border=\"1\" class=\"dataframe\">\n",
       "  <thead>\n",
       "    <tr style=\"text-align: right;\">\n",
       "      <th></th>\n",
       "      <th>이름</th>\n",
       "      <th>나이</th>\n",
       "    </tr>\n",
       "  </thead>\n",
       "  <tbody>\n",
       "    <tr>\n",
       "      <td>0</td>\n",
       "      <td>루피</td>\n",
       "      <td>17</td>\n",
       "    </tr>\n",
       "    <tr>\n",
       "      <td>1</td>\n",
       "      <td>조로</td>\n",
       "      <td>20</td>\n",
       "    </tr>\n",
       "    <tr>\n",
       "      <td>2</td>\n",
       "      <td>나미</td>\n",
       "      <td>19</td>\n",
       "    </tr>\n",
       "    <tr>\n",
       "      <td>3</td>\n",
       "      <td>상디</td>\n",
       "      <td>19</td>\n",
       "    </tr>\n",
       "    <tr>\n",
       "      <td>4</td>\n",
       "      <td>우솝</td>\n",
       "      <td>18</td>\n",
       "    </tr>\n",
       "  </tbody>\n",
       "</table>\n",
       "</div>"
      ],
      "text/plain": [
       "   이름  나이\n",
       "0  루피  17\n",
       "1  조로  20\n",
       "2  나미  19\n",
       "3  상디  19\n",
       "4  우솝  18"
      ]
     },
     "execution_count": 9,
     "metadata": {},
     "output_type": "execute_result"
    }
   ],
   "source": [
    "p1 = {\"name\" : \"ruffy\", \"age\" : 17}\n",
    "p2 = {\"name\" : \"zoro\", \"age\" : 19}\n",
    "class Pirate:\n",
    "    def __init__(self, name = \"\", age = 0):\n",
    "        self.name = name\n",
    "        self.age = age\n",
    "p3 = Pirate(\"ruppy\", 17)\n",
    "data = []\n",
    "p = Pirate(\"루피\", 17)\n",
    "data.append(p)\n",
    "data.append(Pirate(\"조로\", 20))\n",
    "data.append(Pirate(\"나미\", 19))\n",
    "data.append(Pirate(\"상디\", 19))\n",
    "data.append(Pirate(\"우솝\", 18))\n",
    "name_list = []\n",
    "age_list = []\n",
    "for i in range(len(data)):\n",
    "    name_list.append(data[i].name)\n",
    "    age_list.append(data[i].age)\n",
    "print(name_list)\n",
    "print(age_list)\n",
    "import pandas as pd\n",
    "df = pd.DataFrame({\"이름\" : name_list, \"나이\" : age_list})\n",
    "df\n"
   ]
  },
  {
   "cell_type": "code",
   "execution_count": 19,
   "metadata": {},
   "outputs": [
    {
     "name": "stdout",
     "output_type": "stream",
     "text": [
      "루피 16\n",
      "('나미', 19)\n"
     ]
    }
   ],
   "source": [
    "class Pirate:\n",
    "    def __init__(self, name = \"\", age = 0): # 생성자 메서드\n",
    "        self.name = name\n",
    "        self.age = age\n",
    "        \n",
    "    def printName(self):\n",
    "        print(\"name.....\")\n",
    "    def set_name(self, name):\n",
    "        self.name = name\n",
    "    def get_name(self):\n",
    "        return self.name\n",
    "    def set_age(self, age):\n",
    "        self.age = age\n",
    "    def get_age(self):\n",
    "        return self.age\n",
    "    def to_string(self):\n",
    "        return self.name, self.age\n",
    "    \n",
    "p1 = Pirate()\n",
    "p1.set_name(\"루피\")\n",
    "p1.set_age(16)\n",
    "print(p1.get_name(), p1.get_age())\n",
    "p2 = Pirate(\"나미\", 19)\n",
    "print(p2.to_string())"
   ]
  },
  {
   "cell_type": "code",
   "execution_count": 21,
   "metadata": {},
   "outputs": [
    {
     "name": "stdout",
     "output_type": "stream",
     "text": [
      "조로,남,19\n"
     ]
    }
   ],
   "source": [
    "class Pirate:\n",
    "    def __init__(self, name = \"\", age = 0): # 생성자 메서드\n",
    "        self.name = name\n",
    "        self.age = age\n",
    "    def set_name(self, name):\n",
    "        self.name = name\n",
    "    def get_name(self):\n",
    "        return self.name\n",
    "    def set_age(self, age):\n",
    "        self.age = age\n",
    "    def get_age(self):\n",
    "        return self.age\n",
    "    def to_string(self):\n",
    "        return self.name, self.age\n",
    "    \n",
    "class Pirate2:\n",
    "    def __init__(self, name = \"\", age = 0, gender = \"\"):\n",
    "        Pirate.__init__(self, name, age)\n",
    "        self.gender = gender\n",
    "    def set_gender(self,gender):\n",
    "        self.gender = gender\n",
    "    def get_gender(self):\n",
    "        return self.gender\n",
    "    def to_string(self):\n",
    "        return self.name + \",\" + self.gender + \",\" + str(self.age)\n",
    "    \n",
    "p2 = Pirate2(\"조로\", 19, \"남\")\n",
    "print(p2.to_string())"
   ]
  }
 ],
 "metadata": {
  "kernelspec": {
   "display_name": "Python 3",
   "language": "python",
   "name": "python3"
  },
  "language_info": {
   "codemirror_mode": {
    "name": "ipython",
    "version": 3
   },
   "file_extension": ".py",
   "mimetype": "text/x-python",
   "name": "python",
   "nbconvert_exporter": "python",
   "pygments_lexer": "ipython3",
   "version": "3.7.4"
  }
 },
 "nbformat": 4,
 "nbformat_minor": 2
}
