{
 "cells": [
  {
   "cell_type": "code",
   "execution_count": 3,
   "metadata": {},
   "outputs": [
    {
     "name": "stdout",
     "output_type": "stream",
     "text": [
      "현금 입력 : 100000\n",
      "잔돈은 98800원 입니다.\n"
     ]
    }
   ],
   "source": [
    "# 문제 1) 잔돈 출력\n",
    "snack = 1200\n",
    "money = int(input(\"현금 입력 : \"))\n",
    "\n",
    "charge = money - snack\n",
    "if charge >= 0:\n",
    "    print(\"잔돈은 %d원 입니다.\" % (charge))\n",
    "else:\n",
    "    print(\"현금이 부족합니다.\")"
   ]
  },
  {
   "cell_type": "code",
   "execution_count": 5,
   "metadata": {},
   "outputs": [
    {
     "name": "stdout",
     "output_type": "stream",
     "text": [
      "정수 입력 : 10\n",
      "10는 짝수입니다.\n"
     ]
    }
   ],
   "source": [
    "num = int(input(\"정수 입력 : \"))\n",
    "if num % 2 == 0:\n",
    "    print(\"%d는 짝수입니다.\" % (num))\n",
    "else:\n",
    "    print(\"%d는 홀수입니다.\"% (num))"
   ]
  },
  {
   "cell_type": "code",
   "execution_count": 9,
   "metadata": {},
   "outputs": [
    {
     "name": "stdout",
     "output_type": "stream",
     "text": [
      "국어점수 입력 : 50\n",
      "수학점수 입력 : 40\n",
      "영어점수 입력 : 60\n",
      "불합격\n"
     ]
    }
   ],
   "source": [
    "kor = int(input(\"국어점수 입력 : \"))\n",
    "math = int(input(\"수학점수 입력 : \"))\n",
    "eng = int(input(\"영어점수 입력 : \"))\n",
    "tot = kor + math + eng\n",
    "avg = tot / 3\n",
    "\n",
    "if avg >= 60:\n",
    "    if kor < 50 or eng < 50 or math < 50:\n",
    "        print(\"불합격\")\n",
    "    if kor >= 50 and eng >= 50 and math >= 50:\n",
    "        print(\"합격\")\n",
    "if avg < 60:\n",
    "    print(\"불합격\")"
   ]
  },
  {
   "cell_type": "code",
   "execution_count": 3,
   "metadata": {},
   "outputs": [
    {
     "name": "stdout",
     "output_type": "stream",
     "text": [
      "ID 입력 : qwer\n",
      "pw 입력 : 1234\n",
      "로그인 성공\n",
      "단어 입력 : q\n",
      "dddqddd\n"
     ]
    }
   ],
   "source": [
    "db_id = \"qwer\"\n",
    "db_pw = \"1234\"\n",
    "\n",
    "my_id = input(\"ID 입력 : \")\n",
    "my_id = my_id.strip()\n",
    "\n",
    "if db_id == my_id:\n",
    "    my_pw = input(\"pw 입력 : \")\n",
    "    if db_pw == my_pw:\n",
    "        print(\"로그인 성공\")\n",
    "    else:\n",
    "        print(\"로그인 실패\")\n",
    "else:\n",
    "    print(\"id 확인\")\n",
    "word = input(\"단어 입력 : \")\n",
    "# 좌우 공백 제거\n",
    "word = word.strip()\n",
    "print(\"ddd\" + word + \"ddd\")"
   ]
  },
  {
   "cell_type": "code",
   "execution_count": 7,
   "metadata": {},
   "outputs": [
    {
     "name": "stdout",
     "output_type": "stream",
     "text": [
      "키 입력 : 119\n",
      "부모님 동행 여부 :no\n",
      "이용불가\n"
     ]
    }
   ],
   "source": [
    "# 놀이공원\n",
    "height = int(input(\"키 입력 : \"))\n",
    "if height >= 120:\n",
    "    print(\"이용가능\")\n",
    "if height < 120:\n",
    "    answer = input(\"부모님 동행 여부 :\")\n",
    "    if answer == \"yes\":\n",
    "        print(\"이용가능\")\n",
    "    elif answer == \"no\":\n",
    "        print(\"이용불가\")"
   ]
  },
  {
   "cell_type": "code",
   "execution_count": null,
   "metadata": {},
   "outputs": [],
   "source": []
  },
  {
   "cell_type": "code",
   "execution_count": null,
   "metadata": {},
   "outputs": [],
   "source": []
  }
 ],
 "metadata": {
  "kernelspec": {
   "display_name": "Python 3",
   "language": "python",
   "name": "python3"
  },
  "language_info": {
   "codemirror_mode": {
    "name": "ipython",
    "version": 3
   },
   "file_extension": ".py",
   "mimetype": "text/x-python",
   "name": "python",
   "nbconvert_exporter": "python",
   "pygments_lexer": "ipython3",
   "version": "3.7.4"
  }
 },
 "nbformat": 4,
 "nbformat_minor": 2
}
