{
 "cells": [
  {
   "cell_type": "code",
   "execution_count": 8,
   "metadata": {},
   "outputs": [
    {
     "name": "stdout",
     "output_type": "stream",
     "text": [
      "Collecting cx_oracle\n",
      "  Downloading cx_Oracle-7.3.0.tar.gz (307 kB)\n",
      "\u001b[K     |████████████████████████████████| 307 kB 255 kB/s eta 0:00:01\n",
      "\u001b[?25hBuilding wheels for collected packages: cx-oracle\n",
      "  Building wheel for cx-oracle (setup.py) ... \u001b[?25ldone\n",
      "\u001b[?25h  Created wheel for cx-oracle: filename=cx_Oracle-7.3.0-cp37-cp37m-macosx_10_9_x86_64.whl size=171648 sha256=96515cfb02ac907699124e44f60ca883afb0d89344d1edc6d39ba15847b5093b\n",
      "  Stored in directory: /Users/mac/Library/Caches/pip/wheels/02/a8/97/41f415ce56f122353f5a0bd5170aae477af23c703108b79d7c\n",
      "Successfully built cx-oracle\n",
      "Installing collected packages: cx-oracle\n",
      "Successfully installed cx-oracle-7.3.0\n"
     ]
    }
   ],
   "source": [
    "! pip install cx_oracle"
   ]
  }
 ],
 "metadata": {
  "kernelspec": {
   "display_name": "Python 3",
   "language": "python",
   "name": "python3"
  },
  "language_info": {
   "codemirror_mode": {
    "name": "ipython",
    "version": 3
   },
   "file_extension": ".py",
   "mimetype": "text/x-python",
   "name": "python",
   "nbconvert_exporter": "python",
   "pygments_lexer": "ipython3",
   "version": "3.7.4"
  }
 },
 "nbformat": 4,
 "nbformat_minor": 2
}
