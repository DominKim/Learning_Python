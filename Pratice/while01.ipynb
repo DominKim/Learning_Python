{
 "cells": [
  {
   "cell_type": "code",
   "execution_count": 1,
   "metadata": {},
   "outputs": [
    {
     "name": "stdout",
     "output_type": "stream",
     "text": [
      "1\n",
      "2\n",
      "3\n",
      "4\n",
      "5\n"
     ]
    }
   ],
   "source": [
    "i = 0\n",
    "while i < 5:\n",
    "    i += 1\n",
    "    print(i)\n",
    "    "
   ]
  },
  {
   "cell_type": "code",
   "execution_count": 2,
   "metadata": {},
   "outputs": [
    {
     "name": "stdout",
     "output_type": "stream",
     "text": [
      "5 * 2 = \n",
      "정답 입력 : 123\n",
      "4 * 6 = \n",
      "정답 입력 : 123\n",
      "3 * 8 = \n",
      "정답 입력 : 123\n",
      "6 * 5 = \n",
      "정답 입력 : 123\n",
      "9 * 2 = \n",
      "정답 입력 : 123\n",
      "정답을 맞춘 횟수는 0이다.\n"
     ]
    }
   ],
   "source": [
    "import random\n",
    "i = 0\n",
    "cnt = 0\n",
    "while i < 5:\n",
    "    x = random.randint(2,9)\n",
    "    y = random.randint(1,9)\n",
    "    print(\"%d * %d = \" % (x, y))\n",
    "    z = x * y\n",
    "    answer = int(input(\"정답 입력 : \"))\n",
    "    if z == answer:\n",
    "        cnt += 1\n",
    "    i += 1\n",
    "print(\"정답을 맞춘 횟수는 %d이다.\" % (cnt))"
   ]
  },
  {
   "cell_type": "code",
   "execution_count": 3,
   "metadata": {},
   "outputs": [
    {
     "name": "stdout",
     "output_type": "stream",
     "text": [
      "숫자입력 : 123\n",
      "더 낮은 숫자 입력\n",
      "숫자입력 : 12\n",
      "더 높은 숫자 입력\n",
      "숫자입력 : 1\n",
      "더 높은 숫자 입력\n",
      "숫자입력 : \n"
     ]
    },
    {
     "ename": "ValueError",
     "evalue": "invalid literal for int() with base 10: ''",
     "output_type": "error",
     "traceback": [
      "\u001b[0;31m---------------------------------------------------------------------------\u001b[0m",
      "\u001b[0;31mValueError\u001b[0m                                Traceback (most recent call last)",
      "\u001b[0;32m<ipython-input-3-c71d303a44ff>\u001b[0m in \u001b[0;36m<module>\u001b[0;34m\u001b[0m\n\u001b[1;32m      2\u001b[0m \u001b[0mcnt\u001b[0m \u001b[0;34m=\u001b[0m \u001b[0;36m0\u001b[0m\u001b[0;34m\u001b[0m\u001b[0;34m\u001b[0m\u001b[0m\n\u001b[1;32m      3\u001b[0m \u001b[0;32mwhile\u001b[0m \u001b[0;32mTrue\u001b[0m\u001b[0;34m:\u001b[0m\u001b[0;34m\u001b[0m\u001b[0;34m\u001b[0m\u001b[0m\n\u001b[0;32m----> 4\u001b[0;31m     \u001b[0mme\u001b[0m \u001b[0;34m=\u001b[0m \u001b[0mint\u001b[0m\u001b[0;34m(\u001b[0m\u001b[0minput\u001b[0m\u001b[0;34m(\u001b[0m\u001b[0;34m\"숫자입력 : \"\u001b[0m\u001b[0;34m)\u001b[0m\u001b[0;34m)\u001b[0m\u001b[0;34m\u001b[0m\u001b[0;34m\u001b[0m\u001b[0m\n\u001b[0m\u001b[1;32m      5\u001b[0m     \u001b[0;32mif\u001b[0m \u001b[0mme\u001b[0m \u001b[0;34m==\u001b[0m \u001b[0mcom\u001b[0m\u001b[0;34m:\u001b[0m\u001b[0;34m\u001b[0m\u001b[0;34m\u001b[0m\u001b[0m\n\u001b[1;32m      6\u001b[0m         \u001b[0;32mbreak\u001b[0m\u001b[0;34m\u001b[0m\u001b[0;34m\u001b[0m\u001b[0m\n",
      "\u001b[0;31mValueError\u001b[0m: invalid literal for int() with base 10: ''"
     ]
    }
   ],
   "source": [
    "com = random.randint(1,100)\n",
    "cnt = 0\n",
    "while True:\n",
    "    me = int(input(\"숫자입력 : \"))\n",
    "    if me == com:\n",
    "        break\n",
    "    elif me > com:\n",
    "        print(\"더 낮은 숫자 입력\")\n",
    "    else:\n",
    "        print(\"더 높은 숫자 입력\")\n",
    "    cnt += 1\n",
    "print(\"당신은 %d 횟수만에 %d를 맞췄습니다\" % (cnt, com))"
   ]
  },
  {
   "cell_type": "code",
   "execution_count": 5,
   "metadata": {},
   "outputs": [
    {
     "name": "stdout",
     "output_type": "stream",
     "text": [
      "===중식당===\n",
      "1. 마라탕 : 5700원\n",
      "2. 마라샹궈 : 3500원\n",
      "3. 꿔바로우 : 3500원\n",
      "4. 결제하기\n",
      "메뉴 선택 : 1\n",
      "===중식당===\n",
      "1. 마라탕 : 5700원\n",
      "2. 마라샹궈 : 3500원\n",
      "3. 꿔바로우 : 3500원\n",
      "4. 결제하기\n",
      "메뉴 선택 : 2\n",
      "===중식당===\n",
      "1. 마라탕 : 5700원\n",
      "2. 마라샹궈 : 3500원\n",
      "3. 꿔바로우 : 3500원\n",
      "4. 결제하기\n",
      "메뉴 선택 : 3\n",
      "===중식당===\n",
      "1. 마라탕 : 5700원\n",
      "2. 마라샹궈 : 3500원\n",
      "3. 꿔바로우 : 3500원\n",
      "4. 결제하기\n",
      "메뉴 선택 : 4\n",
      "결제 금액 : 600000\n",
      "\n",
      "            1. 마라탕 = 1개\n",
      "            2. 마라샹궈 = 1개\n",
      "            3. 꿔바로우 = 3개\n",
      "            총금액 = 12800원\n",
      "            잔돈 = 587200\n",
      "            \n"
     ]
    }
   ],
   "source": [
    "price1 = 5700\n",
    "price2 = 3500\n",
    "price3 = 1200\n",
    "i = 0\n",
    "cnt1 = 0\n",
    "cnt2 = 0\n",
    "cnt3 = 0\n",
    "tot = 0\n",
    "while True:\n",
    "    print(\"===중식당===\")\n",
    "    print(\"1. 마라탕 : %d원\" % price1)\n",
    "    print(\"2. 마라샹궈 : %d원\" % price2)\n",
    "    print(\"3. 꿔바로우 : %d원\" % price2)\n",
    "    print(\"4. 결제하기\")\n",
    "    choice = int(input(\"메뉴 선택 : \"))\n",
    "    if choice == 1:\n",
    "        cnt1 += 1\n",
    "    elif choice == 2:\n",
    "        cnt2 += 1\n",
    "    elif choice == 3:\n",
    "        cnt3 += 3\n",
    "    else:\n",
    "        tot = cnt1 * price1 + cnt2 * price2 + cnt3 * price3\n",
    "        input_money = int(input(\"결제 금액 : \"))\n",
    "        if input_money >= tot:\n",
    "            charge = input_money - tot\n",
    "            print('''\n",
    "            1. 마라탕 = %d개\n",
    "            2. 마라샹궈 = %d개\n",
    "            3. 꿔바로우 = %d개\n",
    "            총금액 = %d원\n",
    "            잔돈 = %d\n",
    "            ''' % ( cnt1, cnt2, cnt3, tot, charge))\n",
    "            break\n",
    "        else:\n",
    "            print(\"현금이 부족합니다.\")"
   ]
  },
  {
   "cell_type": "code",
   "execution_count": null,
   "metadata": {},
   "outputs": [],
   "source": []
  }
 ],
 "metadata": {
  "kernelspec": {
   "display_name": "Python 3",
   "language": "python",
   "name": "python3"
  },
  "language_info": {
   "codemirror_mode": {
    "name": "ipython",
    "version": 3
   },
   "file_extension": ".py",
   "mimetype": "text/x-python",
   "name": "python",
   "nbconvert_exporter": "python",
   "pygments_lexer": "ipython3",
   "version": "3.7.4"
  }
 },
 "nbformat": 4,
 "nbformat_minor": 2
}
