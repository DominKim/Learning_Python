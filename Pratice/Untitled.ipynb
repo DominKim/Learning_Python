{
 "cells": [
  {
   "cell_type": "code",
   "execution_count": 15,
   "metadata": {},
   "outputs": [
    {
     "ename": "SyntaxError",
     "evalue": "invalid syntax (<ipython-input-15-fa3fd4309a6a>, line 51)",
     "output_type": "error",
     "traceback": [
      "\u001b[0;36m  File \u001b[0;32m\"<ipython-input-15-fa3fd4309a6a>\"\u001b[0;36m, line \u001b[0;32m51\u001b[0m\n\u001b[0;31m    return score_display\u001b[0m\n\u001b[0m         ^\u001b[0m\n\u001b[0;31mSyntaxError\u001b[0m\u001b[0;31m:\u001b[0m invalid syntax\n"
     ]
    }
   ],
   "source": [
    "'''\n",
    " chap05_Function 관련 문제 \n",
    " [문3] student(3명의 학생 점수)를 이용하여 다음 조건에 맞게 학생관리 프로로그램의\n",
    "       함수로 완성하시오.\n",
    "  <조건1> outer : students() -> 제목(title) 출력 , inner 함수 포함  \n",
    "  <조건2> inner : tot_age_calc()  -> 총점과 평균 계산 반환\n",
    "          inner : score_display() -> 학생 이름과 과목점수, 총점, 평균 출력 \n",
    "  <조건3> 기타 나머지는 출력 예시 참조           \n",
    "\n",
    "            <<출력 예시>>\n",
    "    *** 2018년도 2학기 성적처리 결과 ***\n",
    "-----------------------------------------    \n",
    " 번호  국어   영어  수학   총점    평균\n",
    "-----------------------------------------\n",
    "  1.   90    85    70    245    81.67\n",
    "  2.   99    90    95    284    94.67\n",
    "  3.   70    80    100   250    83.33\n",
    "------------------------------------------\n",
    "'''\n",
    "#  [국어,영어,수학]\n",
    "hong = [90, 85, 70]\n",
    "lee = [99, 90, 95]\n",
    "yoo = [70, 80, 100]\n",
    "student = [hong, lee, yoo]\n",
    "def students():\n",
    "    from statistics import mean\n",
    "    print('\\n\\t*** 2018년도 2학기 성적처리 결과 ***')\n",
    "    print('-' * 50)\n",
    "    print(\" 번호\\t 국어\\t 영어\\t 수학\\t 총점\\t 평균\")\n",
    "    print('-' * 50)\n",
    "    tot = [0, 0, 0]\n",
    "    avg = []\n",
    "\n",
    "    # 평균, 총점 계산\n",
    "    def tot_age_calc(score):\n",
    "        from statistics import mean\n",
    "        s = sum(score)\n",
    "        m = mean(score)\n",
    "        return s, round(m, 2)\n",
    "\n",
    "\n",
    "    # 점수 출력\n",
    "    def score_display(student):\n",
    "        cnt = 0\n",
    "        for i in student:\n",
    "            cnt +=1\n",
    "            s, m = tot_age_calc(i)\n",
    "            print(\" %d. \\t %d \\t %d \\t %d \\t %d \\t %d\"\n",
    "                  % (cnt, i[0], i[1], i[2], s, m)\n",
    "\n",
    "    return score_display\n",
    "score_display = students()\n",
    "a = score_display(student)"
   ]
  },
  {
   "cell_type": "code",
   "execution_count": null,
   "metadata": {},
   "outputs": [],
   "source": []
  }
 ],
 "metadata": {
  "kernelspec": {
   "display_name": "Python 3",
   "language": "python",
   "name": "python3"
  },
  "language_info": {
   "codemirror_mode": {
    "name": "ipython",
    "version": 3
   },
   "file_extension": ".py",
   "mimetype": "text/x-python",
   "name": "python",
   "nbconvert_exporter": "python",
   "pygments_lexer": "ipython3",
   "version": "3.7.4"
  }
 },
 "nbformat": 4,
 "nbformat_minor": 2
}
