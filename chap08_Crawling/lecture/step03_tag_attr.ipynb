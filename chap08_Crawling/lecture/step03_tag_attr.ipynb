{
 "cells": [
  {
   "cell_type": "code",
   "execution_count": 1,
   "metadata": {},
   "outputs": [],
   "source": [
    "'''\n",
    "tag 속성과 내용 가져오기\n",
    " - element : tag + 속성 + 내용\n",
    "ex) <a href=\"www.naver.com\"> 네이버 </a>\n",
    "a : tag\n",
    "href : 속성(attribute)\n",
    "네이버 : 내용(content)\n",
    "'''\n",
    "\n",
    "from bs4 import BeautifulSoup as bts\n",
    "\n",
    "# 1. local file 가져오기\n",
    "file = open(\"../data/html02.html\", encoding=\"utf-8\")\n",
    "src = file.read()\n",
    "file.close()"
   ]
  },
  {
   "cell_type": "code",
   "execution_count": 2,
   "metadata": {},
   "outputs": [
    {
     "name": "stdout",
     "output_type": "stream",
     "text": [
      "<!DOCTYPE html PUBLIC \"-//W3C//DTD HTML 4.01 Transitional//EN\" \"http://www.w3.org/TR/html4/loose.dtd\">\n",
      "\n",
      "<html>\n",
      "<head>\n",
      "<meta content=\"text/html; charset=utf-8\" http-equiv=\"Content-Type\"/>\n",
      "<title>선(hr), 줄바꿈(br), 링크(a)</title>\n",
      "</head>\n",
      "<body>\n",
      "<hr/>\n",
      "<h1> 링크 태그 </h1>\n",
      "<hr/>\n",
      "<!-- 링크 태그 -->\n",
      "<!-- 형식) <태그명 속성=\"값\"> 내용 </태그명> -->\n",
      "<a href=\"www.naver.com\">네이버</a>\n",
      "<a href=\"http://www.naver.com\">네이버</a>\n",
      "<br/><br/> <!-- 줄바꿈 -->\n",
      "<a href=\"http://www.naver.com\" target=\"_blank\">네이버 새창으로</a>\n",
      "<br/><br/>\n",
      "<a href=\"www.duam.net\">다음</a>\n",
      "<a href=\"http://www.duam.net\">다음</a>\n",
      "</body>\n",
      "</html>\n",
      "\n"
     ]
    }
   ],
   "source": [
    "# 2. html 파싱\n",
    "html = bts(src, \"html.parser\")\n",
    "print(html)"
   ]
  },
  {
   "cell_type": "code",
   "execution_count": 3,
   "metadata": {},
   "outputs": [
    {
     "name": "stdout",
     "output_type": "stream",
     "text": [
      "[<a href=\"www.naver.com\">네이버</a>, <a href=\"http://www.naver.com\">네이버</a>, <a href=\"http://www.naver.com\" target=\"_blank\">네이버 새창으로</a>, <a href=\"www.duam.net\">다음</a>, <a href=\"http://www.duam.net\">다음</a>]\n"
     ]
    }
   ],
   "source": [
    "# 3. a 태그 엘리먼트 가져오기\n",
    "links = html.find_all(\"a\")\n",
    "print(links)"
   ]
  },
  {
   "cell_type": "code",
   "execution_count": 6,
   "metadata": {},
   "outputs": [
    {
     "name": "stdout",
     "output_type": "stream",
     "text": [
      "네이버\n",
      "{'href': 'www.naver.com'}\n",
      "예외발생 : 'target'\n",
      "네이버\n",
      "{'href': 'http://www.naver.com'}\n",
      "예외발생 : 'target'\n",
      "네이버 새창으로\n",
      "{'href': 'http://www.naver.com', 'target': '_blank'}\n",
      "_blank\n",
      "다음\n",
      "{'href': 'www.duam.net'}\n",
      "예외발생 : 'target'\n",
      "다음\n",
      "{'href': 'http://www.duam.net'}\n",
      "예외발생 : 'target'\n",
      "['www.naver.com', 'http://www.naver.com', 'http://www.naver.com', 'www.duam.net', 'http://www.duam.net']\n",
      "5\n"
     ]
    }
   ],
   "source": [
    "# 4. a 태그 -> 속성(href)\n",
    "urls = []\n",
    "\n",
    "for link in links:\n",
    "    print(link.string) # 내용 : 네이버\n",
    "    atts = link.attrs  # dict\n",
    "    print(atts) # 속성 : {'href': 'www.naver.com'}\n",
    "    # {'href': 'http://www.naver.com', 'target': '_blank'}\n",
    "    # print(atts[\"href\"]) # value\n",
    "    urls.append(atts[\"href\"]) # value\n",
    "    try:\n",
    "        print(atts[\"target\"]) # '_blank'\n",
    "    except Exception as e:\n",
    "        print(\"예외발생 :\", e)\n",
    "        \n",
    "print(urls) # ['www.naver.com', 'http://www.naver.com', 'http://www.naver.com', 'www.duam.net', 'http://www.duam.net']\n",
    "print(len(urls)) # 5"
   ]
  },
  {
   "cell_type": "code",
   "execution_count": 7,
   "metadata": {},
   "outputs": [
    {
     "name": "stdout",
     "output_type": "stream",
     "text": [
      "['http://www.naver.com', 'http://www.naver.com', 'http://www.duam.net']\n",
      "findall 사용\n",
      "['http://www.naver.com', 'http://www.naver.com', 'http://www.duam.net']\n",
      "match\n",
      "['http://www.naver.com', 'http://www.naver.com', 'http://www.duam.net']\n"
     ]
    }
   ],
   "source": [
    "# 문) urls -> 정상 url -> new_urls\n",
    "import re # findall, match, sub\n",
    "new_urls = [i  for i in urls if i.startswith(\"http://\")]\n",
    "print(new_urls)\n",
    "\n",
    "new_urls.clear() # list 원소제거\n",
    "print(\"findall 사용 예\")\n",
    "for url in urls:\n",
    "    tmp = re.findall(\"^http://\", url)\n",
    "    if tmp:\n",
    "        new_urls.append(url)\n",
    "print(new_urls)\n",
    "\n",
    "new_urls.clear() # list 원소제거\n",
    "print(\"match 사용 예\")\n",
    "for url in urls:\n",
    "    tmp = re.match(\"^http://\", url)\n",
    "    if tmp:\n",
    "        new_urls.append(url)\n",
    "print(new_urls)"
   ]
  }
 ],
 "metadata": {
  "kernelspec": {
   "display_name": "Python 3",
   "language": "python",
   "name": "python3"
  },
  "language_info": {
   "codemirror_mode": {
    "name": "ipython",
    "version": 3
   },
   "file_extension": ".py",
   "mimetype": "text/x-python",
   "name": "python",
   "nbconvert_exporter": "python",
   "pygments_lexer": "ipython3",
   "version": "3.7.4"
  }
 },
 "nbformat": 4,
 "nbformat_minor": 2
}
