{
 "cells": [
  {
   "cell_type": "code",
   "execution_count": 4,
   "metadata": {},
   "outputs": [
    {
     "name": "stdout",
     "output_type": "stream",
     "text": [
      "<http.client.HTTPResponse object at 0x1114c2ad0>\n"
     ]
    }
   ],
   "source": [
    "'''\n",
    "원격 서버의 웹 쉬집\n",
    "'''\n",
    "\n",
    "import urllib.request as res # 별칭 : 원격 서버 파일 요청\n",
    "from bs4 import BeautifulSoup as bts # source -> html 파싱\n",
    "\n",
    "url = \"http://www.naver.com/index.html\"\n",
    "\n",
    "# 1. 원격 서버 url 요청\n",
    "req = res.urlopen(url) # 요청 -> 응답\n",
    "print(req) # object.info\n",
    "data = req.read() # source\n",
    "# print(data) # <!doctype html> -> source"
   ]
  },
  {
   "cell_type": "code",
   "execution_count": 6,
   "metadata": {},
   "outputs": [],
   "source": [
    "# 2. source(문자열) -> html 형식 : html 파싱\n",
    "src = data.decode(\"utf-8\")     # 디코딩 -> 소스\n",
    "html = bts(src, \"html.parser\") # source -> html\n",
    "# print(html)"
   ]
  },
  {
   "cell_type": "code",
   "execution_count": 9,
   "metadata": {},
   "outputs": [
    {
     "name": "stdout",
     "output_type": "stream",
     "text": [
      "<a href=\"#news_cast\" onclick=\"document.getElementById('news_cast2').tabIndex = -1;document.getElementById('news_cast2').focus();return false;\"><span>연합뉴스 바로가기</span></a>\n",
      "a 태그 내용 : 연합뉴스 바로가기\n"
     ]
    }
   ],
   "source": [
    "# 3. Tag 내용 가져오기\n",
    "link = html.find(\"a\") # <a href = \"url\"> 내용 </a>\n",
    "print(link)\n",
    "'''\n",
    "element : <시작태그 속성명 = \"값\"> 내용 </종료태그>\n",
    "'''\n",
    "print(\"a 태그 내용 :\", link.string) # 태그 내용 추출\n",
    "# a 태그 내용 : 연한뉴스 바로가기"
   ]
  }
 ],
 "metadata": {
  "kernelspec": {
   "display_name": "Python 3",
   "language": "python",
   "name": "python3"
  },
  "language_info": {
   "codemirror_mode": {
    "name": "ipython",
    "version": 3
   },
   "file_extension": ".py",
   "mimetype": "text/x-python",
   "name": "python",
   "nbconvert_exporter": "python",
   "pygments_lexer": "ipython3",
   "version": "3.7.4"
  }
 },
 "nbformat": 4,
 "nbformat_minor": 2
}
