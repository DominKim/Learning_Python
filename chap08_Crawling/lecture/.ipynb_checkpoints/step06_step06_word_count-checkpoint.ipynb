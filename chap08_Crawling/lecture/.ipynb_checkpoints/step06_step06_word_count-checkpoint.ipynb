{
 "cells": [
  {
   "cell_type": "code",
   "execution_count": 13,
   "metadata": {},
   "outputs": [
    {
     "name": "stdout",
     "output_type": "stream",
     "text": [
      "<class 'list'>\n",
      "[\"'불붙는' 여 원내대표 경선..후보 교통정리 주목\", \"다음 달 7일 '180석 여당' 첫 원내대표 뽑는다..경선준비 착수\", '親文 치고나가는 巨與 원내대표 경선.. 초선 68명 票心 변수', '홍남기 부총리 \"긴급재난지원금 70% 지급 설득..재정 효율적으로 써야\"', '홍남기 \"무조건 재정 아끼자는 것 아냐.. 국회에 재난지원금 70% 설득할 것\"', '홍남기 \"재난지원금 70% 국회 설득, 재정여력 더 축적해야\"', '초 1~3학년까지 540만 온라인개학..접속 불안했지만 대란 없었다', '\\'540만 온라인 개학\\' EBS·e학습터 \"잠깐 문제 외 대란 없었다\"', '3차 온라인 개학..플랫폼 안정에도 곳곳 접속장애', \"캐나다 최악 총기난사 최소 16명 사망..'경찰 위장' 용의자 사살\", '캐나다서 총기난사 최소 16명 사망..경찰도 1명 숨져', '캐나다 시골마을서 총기난사로 경찰 포함 13명 사망', '스웨덴 집단면역의 대가는 노인희생..보건정책 실패론 득세', \"방통위, TV조선 3년,  채널A 4년 '조건부 재승인'\", '고양시, 日서 입국 40대 여성 코로나19 확진', '\"러시아, 신형 전차 \\'아르마타\\' 시리아서 실전시험..내년 양산\"', '자금난 겪는 대한항공, 대규모 유상증자 추진', \"위성교섭단체, 21대 원구성 '변수'..민주, 운영·법사 가져올까\", '코로나에 회식금지인데..육군 장교 술 먹고 민간인 성추행까지', \"여, 재난지원금 '전국민 지급' 고수..액수 줄여 추진 가능성도\", '싱가포르, 코로나 신규확진 1천426명..누적환자도 8천14명', '코로나 범죄 500건 넘었다.. 격리거부·허위신고 주말새 10건↑', '발등에 불 떨어진 통합당..재난지원금 논의는 실종', '코로나19 지형 또 변화..선진국 진정되자 신흥국에 급속확산', \"'코로나19' 바이러스\", '만리재사진첩', '포토친구', '더불어민주당', 'None', 'None', 'None', 'None', 'None', 'None', 'None', 'None', 'None', 'None', '부산 128·129번 확진 부녀 접촉자만 1000명 넘어', \"전세계 1만명 중국에 7천조 '코로나 배상' 소송 제기\", \"5월6일 이후 '순차적 등교 개학'할 듯..대입 앞둔 고3부터\", '부산 부녀 확진 추적 결과 간호사인 딸 병원서 먼저 감염', \"韓과는 정반대 '보수천하'로 가는 日..일본유신회 지지율 2위\", '\"작업 힘들다\" 여군 중대장 폭행한 육군 상병..구속 수사(종합)', '\"좋은 차 타니 좋냐\"..벤틀리 훼손 대학생 수천만원 변상할 판(종합)', '지구와 가장 비슷한 새 행성, 우주망원경 쓰레기통에서 찾다', '코스피', 'None', 'None', 'None', '코스닥', 'None', 'None', 'None', '다우', 'None', 'None', 'None', \"[바로잡습니다] 14일 자 A13면 '선거 이틀 앞두고 울산교육감 지역 모든 학생에 10만원' 기사에서\", '[바로잡습니다] 코로나 19 감염 내과의사 보도 내용을 바로잡습니다', '[바로잡습니다] 경찰 \"\\'박사방\\' 가입자 중 시청 공무원 1명 있다\" 온라인 기사 사진 관련', \"[바로잡습니다] 27일자 A22면 '창업 국가산업단지 4600억 재생사업' 제목 중\"]\n"
     ]
    }
   ],
   "source": [
    "'''\n",
    "1. pickle file load\n",
    "2. 텍스트 전처리\n",
    "3. word count\n",
    "'''\n",
    "\n",
    "import pickle\n",
    "import os\n",
    "# 1. pickle file load\n",
    "file = open(\"../data/news_crawling.pickle\", mode = \"rb\")\n",
    "news_crawling = pickle.load(file) # list\n",
    "print(type(news_crawling))\n",
    "print(news_crawling)"
   ]
  },
  {
   "cell_type": "code",
   "execution_count": 14,
   "metadata": {},
   "outputs": [
    {
     "name": "stdout",
     "output_type": "stream",
     "text": [
      "[\"'불붙는' 여 원내대표 경선후보 교통정리 주목\", \"다음 달 일 '석 여당' 첫 원내대표 뽑는다경선준비 착수\", '親文 치고나가는 巨與 원내대표 경선 초선 명 票心 변수', '홍남기 부총리 \"긴급재난지원금 지급 설득재정 효율적으로 써야\"', '홍남기 \"무조건 재정 아끼자는 것 아냐 국회에 재난지원금 설득할 것\"', '홍남기 \"재난지원금 국회 설득 재정여력 더 축적해야\"', '초 ~학년까지 만 온라인개학접속 불안했지만 대란 없었다', '\\'만 온라인 개학\\' ebs·e학습터 \"잠깐 문제 외 대란 없었다\"', '차 온라인 개학플랫폼 안정에도 곳곳 접속장애', \"캐나다 최악 총기난사 최소 명 사망'경찰 위장' 용의자 사살\", '캐나다서 총기난사 최소 명 사망경찰도 명 숨져', '캐나다 시골마을서 총기난사로 경찰 포함 명 사망', '스웨덴 집단면역의 대가는 노인희생보건정책 실패론 득세', \"방통위 tv조선 년 채널a 년 '조건부 재승인'\", '고양시 日서 입국 대 여성 코로나 확진', '\"러시아 신형 전차 \\'아르마타\\' 시리아서 실전시험내년 양산\"', '자금난 겪는 대한항공 대규모 유상증자 추진', \"위성교섭단체 대 원구성 '변수'민주 운영·법사 가져올까\", '코로나에 회식금지인데육군 장교 술 먹고 민간인 성추행까지', \"여 재난지원금 '전국민 지급' 고수액수 줄여 추진 가능성도\", '싱가포르 코로나 신규확진 천명누적환자도 천명', '코로나 범죄 건 넘었다 격리거부·허위신고 주말새 건↑', '발등에 불 떨어진 통합당재난지원금 논의는 실종', '코로나 지형 또 변화선진국 진정되자 신흥국에 급속확산', \"'코로나' 바이러스\", '만리재사진첩', '포토친구', '더불어민주당', 'none', 'none', 'none', 'none', 'none', 'none', 'none', 'none', 'none', 'none', '부산 ·번 확진 부녀 접촉자만 명 넘어', \"전세계 만명 중국에 천조 '코로나 배상' 소송 제기\", \"월일 이후 '순차적 등교 개학'할 듯대입 앞둔 고부터\", '부산 부녀 확진 추적 결과 간호사인 딸 병원서 먼저 감염', \"韓과는 정반대 '보수천하'로 가는 日일본유신회 지지율 위\", '\"작업 힘들다\" 여군 중대장 폭행한 육군 상병구속 수사종합', '\"좋은 차 타니 좋냐\"벤틀리 훼손 대학생 수천만원 변상할 판종합', '지구와 가장 비슷한 새 행성 우주망원경 쓰레기통에서 찾다', '코스피', 'none', 'none', 'none', '코스닥', 'none', 'none', 'none', '다우', 'none', 'none', 'none', \"[바로잡습니다] 일 자 a면 '선거 이틀 앞두고 울산교육감 지역 모든 학생에 만원' 기사에서\", '[바로잡습니다] 코로나 감염 내과의사 보도 내용을 바로잡습니다', '[바로잡습니다] 경찰 \"\\'박사방\\' 가입자 중 시청 공무원 명 있다\" 온라인 기사 사진 관련', \"[바로잡습니다] 일자 a면 '창업 국가산업단지 억 재생사업' 제목 중\"]\n"
     ]
    }
   ],
   "source": [
    "# 2. 텍스트 전처리\n",
    "def clean_text(texts):\n",
    "    from re import sub  # gsub() 유사함\n",
    "\n",
    "    # 1. 소문자 변경\n",
    "    texts_re = texts.lower() # 문장 1개 소문자 변경\n",
    "\n",
    "    # 2. 숫자 제거(불용어 제거 (1))\n",
    "    texts_re2 = sub(\"[0-9]\", \"\", texts_re)\n",
    "\n",
    "    # 3. 문장부호 제거(불용어 제거 (2))\n",
    "    punc_str = \"[.,;:!?]\"\n",
    "    texts_re3 = sub(punc_str, \"\", texts_re2)\n",
    "\n",
    "    # 4. 문장부호 제거(불용어 제거 (3))\n",
    "    spec_str = \"[!@#$%^&*()]\"\n",
    "    texts_re4 = sub(spec_str, \"\", texts_re3)\n",
    "\n",
    "    # 5. 공백(white space) 제거(불용어 제거 (4)) : 'abtta a' -> ''.join('abtta', 'a') -> 'abttaa'\n",
    "    texts_re5 = \" \".join(texts_re4.split())\n",
    "\n",
    "    return texts_re5\n",
    "\n",
    "try:\n",
    "    clean_news = [clean_text(news) for news in news_crawling]\n",
    "except Exception as e:\n",
    "    print(\"예외 발생 :\", e)\n",
    "finally:\n",
    "    print(clean_news)"
   ]
  },
  {
   "cell_type": "code",
   "execution_count": null,
   "metadata": {},
   "outputs": [],
   "source": [
    "# 3. word count\n",
    "word_count = {} # 빈 set\n",
    "for text in clean_news:\n",
    "    for word in text.split():\n",
    "        word_count[word] = word_count.get(word, 0) + 1\n",
    "        \n",
    "print(word_count)\n",
    "\n",
    "word_count2 = word_count.copy() # 객체 복제\n",
    "\n",
    "# 2음절 이상 단어 선택\n",
    "for word in word_count.keys():\n",
    "    if len(word) < 2:\n",
    "        del word_count2[word]\n",
    "\n",
    "print(word_count2)"
   ]
  },
  {
   "cell_type": "code",
   "execution_count": 23,
   "metadata": {},
   "outputs": [
    {
     "name": "stdout",
     "output_type": "stream",
     "text": [
      "top10\n",
      "[('코로나', 5), ('원내대표', 3), ('홍남기', 3), ('온라인', 3), ('확진', 3), ('재난지원금', 2), ('대란', 2), ('캐나다', 2), ('총기난사', 2), ('최소', 2)]\n",
      "    word  count\n",
      "0    코로나      5\n",
      "1   원내대표      3\n",
      "2    홍남기      3\n",
      "3    온라인      3\n",
      "4     확진      3\n",
      "5  재난지원금      2\n",
      "6     대란      2\n",
      "7    캐나다      2\n",
      "8   총기난사      2\n",
      "9     최소      2\n"
     ]
    },
    {
     "data": {
      "image/png": "[encoded data removed]",
      "text/plain": [
       "<Figure size 432x288 with 1 Axes>"
      ]
     },
     "metadata": {
      "needs_background": "light"
     },
     "output_type": "display_data"
    },
    {
     "data": {
      "image/png": "[encoded data removed]",
      "text/plain": [
       "<Figure size 432x288 with 1 Axes>"
      ]
     },
     "metadata": {
      "needs_background": "light"
     },
     "output_type": "display_data"
    }
   ],
   "source": [
    "# 5. top10, top5\n",
    "from collections import Counter\n",
    "count = Counter(word_count2)\n",
    "\n",
    "del count[\"none\"]\n",
    "del count[\"[바로잡습니다]\"]\n",
    "\n",
    "top10 = count.most_common(10)\n",
    "print(\"top10\")\n",
    "print(top10)\n",
    "\n",
    "# list[(), ()]\n",
    "import pandas as pd\n",
    "top10_df = pd.DataFrame(top10, columns = [\"word\", \"count\"])\n",
    "print(top10_df)\n",
    "\n",
    "import matplotlib.pyplot as plt\n",
    "\n",
    "# 선 그래프\n",
    "plt.plot(top10_df[\"word\"], top10_df[\"count\"]) # x, y\n",
    "plt.title(\"top10 word count\")\n",
    "plt.show()\n",
    "\n",
    "# 막대 그래프\n",
    "plt.bar(top10_df[\"word\"], top10_df[\"count\"]) # x, y\n",
    "plt.title(\"top10 word count\")\n",
    "plt.show()"
   ]
  },
  {
   "cell_type": "code",
   "execution_count": null,
   "metadata": {},
   "outputs": [],
   "source": []
  }
 ],
 "metadata": {
  "kernelspec": {
   "display_name": "Python 3",
   "language": "python",
   "name": "python3"
  },
  "language_info": {
   "codemirror_mode": {
    "name": "ipython",
    "version": 3
   },
   "file_extension": ".py",
   "mimetype": "text/x-python",
   "name": "python",
   "nbconvert_exporter": "python",
   "pygments_lexer": "ipython3",
   "version": "3.7.4"
  }
 },
 "nbformat": 4,
 "nbformat_minor": 2
}
