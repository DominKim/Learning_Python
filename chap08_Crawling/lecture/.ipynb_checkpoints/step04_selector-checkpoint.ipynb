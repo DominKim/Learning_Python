{
 "cells": [
  {
   "cell_type": "code",
   "execution_count": 1,
   "metadata": {},
   "outputs": [],
   "source": [
    "'''\n",
    "선택자(selector)\n",
    " - 웹 문서 디자인(css)에서 사용\n",
    " - 선택자 : id(#) : 중복 불가, class(.) : 중복 가능\n",
    " - html.select(\"선택자\") : 여러 개 element 수집\n",
    " - html.select_one(\"선택자\") : 한 개 element 수집, 선택자 인수 사용 가능\n",
    "'''\n",
    "\n",
    "# 웹문서 형식에 따라 tag를 할지 select를 할지 선택\n",
    "\n",
    "from bs4 import BeautifulSoup as bts\n",
    "\n",
    "file = open(\"../data/html03.html\", encoding = \"utf-8\")\n",
    "src = file.read()\n",
    "\n",
    "html = bts(src, \"html.parser\")\n",
    "# 태그 & 선택자 -> element 수집"
   ]
  },
  {
   "cell_type": "code",
   "execution_count": 5,
   "metadata": {},
   "outputs": [
    {
     "name": "stdout",
     "output_type": "stream",
     "text": [
      "[<th id=\"id\"> 학번 </th>, <th id=\"name\"> 이름 </th>, <th id=\"major\"> 학과 </th>, <th id=\"email\"> 이메일 </th>]\n",
      "4\n",
      " 학번 \n",
      " 이름 \n",
      " 학과 \n",
      " 이메일 \n"
     ]
    }
   ],
   "source": [
    "# 1) id 선택자 : #\n",
    "table = html.select_one(\"#tab\") # id = \"tab\"\n",
    "# print(table) # <table> ~ </table>\n",
    "\n",
    "# <table><tr><th> or <td>\n",
    "ths = html.select(\"#tab > tr > th\") # list\n",
    "print(ths)\n",
    "print(len(ths)) # 4\n",
    "\n",
    "for th in ths:\n",
    "    print(th.string) # tag 내용"
   ]
  },
  {
   "cell_type": "code",
   "execution_count": 6,
   "metadata": {},
   "outputs": [
    {
     "name": "stdout",
     "output_type": "stream",
     "text": [
      "[<tr class=\"odd\"> <!-- 3행(홀수) -->\n",
      "<td> 201602 </td>\n",
      "<td> 이순신 </td>\n",
      "<td> 해양학과 </td>\n",
      "<td> lee@naver.com </td>\n",
      "</tr>, <tr class=\"odd\"> <!-- 5행 -->\n",
      "<td> 201604 </td>\n",
      "<td> 유관순 </td>\n",
      "<td> 유아교육 </td>\n",
      "<td> you@naver.com </td>\n",
      "</tr>]\n",
      " 201602 \n",
      " 이순신 \n",
      " 해양학과 \n",
      " lee@naver.com \n",
      " 201604 \n",
      " 유관순 \n",
      " 유아교육 \n",
      " you@naver.com \n"
     ]
    }
   ],
   "source": [
    "# 2) class 선택자 : .\n",
    "trs = html.select(\"#tab > .odd\") # 5<tr> -> 2<tr>\n",
    "print(trs)\n",
    "\n",
    "for tr in trs:\n",
    "    # print(tr)\n",
    "    tds = tr.find_all(\"td\") # list\n",
    "    for td in tds:\n",
    "        print(td.string)"
   ]
  },
  {
   "cell_type": "code",
   "execution_count": 8,
   "metadata": {},
   "outputs": [
    {
     "name": "stdout",
     "output_type": "stream",
     "text": [
      "[<tr class=\"odd\"> <!-- 3행(홀수) -->\n",
      "<td> 201602 </td>\n",
      "<td> 이순신 </td>\n",
      "<td> 해양학과 </td>\n",
      "<td> lee@naver.com </td>\n",
      "</tr>, <tr class=\"odd\"> <!-- 5행 -->\n",
      "<td> 201604 </td>\n",
      "<td> 유관순 </td>\n",
      "<td> 유아교육 </td>\n",
      "<td> you@naver.com </td>\n",
      "</tr>]\n",
      " 201602 \n",
      " 이순신 \n",
      " 해양학과 \n",
      " lee@naver.com \n",
      " 201604 \n",
      " 유관순 \n",
      " 유아교육 \n",
      " you@naver.com \n"
     ]
    }
   ],
   "source": [
    "# 3) tag[속성 = \"값\"] 찾기 * 따옴표 유형 다르게!\n",
    "trs = html.select(\"tr[class='odd']\")\n",
    "print(trs)\n",
    "\n",
    "for tr in trs:\n",
    "    tds = tr.find_all(\"td\")\n",
    "    for td in tds:\n",
    "        print(td.string)"
   ]
  }
 ],
 "metadata": {
  "kernelspec": {
   "display_name": "Python 3",
   "language": "python",
   "name": "python3"
  },
  "language_info": {
   "codemirror_mode": {
    "name": "ipython",
    "version": 3
   },
   "file_extension": ".py",
   "mimetype": "text/x-python",
   "name": "python",
   "nbconvert_exporter": "python",
   "pygments_lexer": "ipython3",
   "version": "3.7.4"
  }
 },
 "nbformat": 4,
 "nbformat_minor": 2
}
