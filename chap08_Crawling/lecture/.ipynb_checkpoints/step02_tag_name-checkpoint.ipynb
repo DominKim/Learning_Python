{
 "cells": [
  {
   "cell_type": "code",
   "execution_count": 4,
   "metadata": {},
   "outputs": [
    {
     "name": "stdout",
     "output_type": "stream",
     "text": [
      "<!DOCTYPE html>\n",
      "<html>\n",
      "<head>\n",
      "<meta charset=\"UTF-8\">\n",
      "<title> html5 - 시멘틱 태그 </title>\n",
      "</head>\n",
      "<body>\n",
      "   <h1> 시멘틱 태그 ?</h1>\n",
      "   <p> html5에서 웹문서에 의미를 부여하는 태그를 의미 </p>\n",
      "   <h2> 주요 시멘틱 태그 </h2>\n",
      "   <ul>\n",
      "      <li> header : 문서의 머리말(사이트 소개, 제목, 로그 )</li>\n",
      "      <li> nav : 네이게이션(메뉴) </li>\n",
      "      <li> section : 웹 문서를 장(chapter)으로 볼 때 절을 구분하는 태그</li>\n",
      "      <li> aside : 문서의 보조 내용(광고, 즐겨찾기, 링크) </li>\n",
      "      <li> footer : 문서의 꼬리말(작성자, 저작권, 개인정보보호) </li>   \n",
      "   </ul>\n",
      "</body>\n",
      "</html>\n",
      "\n",
      "\n",
      "\n"
     ]
    }
   ],
   "source": [
    "'''\n",
    "tag명으로 찾기\n",
    "형식)\n",
    "html.find(\"tag\")     : 최초로 발견된 tag 1개 수집\n",
    "html.find_all(\"tag\") : 해당 tag 전체 수집\n",
    "'''\n",
    "from bs4 import BeautifulSoup as bts # html 파싱\n",
    "\n",
    "# 1. local file 불러오기\n",
    "file = open(\"../data/html01.html\", mode=\"r\", encoding=\"utf-8\")\n",
    "src = file.read()\n",
    "print(src)"
   ]
  },
  {
   "cell_type": "code",
   "execution_count": 5,
   "metadata": {},
   "outputs": [
    {
     "name": "stdout",
     "output_type": "stream",
     "text": [
      "<!DOCTYPE html>\n",
      "\n",
      "<html>\n",
      "<head>\n",
      "<meta charset=\"utf-8\"/>\n",
      "<title> html5 - 시멘틱 태그 </title>\n",
      "</head>\n",
      "<body>\n",
      "<h1> 시멘틱 태그 ?</h1>\n",
      "<p> html5에서 웹문서에 의미를 부여하는 태그를 의미 </p>\n",
      "<h2> 주요 시멘틱 태그 </h2>\n",
      "<ul>\n",
      "<li> header : 문서의 머리말(사이트 소개, 제목, 로그 )</li>\n",
      "<li> nav : 네이게이션(메뉴) </li>\n",
      "<li> section : 웹 문서를 장(chapter)으로 볼 때 절을 구분하는 태그</li>\n",
      "<li> aside : 문서의 보조 내용(광고, 즐겨찾기, 링크) </li>\n",
      "<li> footer : 문서의 꼬리말(작성자, 저작권, 개인정보보호) </li>\n",
      "</ul>\n",
      "</body>\n",
      "</html>\n",
      "\n"
     ]
    }
   ],
   "source": [
    "# 2. src -> html 파싱\n",
    "html = bts(src, \"html.parser\")\n",
    "print(html)"
   ]
  },
  {
   "cell_type": "code",
   "execution_count": 8,
   "metadata": {},
   "outputs": [
    {
     "name": "stdout",
     "output_type": "stream",
     "text": [
      "<h1> 시멘틱 태그 ?</h1>\n",
      " 시멘틱 태그 ?\n"
     ]
    }
   ],
   "source": [
    "# 3. tag 찾기 -> 내용 추출\n",
    "\n",
    "# 1) tag 계층적 구조\n",
    "h1 = html.html.body.h1\n",
    "print(h1)        # element : <h1> 시멘틱 태그 ? </h1>\n",
    "print(h1.string) # 내용"
   ]
  },
  {
   "cell_type": "code",
   "execution_count": 11,
   "metadata": {},
   "outputs": [
    {
     "name": "stdout",
     "output_type": "stream",
     "text": [
      "<h2> 주요 시멘틱 태그 </h2>\n",
      " 주요 시멘틱 태그 \n"
     ]
    }
   ],
   "source": [
    "# 2) find(\"tag\")\n",
    "h2 = html.find(\"h2\")\n",
    "print(h2) # <h2> 주요 시멘틱 태그 </h2>\n",
    "print(h2.string) # 주요 시멘틱 태그"
   ]
  },
  {
   "cell_type": "code",
   "execution_count": 13,
   "metadata": {},
   "outputs": [
    {
     "name": "stdout",
     "output_type": "stream",
     "text": [
      "[<li> header : 문서의 머리말(사이트 소개, 제목, 로그 )</li>, <li> nav : 네이게이션(메뉴) </li>, <li> section : 웹 문서를 장(chapter)으로 볼 때 절을 구분하는 태그</li>, <li> aside : 문서의 보조 내용(광고, 즐겨찾기, 링크) </li>, <li> footer : 문서의 꼬리말(작성자, 저작권, 개인정보보호) </li>]\n",
      "5\n",
      " header : 문서의 머리말(사이트 소개, 제목, 로그 )\n",
      " nav : 네이게이션(메뉴) \n",
      " section : 웹 문서를 장(chapter)으로 볼 때 절을 구분하는 태그\n",
      " aside : 문서의 보조 내용(광고, 즐겨찾기, 링크) \n",
      " footer : 문서의 꼬리말(작성자, 저작권, 개인정보보호) \n",
      "[' header : 문서의 머리말(사이트 소개, 제목, 로그 )', ' nav : 네이게이션(메뉴) ', ' section : 웹 문서를 장(chapter)으로 볼 때 절을 구분하는 태그', ' aside : 문서의 보조 내용(광고, 즐겨찾기, 링크) ', ' footer : 문서의 꼬리말(작성자, 저작권, 개인정보보호) ']\n"
     ]
    }
   ],
   "source": [
    "# 3) find_all(\"tag\") # list\n",
    "# 파이썬에서 2개 이사의 데이터를 반환할때는 리스트 혹은 튜플로 반환한다.\n",
    "lis = html.find_all(\"li\")\n",
    "print(lis) # list\n",
    "# [<li> header : 문서의 머리말(사이트 소개, 제목, 로그 )</li>, <li> nav : 네이게이션(메뉴) </li>, <li> section : 웹 문서를 장(chapter)으로 볼 때 절을 구분하는 태그</li>, <li> aside : 문서의 보조 내용(광고, 즐겨찾기, 링크) </li>, <li> footer : 문서의 꼬리말(작성자, 저작권, 개인정보보호) </li>]\n",
    "print(len(lis)) # 5\n",
    "\n",
    "for li in lis:\n",
    "    print(li.string)\n",
    "    \n",
    "li_cont = [li.string for li in lis]    \n",
    "print(li_cont) # list"
   ]
  }
 ],
 "metadata": {
  "kernelspec": {
   "display_name": "Python 3",
   "language": "python",
   "name": "python3"
  },
  "language_info": {
   "codemirror_mode": {
    "name": "ipython",
    "version": 3
   },
   "file_extension": ".py",
   "mimetype": "text/x-python",
   "name": "python",
   "nbconvert_exporter": "python",
   "pygments_lexer": "ipython3",
   "version": "3.7.4"
  }
 },
 "nbformat": 4,
 "nbformat_minor": 2
}
