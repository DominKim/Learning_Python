{
 "cells": [
  {
   "cell_type": "code",
   "execution_count": null,
   "metadata": {},
   "outputs": [],
   "source": [
    "'''\n",
    "list 특징\n",
    " - 1차원 배열 구조\n",
    "  형식) 변수 = [값1, 값2, ...]\n",
    " - 다양한 자료형 저장 가능\n",
    " - index 사용, 순서 존재\n",
    "  형식) 변수[index], index = 0\n",
    " - 값 수정(추가, 삽입, 수정, 삭제)\n",
    "'''\n",
    "\n",
    "# 1. 단일 list\n",
    "lst = list(range(1,6))\n",
    "print(lst, type(lst), len(lst)) # [1, 2, 3, 4, 5] <class 'list'> 5\n",
    "\n",
    "for i in lst:\n",
    "    print(lst[i-1:]) # 변수[start:stop]\n",
    "    # print(i, end = \" \")\n",
    "    \n",
    "for i in lst:\n",
    "    print(lst[:i]) # 변수[:stop-1]\n",
    "    \n",
    "    '''\n",
    "    처음 / 마지막 데이터 추출\n",
    "    '''\n",
    "x = list(range(1,101)) # 1 ~ 100\n",
    "print(x)\n",
    "print(x[:5]) # 앞부분 5개 원소 : [1, 2, 3, 4, 5]\n",
    "print(x[-5:])# 마지막 5개 원소 : [96, 97, 98, 99, 100]\n",
    "'''\n",
    "index 형식\n",
    "변수[strat = 0: stop -1 : step = 1]\n",
    "'''\n",
    "\n",
    "print(x)       # 전체\n",
    "print(x[::2])  # [::step = 2] : 홀수\n",
    "print(x[1::2]) # [start::ste = 2] : 짝수"
   ]
  },
  {
   "cell_type": "code",
   "execution_count": null,
   "metadata": {},
   "outputs": [],
   "source": [
    "# 2. 중첩 list : [[],[]]\n",
    "a = [\"a\", \"b\", \"c\"]\n",
    "b = [10, 20, 5, a, True, \"hong\"] # 서로 다른 type\n",
    "print(b)        # [10, 20, 5, ['a', 'b', 'c'], True, 'hong']\n",
    "print(b[3])     # ['a', 'b', 'c']\n",
    "print(b[3][2])  # c\n",
    "print(b[3][1:]) # ['b', 'c']\n",
    "\n",
    "print(type(a), type(b)) # <class 'list'> <class 'list'>\n",
    "print(id(a), id(b)) # 4568898608 4568899488"
   ]
  },
  {
   "cell_type": "code",
   "execution_count": null,
   "metadata": {},
   "outputs": [],
   "source": [
    "# 3. 값 수정(추가, 삽입, 수정, 삭제)\n",
    "num = [\"one\", \"two\", \"three\", \"four\"]\n",
    "print(len(num)) # 4\n",
    "\n",
    "num.append(\"five\")    # 원소 추가\n",
    "print(num)            # ['one', 'two', 'three', 'four', 'five']\n",
    "\n",
    "num.remove(\"five\")    # 원소 삭제\n",
    "print(num)            # ['one', 'two', 'three', 'four']\n",
    "\n",
    "num.insert(0, \"zero\") # 원소 삽입\n",
    "print(num)            # ['zero', 'one', 'two', 'three', 'four']\n",
    "\n",
    "num[0] = 0            # 원소 수정\n",
    "print(num)            # [0, 'one', 'two', 'three', 'four']"
   ]
  },
  {
   "cell_type": "code",
   "execution_count": null,
   "metadata": {},
   "outputs": [],
   "source": [
    "# 4. list 연산(+, *)\n",
    "\n",
    "# 1) list 결합(+) : 새로운 객체 생성\n",
    "x = [1, 2, 3, 4]\n",
    "y = [1.5, 2.5]\n",
    "z = x + y         # new object\n",
    "print(z, type(z)) # [1, 2, 3, 4, 1.5, 2.5] <class 'list'>\n",
    "\n",
    "# 2)list 확장 : object.extend(x) x : 반복 가능한 객체, 기존객체의 '원소' 사용\n",
    "x.extend(y) # 기존 object\n",
    "print(x)    # [1, 2, 3, 4, 1.5, 2.5]\n",
    "\n",
    "# 3) list 추가 : 기존객체 그대로 사용\n",
    "x.append(y) # 기존 object\n",
    "print(x)    # [1, 2, 3, 4, 1.5, 2.5, [1.5, 2.5]]\n",
    "\n",
    "# 4) lsit 곱셈(*)\n",
    "lst = [1, 2, 3, 4]\n",
    "result = lst * 2 # 2번 반복\n",
    "print(result)    # [1, 2, 3, 4, 1, 2, 3, 4]"
   ]
  },
  {
   "cell_type": "code",
   "execution_count": null,
   "metadata": {},
   "outputs": [],
   "source": [
    "# 5. list 정렬\n",
    "result.sort() # 오름차순(reverse = False(default))\n",
    "print(result) # [1, 1, 2, 2, 3, 3, 4, 4]\n",
    "\n",
    "result.sort(reverse=True) # 내림차순\n",
    "print(result)             # [4, 4, 3, 3, 2, 2, 1, 1]"
   ]
  },
  {
   "cell_type": "code",
   "execution_count": null,
   "metadata": {},
   "outputs": [],
   "source": [
    "# 6. scala vs vector\n",
    "'''\n",
    "scala 변수  : 한 개의 상수(값)를 갖는 변수(크기)\n",
    "vector 변수 : 다수의 값을 갖는 변수(크기, 방향)\n",
    "'''\n",
    "\n",
    "dataset = [] # 빈 list : vector\n",
    "size = int(input(\"vector size : \"))  # scala 변수\n",
    "\n",
    "for i in range(size):     # range(10) : 0 ~ 9\n",
    "    dataset.append(i + 1) # vector\n",
    "print(dataset) # [1, 2, 3, 4]"
   ]
  },
  {
   "cell_type": "code",
   "execution_count": null,
   "metadata": {},
   "outputs": [],
   "source": [
    "# 7. list에서 원소 찾기\n",
    "'''\n",
    "if 값 in list:\n",
    "    참 실행문\n",
    "else:\n",
    "    거짓 실행문\n",
    "'''\n",
    "if 5 in dataset:\n",
    "    print(\"5가 있네요\")\n",
    "else:\n",
    "    print(\"5가 없어요\")"
   ]
  }
 ],
 "metadata": {
  "kernelspec": {
   "display_name": "Python 3",
   "language": "python",
   "name": "python3"
  },
  "language_info": {
   "codemirror_mode": {
    "name": "ipython",
    "version": 3
   },
   "file_extension": ".py",
   "mimetype": "text/x-python",
   "name": "python",
   "nbconvert_exporter": "python",
   "pygments_lexer": "ipython3",
   "version": "3.7.4"
  }
 },
 "nbformat": 4,
 "nbformat_minor": 2
}
