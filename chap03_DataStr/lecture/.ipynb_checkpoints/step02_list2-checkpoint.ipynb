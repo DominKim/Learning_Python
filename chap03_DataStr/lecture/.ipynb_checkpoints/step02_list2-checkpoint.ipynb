{
 "cells": [
  {
   "cell_type": "code",
   "execution_count": null,
   "metadata": {},
   "outputs": [],
   "source": [
    "'''\n",
    "리스트 내포\n",
    " - list에서 for문 사용\n",
    " 형식1) 변수 = [실행문 for 변수 in 열거형객체]\n",
    "  실행순서 : 1. for문 > 2. 실행문 > 3. 변수 저장\n",
    " 형식2) 변수 = [실행문 for 변수 in 열거형객체 if 조건식]\n",
    "  실행순서 : 1. for문 > 2. if문 > [3. 실행문 > 4. 변수 저장]\n",
    "'''\n",
    "\n",
    "# 형식1) 변수 = [실행문 for 변수 in 열거형객체]\n",
    "\n",
    "# x각 변량에 제곱\n",
    "x = [2, 4, 1, 3, 7]\n",
    "# x ** 2 TypeError\n",
    "datas = []\n",
    "for i in x:\n",
    "    print(i**2)\n",
    "    datas.append(i**2)\n",
    "print(datas) # [4, 16, 1, 9, 49]\n",
    "\n",
    "data2 = [i**2 for i in x]\n",
    "print(data2) # [4, 16, 1, 9, 49]"
   ]
  },
  {
   "cell_type": "code",
   "execution_count": null,
   "metadata": {},
   "outputs": [],
   "source": [
    "# 형식2) 변수 = [실행문 for 변수 in 열거형객체 if 조건식]\n",
    "# 1 ~ 100 -> 3의 배수\n",
    "num = list(range(1,101))\n",
    "print(num)\n",
    "\n",
    "data3 = [i for i in num if i % 3 == 0]\n",
    "print(data3)\n",
    "\n",
    "# 내장함수 + 리스트 내포\n",
    "print(\"sum =\", sum(x)) # sum = 17\n",
    "data4 = [[1, 3, 5], [4, 5], [7, 8, 9]] # 중첩 list\n",
    "result = [sum(d) for d in data4]\n",
    "print(result) # [9, 9, 24]\n",
    "\n",
    "# 형식1) if if else 변수 = [실행문 if 조건문 else 실행문 for 변수 in 열거형객체]"
   ]
  }
 ],
 "metadata": {
  "kernelspec": {
   "display_name": "Python 3",
   "language": "python",
   "name": "python3"
  },
  "language_info": {
   "codemirror_mode": {
    "name": "ipython",
    "version": 3
   },
   "file_extension": ".py",
   "mimetype": "text/x-python",
   "name": "python",
   "nbconvert_exporter": "python",
   "pygments_lexer": "ipython3",
   "version": "3.7.4"
  }
 },
 "nbformat": 4,
 "nbformat_minor": 2
}
