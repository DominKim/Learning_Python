{
 "cells": [
  {
   "cell_type": "code",
   "execution_count": null,
   "metadata": {},
   "outputs": [],
   "source": [
    "'''\n",
    "tuple 특징\n",
    " - index 사용, 순서 존재\n",
    " - 1차원 배열 구조\n",
    " - 수정 불가, 처리 속도 빠름\n",
    " = 제공 함수 없음\n",
    " 형식) 변수 = (원소1, 원소2, ..)\n",
    "'''\n",
    "\n",
    "tp = 10 # scala\n",
    "tp1 = (10) # scala : 원소가 하나라도 \",\"를 생략하면 scala 변수가 된다\n",
    "print(tp, tp1)\n",
    "\n",
    "tp2 = (10,)\n",
    "print(tp2, type(tp2)) # (10,) <class 'tuple'>\n",
    "\n",
    "# index\n",
    "tp3 = (10, 58, 4, 96, 55, 2)\n",
    "print(tp3[:4])\n",
    "print(tp3[-3:])\n",
    "\n",
    "# 수정 불가\n",
    "# tp[3] = 100 # TypeError"
   ]
  },
  {
   "cell_type": "code",
   "execution_count": 7,
   "metadata": {},
   "outputs": [
    {
     "name": "stdout",
     "output_type": "stream",
     "text": [
      "2 55\n",
      "10000\n",
      "<class 'tuple'>\n"
     ]
    }
   ],
   "source": [
    "# max / min\n",
    "vmax = vmin = tp3[0] # 첫번째\n",
    "for t in tp3:\n",
    "    if t < vmax:\n",
    "        vmax = t\n",
    "    if t > vmax:\n",
    "        vmin = t\n",
    "print(vmax, vmin)\n",
    "\n",
    "# list -> tuple\n",
    "lst = list(range(10000))\n",
    "print(len(lst))\n",
    "\n",
    "tlst = tuple(lst)\n",
    "print(type(tlst))"
   ]
  }
 ],
 "metadata": {
  "kernelspec": {
   "display_name": "Python 3",
   "language": "python",
   "name": "python3"
  },
  "language_info": {
   "codemirror_mode": {
    "name": "ipython",
    "version": 3
   },
   "file_extension": ".py",
   "mimetype": "text/x-python",
   "name": "python",
   "nbconvert_exporter": "python",
   "pygments_lexer": "ipython3",
   "version": "3.7.4"
  }
 },
 "nbformat": 4,
 "nbformat_minor": 2
}
