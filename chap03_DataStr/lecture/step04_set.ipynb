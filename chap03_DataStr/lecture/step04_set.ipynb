{
 "cells": [
  {
   "cell_type": "code",
   "execution_count": null,
   "metadata": {},
   "outputs": [],
   "source": [
    "'''\n",
    "set 특징\n",
    " - 순서 없음(index 사용 불가)\n",
    " - 중복 허용 불가\n",
    " 형식) 변수 = {값1, 값2, ...}\n",
    " - 집합 개념\n",
    "'''\n",
    "\n",
    "s = {1, 3, 5, 1, 5}\n",
    "print(len(s)) # 3\n",
    "\n",
    "for d in s:\n",
    "    print(d, end = \"\")\n",
    "\n",
    "s2 = {3, 6}\n",
    "\n",
    "# 집합 관련 함수\n",
    "print(s.union(s2))        # 합집합 : {1, 3, 5, 6}\n",
    "print(s.difference(s2))   # 차집합 : {1, 5}\n",
    "print(s.intersection(s2)) # 교집합 : {3}"
   ]
  },
  {
   "cell_type": "code",
   "execution_count": 9,
   "metadata": {},
   "outputs": [
    {
     "name": "stdout",
     "output_type": "stream",
     "text": [
      "{'여자', '남자'}\n",
      "여자\n"
     ]
    }
   ],
   "source": [
    "# list : gender\n",
    "gender = [\"남자\", \"여자\", \"남자\", \"여자\"] # 중복 허용\n",
    "# list -> set\n",
    "sgender = set(gender) # 중복 불가\n",
    "print(sgender)        # {'여자', '남자'}\n",
    "# set -> list\n",
    "lgender = list(sgender)\n",
    "print(lgender[0]) # 여자"
   ]
  },
  {
   "cell_type": "code",
   "execution_count": 12,
   "metadata": {},
   "outputs": [
    {
     "name": "stdout",
     "output_type": "stream",
     "text": [
      "{1, 3, 5, 7} <class 'set'>\n",
      "{1, 3, 5, 7, 9}\n",
      "{1, 5, 7, 9}\n"
     ]
    }
   ],
   "source": [
    "# 원소 추가 / 삭제\n",
    "s3 = {1, 3, 5, 7}\n",
    "print(s3, type(s3)) # {1, 3, 5, 7} <class 'set'>\n",
    "\n",
    "s3.add(9) # 원소 추가\n",
    "print(s3) # {1, 3, 5, 7, 9}\n",
    "\n",
    "s3.discard(3) # 원소 삭제\n",
    "print(s3)     # {1, 5, 7, 9}\n",
    "\n",
    "# 수정, 삽입 불가\n",
    "# why? no index"
   ]
  }
 ],
 "metadata": {
  "kernelspec": {
   "display_name": "Python 3",
   "language": "python",
   "name": "python3"
  },
  "language_info": {
   "codemirror_mode": {
    "name": "ipython",
    "version": 3
   },
   "file_extension": ".py",
   "mimetype": "text/x-python",
   "name": "python",
   "nbconvert_exporter": "python",
   "pygments_lexer": "ipython3",
   "version": "3.7.4"
  }
 },
 "nbformat": 4,
 "nbformat_minor": 2
}
