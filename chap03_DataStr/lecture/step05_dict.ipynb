{
 "cells": [
  {
   "cell_type": "code",
   "execution_count": null,
   "metadata": {},
   "outputs": [],
   "source": [
    "'''\n",
    "dict 특징\n",
    " - set 구조와 유사함(순서 없음 = index 사용 불가)\n",
    " - R의 list 유사함\n",
    " - key와 value 한 쌍으로 원소 구성\n",
    " - key -> value 참조\n",
    " - key 중복 불가, value 중복 가능\n",
    "  형식) 변수 = {key:value, key:value}\n",
    "'''\n",
    "\n",
    "# 1. dict 생성\n",
    "\n",
    "# 방법1)\n",
    "dic = dict(key1 = 100, key2 = 200, key3 = 300)\n",
    "print(dic, len(dic), type(dic))\n",
    "# {'key1': 100, 'key2': 200, 'key3': 300} 3 <class 'dict'>\n",
    "\n",
    "# 방법2)\n",
    "dic2 = {\"이름\":\"김도민\", \"나이\":\"30\", \"주소\":\"서울\"}\n",
    "print(dic2) # {'이름': '김도민', '나이': '30', '주소': '서울'}"
   ]
  },
  {
   "cell_type": "code",
   "execution_count": null,
   "metadata": {},
   "outputs": [],
   "source": [
    "# 2. 수정, 추가, 삭제, 검색 : key 이용\n",
    "\n",
    "dic2[\"나이\"] = 45  # 수정\n",
    "dic2[\"급여\"] = 350 # 추가\n",
    "print(dic2)       # {'이름': '김도민', '나이': 45, '주소': '서울', '급여': 350}\n",
    "del dic2[\"주소\"]   # 삭제\n",
    "print(dic2)       # {'이름': '김도민', '나이': 45, '급여': 350}\n",
    "\n",
    "# 키 검색\n",
    "print(\"나이\" in dic2) # True"
   ]
  },
  {
   "cell_type": "code",
   "execution_count": null,
   "metadata": {},
   "outputs": [],
   "source": [
    "# 3. for 이용\n",
    "for k in dic2.keys():   # dic2\n",
    "    print(k, end = \":\") # key\n",
    "    print(dic2[k])      # value\n",
    "    \n",
    "for v in dic2.values(): # 값 넘김\n",
    "    print(v)\n",
    "    \n",
    "for k, v in dic2.items(): # 키, 값 넘김\n",
    "    print(k, end = \" : \")\n",
    "    print(v)\n",
    "    \n",
    "for d in dic2.items():\n",
    "    print(d)"
   ]
  },
  {
   "cell_type": "code",
   "execution_count": null,
   "metadata": {},
   "outputs": [],
   "source": [
    "# 4. kev -> value\n",
    "print(dic2[\"이름\"])     # index 형식 : 김도민\n",
    "print(dic2.get(\"이름\")) # get() : 김도민"
   ]
  },
  {
   "cell_type": "code",
   "execution_count": null,
   "metadata": {},
   "outputs": [],
   "source": [
    "# 5. {\"key\" : [value1, value2]} - {\"이름\" : [급여, 수당]}\n",
    "emp = {\"hong\" : [250, 50], \"lee\" : [350, 80], \"yoo\" : [200, 40]}\n",
    "\n",
    "# 급여 250 이상인 경우 사원명, 수당 합계\n",
    "su = 0\n",
    "for k,v in emp.items(): # key, value\n",
    "    if v[0] >= 250:\n",
    "        print(k)\n",
    "        su += v[1]\n",
    "print(\"수당 합계 =\", su)"
   ]
  },
  {
   "cell_type": "code",
   "execution_count": null,
   "metadata": {},
   "outputs": [],
   "source": [
    "# 6. 문자 빈도수 구하기\n",
    "charset = [\"love\", \"test\", \"love\", \"hello\", \"test\", \"love\"]\n",
    "print(len(charset)) # 6\n",
    "wc = {} # 빈 set\n",
    "\n",
    "# 방법1)\n",
    "for word in charset:\n",
    "    if word in wc:\n",
    "        wc[word] += 1 # 2회 이상 발견 : 1씩 증가\n",
    "    else:\n",
    "        wc[word] = 1 # 최초 발견 : 1을 초기화\n",
    "print(\"워드 카운트 :\", wc)\n",
    "\n",
    "# 방법2)\n",
    "wc2 = {}\n",
    "for word in charset:\n",
    "    wc2[word] = wc2.get(word, 0) + 1\n",
    "print(wc2)"
   ]
  }
 ],
 "metadata": {
  "kernelspec": {
   "display_name": "Python 3",
   "language": "python",
   "name": "python3"
  },
  "language_info": {
   "codemirror_mode": {
    "name": "ipython",
    "version": 3
   },
   "file_extension": ".py",
   "mimetype": "text/x-python",
   "name": "python",
   "nbconvert_exporter": "python",
   "pygments_lexer": "ipython3",
   "version": "3.7.4"
  }
 },
 "nbformat": 4,
 "nbformat_minor": 2
}
