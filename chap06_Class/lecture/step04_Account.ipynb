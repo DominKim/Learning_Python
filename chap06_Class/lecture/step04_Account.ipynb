{
 "cells": [
  {
   "cell_type": "code",
   "execution_count": 1,
   "metadata": {},
   "outputs": [
    {
     "name": "stdout",
     "output_type": "stream",
     "text": [
      "계좌의 잔액 1000원 이고 예금주는 홍길동, 계좌번호는 012-125-41520이다.\n"
     ]
    }
   ],
   "source": [
    "'''\n",
    "중첩함수 -> 클래스(data + function)\n",
    "'''\n",
    "\n",
    "class Account: # outter 0> class\n",
    "    # outter 변수 -> 멤버변수\n",
    "    # balance = 0 # 잔액(balance)\n",
    "    \n",
    "    # 생성자 : 잔액 초기화\n",
    "    def __init__(self, bal, accName, accNumber):\n",
    "        self.bal = bal\n",
    "        self.accName = accName\n",
    "        self.accNumber = accNumber\n",
    "        \n",
    "    # inner -> 멤버메서드\n",
    "    def getBalance(self): # 잔액확인(getter)\n",
    "        print(\"계좌의 잔액 %d원 이고 예금주는 %s, 계좌번호는 %s이다.\"\n",
    "             % (self.bal, self.accName, self.accNumber))\n",
    "    \n",
    "    def desposit(self, money): # 입금하기(setter)\n",
    "        if money < 0:\n",
    "            print(\"금액을 확인하세요\")\n",
    "        else:\n",
    "            self.bal += money\n",
    "            \n",
    "    def withdraw(self, money): # 출금하기(setter)\n",
    "        if money > self.bal:\n",
    "            print(\"잔액이 부족합니다.\")\n",
    "        else:\n",
    "            self.bal -= money\n",
    "'''\n",
    "1. 예금주(accName), 계좌번호(accNumber) 동적 멤버변수 추가하기\n",
    "    -> 예금주 : 홍길동, 계좌번호 : 012-125-41520\n",
    "2. getBalance() 메서드를 이용하여 잔액, 예금주, 계좌번호 출력\n",
    "'''\n",
    "acc2 = Account(1000, \"홍길동\", \"012-125-41520\")\n",
    "acc2.getBalance()"
   ]
  }
 ],
 "metadata": {
  "kernelspec": {
   "display_name": "Python 3",
   "language": "python",
   "name": "python3"
  },
  "language_info": {
   "codemirror_mode": {
    "name": "ipython",
    "version": 3
   },
   "file_extension": ".py",
   "mimetype": "text/x-python",
   "name": "python",
   "nbconvert_exporter": "python",
   "pygments_lexer": "ipython3",
   "version": "3.7.4"
  }
 },
 "nbformat": 4,
 "nbformat_minor": 2
}
