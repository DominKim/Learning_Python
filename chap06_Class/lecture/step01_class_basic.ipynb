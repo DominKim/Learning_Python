{
 "cells": [
  {
   "cell_type": "code",
   "execution_count": 1,
   "metadata": {},
   "outputs": [
    {
     "name": "stdout",
     "output_type": "stream",
     "text": [
      "plues = 30\n",
      "minus = -10\n"
     ]
    }
   ],
   "source": [
    "'''\n",
    "클래스(class)\n",
    " - 함수의 모임\n",
    " - 역할 : 다수의 함수오 공유 자료를 묶어서 객체(object) 생성\n",
    " - 유형 : 사용자 정의 클래스, 라이브러리 클래스(python)\n",
    " - 구성 요소 : 멤버(member) + 생성자\n",
    " - 멤버(member) : 변수(저장) + 메서드(자료 처리)\n",
    " - 생성자 : 객체 생성\n",
    " 형식)\n",
    " class 클래스명:\n",
    "     멤버변수 = 자료\n",
    "     def 멤버메서드():\n",
    "         자료 처리\n",
    "     생성자 : 객체 생성\n",
    "'''\n",
    "\n",
    "# 1. 중첩함수\n",
    "def calc_func(a,b): # outter : 자료 저장\n",
    "    # 자료 저장\n",
    "    x = a\n",
    "    y = b\n",
    "    \n",
    "    # inner : 자료 처리(조작)\n",
    "    def plus():\n",
    "        return x + y\n",
    "    \n",
    "    def minus():\n",
    "        return x - y\n",
    "    \n",
    "    return plus, minus\n",
    "\n",
    "p, m = calc_func(10, 20) # 일급함수 : 함수가 객체로 저장\n",
    "print(\"plues =\", p()) # plus = 30\n",
    "print(\"minus =\", m()) # minus = -10"
   ]
  },
  {
   "cell_type": "code",
   "execution_count": 10,
   "metadata": {},
   "outputs": [
    {
     "name": "stdout",
     "output_type": "stream",
     "text": [
      "plus = 30\n",
      "minus = -10\n",
      "x = 10\n",
      "y = 20\n",
      "plus = 300\n",
      "minus = -100\n",
      "x = 100\n",
      "y = 200\n",
      "4371054416 4371050576\n"
     ]
    }
   ],
   "source": [
    "# 2. 클래스 정의\n",
    "class calc_class:\n",
    "    # 멤버변수(전역변수(클래스 내)) : 자료 저장\n",
    "    x = y = 0\n",
    "    \n",
    "    # 생성자 : 객체 생성 + 멤버변수 값 초기화\n",
    "    def __init__(self, a, b): # self : 매개체, 함수에서 멤버변수(with 메서드)로 접근하기 위해서 사용\n",
    "        # 멤버변수 초기화\n",
    "        self.x = a # 10\n",
    "        self.y = b # 20\n",
    "    \n",
    "    # 멤버 메서드 : 클래스에서 정의한 함수\n",
    "    def plus(self):\n",
    "        return self.x + self.y\n",
    "    \n",
    "    def minus(self):\n",
    "        return self.x - self.y\n",
    "\n",
    "# 클래스(1) vs 객체(n)\n",
    "\n",
    "# 생성자 -> 객체1(object)\n",
    "obj1 = calc_class(10, 20) # 클래스명() : 생성자 -> 객체 생성\n",
    "# object.member() : 멤버메서드 호출\n",
    "print(\"plus =\", obj1.plus())   # plus = 30\n",
    "print(\"minus =\", obj1.minus()) # minus = -10\n",
    "# object.member : 멤버변수 호출\n",
    "print(\"x =\", obj1.x) # x = 10\n",
    "print(\"y =\", obj1.y) # y = 20\n",
    "\n",
    "# 생성자 -> 객체2(object)\n",
    "obj2 = calc_class(100, 200)\n",
    "print(\"plus =\", obj2.plus())   # plus = 300\n",
    "print(\"minus =\", obj2.minus()) # minus = -100\n",
    "print(\"x =\", obj2.x) # x = 100\n",
    "print(\"y =\", obj2.y) # y = 200\n",
    "# 객체 주소 확인\n",
    "print(id(obj1), id(obj2)) # 4371051984 4373018448"
   ]
  },
  {
   "cell_type": "code",
   "execution_count": 14,
   "metadata": {},
   "outputs": [
    {
     "name": "stdout",
     "output_type": "stream",
     "text": [
      "year : 2020\n",
      "month : 4\n",
      "day : 13\n",
      "week : 0\n"
     ]
    }
   ],
   "source": [
    "# 3. 라이브러리 클래스\n",
    "from datetime import date # from 모듈 import 클래스\n",
    "\n",
    "today = date(2020, 4, 13) # 생성자 -> 객체\n",
    "\n",
    "# object.member\n",
    "print(\"year :\", today.year)   # year : 2020\n",
    "print(\"month :\", today.month) # month : 4\n",
    "print(\"day :\", today.day)     # day : 13\n",
    "\n",
    "# object.member() : method\n",
    "week = today.weekday()\n",
    "print(\"week :\", week) # week : 0 -> 월요일"
   ]
  }
 ],
 "metadata": {
  "kernelspec": {
   "display_name": "Python 3",
   "language": "python",
   "name": "python3"
  },
  "language_info": {
   "codemirror_mode": {
    "name": "ipython",
    "version": 3
   },
   "file_extension": ".py",
   "mimetype": "text/x-python",
   "name": "python",
   "nbconvert_exporter": "python",
   "pygments_lexer": "ipython3",
   "version": "3.7.4"
  }
 },
 "nbformat": 4,
 "nbformat_minor": 2
}
