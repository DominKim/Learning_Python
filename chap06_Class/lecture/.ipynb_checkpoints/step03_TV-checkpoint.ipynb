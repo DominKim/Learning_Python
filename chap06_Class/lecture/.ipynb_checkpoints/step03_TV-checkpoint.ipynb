{
 "cells": [
  {
   "cell_type": "code",
   "execution_count": 3,
   "metadata": {},
   "outputs": [
    {
     "name": "stdout",
     "output_type": "stream",
     "text": [
      "mul = 200\n"
     ]
    }
   ],
   "source": [
    "'''\n",
    "기본(default) 생성자\n",
    " - 생성자를 생략하면 기본 생성자가 만들어진다.\n",
    " - 묵시적 생성자\n",
    "'''\n",
    "\n",
    "class default_cost:\n",
    "    # 생성자 생략\n",
    "    '''\n",
    "    def __init__(self): # 기본 생성자\n",
    "        pass\n",
    "    '''\n",
    "    \n",
    "    def data(self, x, y):\n",
    "        self.x = x\n",
    "        self.y = y\n",
    "    def mul(self):\n",
    "        re = self.x * self.y\n",
    "        return re\n",
    "    \n",
    "obj = default_cost()      # 기본 생성자\n",
    "obj.data(10, 20)          # data 생성\n",
    "print(\"mul =\", obj.mul()) # 연산 : mul = 200"
   ]
  },
  {
   "cell_type": "code",
   "execution_count": 7,
   "metadata": {},
   "outputs": [
    {
     "name": "stdout",
     "output_type": "stream",
     "text": [
      "전원 : False, 채널 : 0, 볼륨 : 0, 색상 : None\n",
      "전원 : False, 채널 : 5, 볼륨 : 10, 색상 : 검정색\n",
      "전원 : True, 채널 : 5, 볼륨 : 10, 색상 : 검정색\n",
      "전원 : True, 채널 : 6, 볼륨 : 11, 색상 : 검정색\n"
     ]
    }
   ],
   "source": [
    "# TV class 정의\n",
    "class TV: # class = 변수(명사, 자료) + 메서드(동사, 자료처리)\n",
    "    # 멤버변수 : 자료 저장\n",
    "    channel = volume = 0\n",
    "    power = False # off(False) -> on(True)\n",
    "    color = None  # null\n",
    "    \n",
    "    # 기본 생성자 : 객체 + 초기화 메서드 (가능))\n",
    "    def __init__(self):\n",
    "        pass\n",
    "    \n",
    "    # 멤버 메서드\n",
    "    def volumeUp(self):\n",
    "        self.volume += 1\n",
    "    def volumeDown(self):\n",
    "        self.volume -= 1\n",
    "    def channelUp(self):\n",
    "        self.channel += 1\n",
    "    def channelDown(self):\n",
    "        self.channel -= 1\n",
    "    def changePower(self):\n",
    "        self.power = not(self.power) # 반전(T -> F)\n",
    "        \n",
    "    # 멤버변수 초기화 메서드\n",
    "    def data(self, channel, volume, color):\n",
    "        self.channel = channel\n",
    "        self.volume = volume\n",
    "        self.color = color\n",
    "        \n",
    "    # TV 정보 출력 메서드\n",
    "    def display(self):\n",
    "        print(\"전원 : {}, 채널 : {}, 볼륨 : {}, 색상 : {}\"\n",
    "             .format(self.power, self.channel, self.volume, self.color))\n",
    "        \n",
    "#  객체 생성\n",
    "tv1 = TV() # 기본 생성자 -> 객체\n",
    "tv1.display()\n",
    "# 전원 : False, 채널 : 0, 볼륨 : 0, 색상 : None\n",
    "tv1.data(5, 10, \"검정색\") # 멤버변수 값 수정\n",
    "tv1.display()\n",
    "# 전원 : False, 채널 : 5, 볼륨 : 10, 색상 : 검정색\n",
    "tv1.changePower() # off -> on\n",
    "tv1.display()\n",
    "tv1.channelUp()   # 5 -> 6\n",
    "tv1.volumeUp()    # 10 -> 11\n",
    "tv1.display()\n",
    "# 전원 : True, 채널 : 6, 볼륨 : 11, 색상 : 검정색"
   ]
  },
  {
   "cell_type": "code",
   "execution_count": 12,
   "metadata": {},
   "outputs": [
    {
     "name": "stdout",
     "output_type": "stream",
     "text": [
      "전원 : True, 채널 : 10, 볼륨 : 10, 색상 : 파랑색\n"
     ]
    }
   ],
   "source": [
    "'''\n",
    "문) tv2 객체를 다음과 같이 생성하시오.\n",
    " 단계1 : 전원 : False, 채널 : 1, 볼륨 : 1, 색상 : 파랑색\n",
    " 단계2 : 전원 : True, 채널 : 10, 볼륨 : 15\n",
    " 단계3 : tv2 객체 정보 출력\n",
    "'''\n",
    "tv2 = TV()\n",
    "tv2.data(1, 1, \"파랑색\")\n",
    "tv2.changePower()\n",
    "for i in range(1, 10):\n",
    "    tv2.channelUp()\n",
    "for i in range(1, 10):\n",
    "    tv2.volumeUp()\n",
    "tv2.display()\n",
    "# 전원 : True, 채널 : 10, 볼륨 : 10, 색상 : 파랑색"
   ]
  }
 ],
 "metadata": {
  "kernelspec": {
   "display_name": "Python 3",
   "language": "python",
   "name": "python3"
  },
  "language_info": {
   "codemirror_mode": {
    "name": "ipython",
    "version": 3
   },
   "file_extension": ".py",
   "mimetype": "text/x-python",
   "name": "python",
   "nbconvert_exporter": "python",
   "pygments_lexer": "ipython3",
   "version": "3.7.4"
  }
 },
 "nbformat": 4,
 "nbformat_minor": 2
}
