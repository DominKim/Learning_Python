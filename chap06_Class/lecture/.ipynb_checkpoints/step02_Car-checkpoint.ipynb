{
 "cells": [
  {
   "cell_type": "code",
   "execution_count": 5,
   "metadata": {},
   "outputs": [
    {
     "name": "stdout",
     "output_type": "stream",
     "text": [
      "자동차 명 : 소나타\n",
      "소나타는 2000cc이고(소형), 문짝은 4개 이다.\n",
      "자동차 명 : 그랜저\n",
      "그랜저는 3000cc이고(대형), 문짝은 4개 이다.\n"
     ]
    }
   ],
   "source": [
    "'''\n",
    "동적 멤버 변수 생성\n",
    " - 필요한 경우 특정 함수 또는 생성자에서 멤버변수 생성\n",
    " self : 클래스의 멤버를 호출하는 역할\n",
    " self.멤버변수\n",
    " self.멤버메서드()\n",
    "'''\n",
    "\n",
    "class Car:\n",
    "    # 멤버 변수\n",
    "    # door = cc = 0\n",
    "    # name = None # null\n",
    "    \n",
    "    # 생성자 : 객체 + 초기화\n",
    "    def __init__(self, door, cc, name):\n",
    "        # self.멤버변수 = 매개변수\n",
    "        self.door = door # 동적 멤버변수 생성\n",
    "        self.cc = cc     # 동적 멤버변수 생성\n",
    "        self.name = name # 동적 멤버변수 생성\n",
    "        \n",
    "    # 멤버 메서드 : 자료 처리\n",
    "    def info(self):\n",
    "        self.kind = \"\"      # 동적 멤버변수 생성\n",
    "        if self.cc >= 3000: # 참조\n",
    "            self.kind = \"대형\"\n",
    "        else:\n",
    "            self.kind = \"소형\"\n",
    "        self.display()\n",
    "        \n",
    "    def display(self):\n",
    "        print(\"%s는 %dcc이고(%s), 문짝은 %d개 이다.\"\n",
    "             % (self.name, self.cc, self.kind, self.door))\n",
    "        \n",
    "# 객체 생성 : 생성자() -> object\n",
    "car1 = Car(4, 2000, \"소나타\")\n",
    "# car1.member or car1.member()\n",
    "print(\"자동차 명 :\", car1.name) # 자동차 명 : 소나타\n",
    "car1.info()\n",
    "# 소나타는 2000cc이고(소형), 문짝은 4개 이다.\n",
    "\n",
    "# 객체2\n",
    "car2 = Car(4, 3000, \"그랜저\")\n",
    "print(\"자동차 명 :\", car2.name) # 자동차 명 : 그래저\n",
    "car2.info()\n",
    "# 그랜저는 3000cc이고(대형), 문짝은 4개 이다."
   ]
  }
 ],
 "metadata": {
  "kernelspec": {
   "display_name": "Python 3",
   "language": "python",
   "name": "python3"
  },
  "language_info": {
   "codemirror_mode": {
    "name": "ipython",
    "version": 3
   },
   "file_extension": ".py",
   "mimetype": "text/x-python",
   "name": "python",
   "nbconvert_exporter": "python",
   "pygments_lexer": "ipython3",
   "version": "3.7.4"
  }
 },
 "nbformat": 4,
 "nbformat_minor": 2
}
