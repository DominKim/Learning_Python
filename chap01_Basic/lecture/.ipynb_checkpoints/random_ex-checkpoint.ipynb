{
 "cells": [
  {
   "cell_type": "code",
   "execution_count": 1,
   "metadata": {},
   "outputs": [],
   "source": [
    "import random"
   ]
  },
  {
   "cell_type": "code",
   "execution_count": 4,
   "metadata": {},
   "outputs": [
    {
     "name": "stdout",
     "output_type": "stream",
     "text": [
      "coin = 앞면\n",
      "앞면[0] or 뒷면[1] : 0\n",
      "정답!\n"
     ]
    }
   ],
   "source": [
    "coin = random.randint(0,1)\n",
    "if coin == 0:\n",
    "    print(\"coin = 앞면\")\n",
    "if coin == 1:\n",
    "    print(\"coin = 뒷면\")\n",
    "    \n",
    "my_coin = int(input(\"앞면[0] or 뒷면[1] : \"))\n",
    "if coin == my_coin:\n",
    "    print(\"정답!\")\n",
    "else:\n",
    "    print(\"땡!\")\n"
   ]
  },
  {
   "cell_type": "code",
   "execution_count": 7,
   "metadata": {},
   "outputs": [
    {
     "name": "stdout",
     "output_type": "stream",
     "text": [
      "4 * 4 = \n",
      "정답 입력1\n",
      "땡. 16\n"
     ]
    }
   ],
   "source": [
    "x = random.randint(2,9)\n",
    "y = random.randint(1,9)\n",
    "answer = x * y\n",
    "print(\"%d * %d = \" % (x, y))\n",
    "my_answer = int(input(\"정답 입력\"))\n",
    "\n",
    "if answer == my_answer:\n",
    "    print(\"정답. %d\" % (answer))\n",
    "else:\n",
    "    print(\"땡. %d\" % (answer))"
   ]
  },
  {
   "cell_type": "code",
   "execution_count": 10,
   "metadata": {},
   "outputs": [
    {
     "name": "stdout",
     "output_type": "stream",
     "text": [
      "치트키 = 바위\n",
      "가위(0), 바위(1), 보(2)2\n",
      "win\n"
     ]
    }
   ],
   "source": [
    "com = 1\n",
    "print(\"치트키 = 바위\")\n",
    "\n",
    "me = int(input(\"가위(0), 바위(1), 보(2)\"))\n",
    "\n",
    "if me == com:\n",
    "    print(\"draw\")\n",
    "elif me > com:\n",
    "    print(\"win\")\n",
    "else:\n",
    "    print(\"lose\")\n",
    "    "
   ]
  },
  {
   "cell_type": "code",
   "execution_count": 13,
   "metadata": {},
   "outputs": [
    {
     "name": "stdout",
     "output_type": "stream",
     "text": [
      "com = 가위\n",
      "가위 바위 보 입력 : 1\n",
      "win\n"
     ]
    }
   ],
   "source": [
    "com = random.randint(0,2)\n",
    "if com == 0:\n",
    "    print(\"com = 가위\")\n",
    "elif com == 1:\n",
    "    print(\"com = 바위\")    \n",
    "else:\n",
    "    print(\"com = 보\")\n",
    "\n",
    "me = int(input(\"가위 바위 보 입력 : \"))\n",
    "if com == me:\n",
    "    print(\"비김\")\n",
    "if com == 0:\n",
    "    if me == 1:\n",
    "        print(\"win\")\n",
    "    else:\n",
    "        print(\"lose\")    \n",
    "if com == 1:\n",
    "    if me == 0:\n",
    "        print(\"lose\")\n",
    "    else:\n",
    "        print(\"win\")\n",
    "if com == 2:\n",
    "    if me == 0:\n",
    "        print(\"win\")\n",
    "    elif me == 1:\n",
    "        print(\"lose\")"
   ]
  },
  {
   "cell_type": "code",
   "execution_count": null,
   "metadata": {},
   "outputs": [],
   "source": []
  }
 ],
 "metadata": {
  "kernelspec": {
   "display_name": "Python 3",
   "language": "python",
   "name": "python3"
  },
  "language_info": {
   "codemirror_mode": {
    "name": "ipython",
    "version": 3
   },
   "file_extension": ".py",
   "mimetype": "text/x-python",
   "name": "python",
   "nbconvert_exporter": "python",
   "pygments_lexer": "ipython3",
   "version": "3.7.4"
  }
 },
 "nbformat": 4,
 "nbformat_minor": 2
}
