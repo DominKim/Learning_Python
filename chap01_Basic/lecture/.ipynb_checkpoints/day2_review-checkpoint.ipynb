{
 "cells": [
  {
   "cell_type": "code",
   "execution_count": 1,
   "metadata": {},
   "outputs": [
    {
     "name": "stdout",
     "output_type": "stream",
     "text": [
      "날짜 입력 : 100\n",
      "100일은 3개월, 10일이다.\n"
     ]
    }
   ],
   "source": [
    "days = int(input(\"날짜 입력 : \"))\n",
    "month = days // 30\n",
    "day = days % 30\n",
    "print(\"%d일은 %d개월, %d일이다.\" % (days, month, day))"
   ]
  },
  {
   "cell_type": "code",
   "execution_count": 3,
   "metadata": {},
   "outputs": [
    {
     "name": "stdout",
     "output_type": "stream",
     "text": [
      "18700는 만원 1장, 오천원1장, 천원3장, 오백원 1개, 백원 2개이다.\n"
     ]
    }
   ],
   "source": [
    "money = 18700\n",
    "만원 = money // 10000\n",
    "오천원 = money % 10000 // 5000\n",
    "천원 = money % 5000 // 1000\n",
    "오백원 = money % 1000 // 500\n",
    "백원 = money % 500 // 100\n",
    "print(\"%d는 만원 %d장, 오천원%d장, 천원%d장, 오백원 %d개, 백원 %d개이다.\" % (money, 만원, 오천원, 천원, 오백원, 백원))"
   ]
  },
  {
   "cell_type": "code",
   "execution_count": null,
   "metadata": {},
   "outputs": [],
   "source": []
  }
 ],
 "metadata": {
  "kernelspec": {
   "display_name": "Python 3",
   "language": "python",
   "name": "python3"
  },
  "language_info": {
   "codemirror_mode": {
    "name": "ipython",
    "version": 3
   },
   "file_extension": ".py",
   "mimetype": "text/x-python",
   "name": "python",
   "nbconvert_exporter": "python",
   "pygments_lexer": "ipython3",
   "version": "3.7.4"
  }
 },
 "nbformat": 4,
 "nbformat_minor": 2
}
