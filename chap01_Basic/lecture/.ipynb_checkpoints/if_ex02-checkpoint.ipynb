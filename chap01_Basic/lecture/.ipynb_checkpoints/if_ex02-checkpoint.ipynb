{
 "cells": [
  {
   "cell_type": "code",
   "execution_count": 10,
   "metadata": {},
   "outputs": [
    {
     "name": "stdout",
     "output_type": "stream",
     "text": [
      "정거장수 입력 : 11\n",
      "650\n"
     ]
    }
   ],
   "source": [
    "station = int(input(\"정거장수 입력 : \"))\n",
    "fee = 0\n",
    "\n",
    "if station <= 5:\n",
    "    fee = 500\n",
    "if station <=10:\n",
    "    fee = 600\n",
    "if station > 10:\n",
    "    if station % 2 == 1:\n",
    "        fee = fee + 50\n",
    "    fee = fee + 600 + (station - 10) // 2 * 50\n",
    "\n",
    "print(fee)\n"
   ]
  },
  {
   "cell_type": "code",
   "execution_count": 4,
   "metadata": {},
   "outputs": [
    {
     "data": {
      "text/plain": [
       "0"
      ]
     },
     "execution_count": 4,
     "metadata": {},
     "output_type": "execute_result"
    }
   ],
   "source": [
    "1 // 2"
   ]
  },
  {
   "cell_type": "code",
   "execution_count": 13,
   "metadata": {},
   "outputs": [
    {
     "name": "stdout",
     "output_type": "stream",
     "text": [
      "True\n",
      "com = 6\n",
      "숫자 입력 : 1\n",
      "Up!\n",
      "Bingo!\n"
     ]
    }
   ],
   "source": [
    "num = 12\n",
    "print(num % 2 == 0 and num % 3 ==0)\n",
    "import random\n",
    "com = random.randint(1,10)\n",
    "print(\"com =\", com)\n",
    "\n",
    "me = int(input(\"숫자 입력 : \"))\n",
    "if com > me:\n",
    "    print(\"Up!\")\n",
    "if com < me:\n",
    "    print(\"Down!\")\n",
    "else:\n",
    "    print(\"Bingo!\")"
   ]
  },
  {
   "cell_type": "code",
   "execution_count": 17,
   "metadata": {},
   "outputs": [
    {
     "name": "stdout",
     "output_type": "stream",
     "text": [
      "===맘스터치===\n",
      "1. 싸이버거 : 3500원\n",
      "2. 딥치즈버거 : 2500원\n",
      "3. 콜라 : 1000원\n",
      "메뉴 선택 : 3\n",
      "잔돈은 0원 이다.\n"
     ]
    }
   ],
   "source": [
    "money = 3000\n",
    "\n",
    "price1 = 3500\n",
    "price2 = 2500\n",
    "price3 = 1000\n",
    "\n",
    "print(\"===맘스터치===\")\n",
    "print(\"1. 싸이버거 : %d원\" % (price1))\n",
    "print(\"2. 딥치즈버거 : %d원\" % (price2))\n",
    "print(\"3. 콜라 : %d원\" % (price3))\n",
    "\n",
    "choice = int(input(\"메뉴 선택 : \"))\n",
    "charge = 0\n",
    "if choice == 1:\n",
    "    charge = money - price1\n",
    "elif choice == 2:\n",
    "    charge = money - price2\n",
    "else:\n",
    "    charg = money - price3\n",
    "    \n",
    "if charge >= 0:\n",
    "    print(\"잔돈은 %d원 이다.\" % (charge))\n",
    "else:\n",
    "    print(\"잔돈이 부곶합니다\")"
   ]
  },
  {
   "cell_type": "code",
   "execution_count": 19,
   "metadata": {},
   "outputs": [
    {
     "name": "stdout",
     "output_type": "stream",
     "text": [
      "com =  319\n",
      "정답입력 : 1\n",
      "Bingo\n"
     ]
    }
   ],
   "source": [
    "com = random.randint(50,500)\n",
    "print(\"com = \", com)\n",
    "answer = com % 100 // 10\n",
    "\n",
    "me = int(input(\"정답입력 : \"))\n",
    "if me == answer:\n",
    "    print(\"Bingo\")\n",
    "else:\n",
    "    print(\"땡!\")"
   ]
  },
  {
   "cell_type": "code",
   "execution_count": 21,
   "metadata": {},
   "outputs": [
    {
     "name": "stdout",
     "output_type": "stream",
     "text": [
      "===ATM===\n",
      "1. 입금하기\n",
      "2. 이체하기\n",
      "메뉴 선택 : 10\n"
     ]
    }
   ],
   "source": [
    "my_acc = 1001\n",
    "my_money = 18000\n",
    "your_acc = 1002\n",
    "your_money = 37000\n",
    "print(\"===ATM===\")\n",
    "print(\"1. 입금하기\")\n",
    "print(\"2. 이체하기\")\n",
    "\n",
    "choice = int(input(\"메뉴 선택 : \"))\n",
    "if choice == 1:\n",
    "    input_money = int(input(\"입금할 금액 입력 : \"))\n",
    "    my_money = my_money + input_money\n",
    "    print(\"입금이 완료되었습니다.\")\n",
    "elif choice == 2:\n",
    "    check_acc = int(input(\"입금할 계좌 입력 : \"))\n",
    "    if your_acc == my_acc:\n",
    "        trans_money = int(input(\"이체할 금액 입력 : \"))\n",
    "        if my_money >= trans_money:\n",
    "            my_money = my_money - trans_money\n",
    "            your_money = your_money + trans_money\n",
    "            print(\"이체가 완료되었습니다.\")\n",
    "        else:\n",
    "            print(\"계좌에 잔액이 부족합니다.\")\n",
    "    else:\n",
    "        print(\"계좌번호 확인\")"
   ]
  },
  {
   "cell_type": "code",
   "execution_count": 23,
   "metadata": {},
   "outputs": [
    {
     "name": "stdout",
     "output_type": "stream",
     "text": [
      "x = 20, y = 10\n"
     ]
    }
   ],
   "source": [
    "x = 10\n",
    "y = 20\n",
    "x , y = y, x\n",
    "print(\"x = %d, y = %d\" % (x, y))"
   ]
  },
  {
   "cell_type": "code",
   "execution_count": null,
   "metadata": {},
   "outputs": [],
   "source": []
  }
 ],
 "metadata": {
  "kernelspec": {
   "display_name": "Python 3",
   "language": "python",
   "name": "python3"
  },
  "language_info": {
   "codemirror_mode": {
    "name": "ipython",
    "version": 3
   },
   "file_extension": ".py",
   "mimetype": "text/x-python",
   "name": "python",
   "nbconvert_exporter": "python",
   "pygments_lexer": "ipython3",
   "version": "3.7.4"
  }
 },
 "nbformat": 4,
 "nbformat_minor": 2
}
