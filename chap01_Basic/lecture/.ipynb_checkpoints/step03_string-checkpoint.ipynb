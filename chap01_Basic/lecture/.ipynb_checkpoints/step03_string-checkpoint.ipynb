{
 "cells": [
  {
   "cell_type": "code",
   "execution_count": 14,
   "metadata": {},
   "outputs": [
    {
     "name": "stdout",
     "output_type": "stream",
     "text": [
      "this is one line string\n",
      "this\n",
      "is multi line\n",
      "string\n",
      "this \n",
      "is multi line\n",
      " string\n",
      "부서번호 입력 : 10\n",
      "select * from emp\n",
      "where deptno = 10\n",
      "order by sal desc\n"
     ]
    }
   ],
   "source": [
    "'''\n",
    "문자열 처리\n",
    " - 문자열(string) : 문자들의 순서(index) 집합\n",
    " - indexing / slicing 가능\n",
    " - 문자열 = 상수 : 수정 불가\n",
    "'''\n",
    "\n",
    "# 1. 문자열 처리\n",
    "\n",
    "# 1) 문자열 유형\n",
    "lineStr = \"this is one line string\" # 한줄 문자형\n",
    "print(lineStr)\n",
    "\n",
    "# 여러줄 문자열\n",
    "multiStr = '''this\n",
    "is multi line\n",
    "string'''\n",
    "print(multiStr)\n",
    "\n",
    "multiStr2 = \"this \\nis multi line\\n string\" # \\n\n",
    "print(multiStr2)\n",
    "\n",
    "# sql문 : 부서번호\n",
    "deptno = int(input(\"부서번호 입력 : \"))\n",
    "query = f'''select * from emp\n",
    "where deptno = {deptno}\n",
    "order by sal desc'''\n",
    "print(query)"
   ]
  },
  {
   "cell_type": "code",
   "execution_count": 12,
   "metadata": {},
   "outputs": [
    {
     "name": "stdout",
     "output_type": "stream",
     "text": [
      "pythonprogram\n",
      "python47\n",
      "------------------------------\n"
     ]
    },
    {
     "data": {
      "text/plain": [
       "'\\nobject.member[저장] or object.member()[함수]\\nint.member\\nstr.member\\n'"
      ]
     },
     "execution_count": 12,
     "metadata": {},
     "output_type": "execute_result"
    }
   ],
   "source": [
    "# 2) 문자열 연산(+(결합), *(반복))\n",
    "print(\"python\" + \"program\") # 결합 연산자 : python program\n",
    "print(\"python\" + str(47)) # int -> str : python37\n",
    "print(\"-\"*30) # 30번 반복\n",
    "\n",
    "'''\n",
    "object.member[저장] or object.member()[함수]\n",
    "int.member\n",
    "str.member\n",
    "'''"
   ]
  },
  {
   "cell_type": "code",
   "execution_count": 25,
   "metadata": {},
   "outputs": [
    {
     "name": "stdout",
     "output_type": "stream",
     "text": [
      "this is one line string <class 'str'>\n",
      "문자열 길이 :  23\n",
      "t의 글자수 :  2\n",
      "True\n",
      "False\n",
      "['this', 'is', 'one', 'line', 'string']\n",
      "단어 길이 : 5\n",
      "['this', 'is multi line', 'string']\n",
      "문장 길이 : 3\n",
      "THIS\n",
      "IS MULTI LINE\n",
      "STRING\n"
     ]
    }
   ],
   "source": [
    "# 3) 문자열 처리 함수\n",
    "print(lineStr, type(lineStr)) # 내용, 자료형 출력\n",
    "# this is one line string\n",
    "print(\"문자열 길이 : \", len(lineStr)) # 문자열 길이 : 23\n",
    "print(\"t의 글자수 : \", lineStr.count(\"t\")) # t의 글자수 :  2\n",
    "\n",
    "# 접두어 : 시작문자열\n",
    "print(lineStr.startswith(\"this\")) # True\n",
    "print(lineStr.startswith(\"that\")) # False\n",
    "\n",
    "# split : 토큰 생성\n",
    "word = lineStr.split(sep = \" \") # 문장 -> 단어\n",
    "print(word) # ['this', 'is', 'one', 'line', 'string']\n",
    "print(\"단어 길이 : %d\" % (len(word))) # 단어 길이 : 5\n",
    "\n",
    "# 문단 -> 문장\n",
    "multiStr = '''this\n",
    "is multi line\n",
    "string'''\n",
    "\n",
    "sentences = multiStr.split(sep = \"\\n\")\n",
    "print(sentences) # ['this', 'is multi line', 'string']\n",
    "print(\"문장 길이 : %d\" % (len(sentences))) # 문장 길이 : 3\n",
    "\n",
    "# 결합(join) : \"구분자\".join(str)\n",
    "sentence = \" \".join(word) # 1) 단어 -> 문장\n",
    "print(sentence)\n",
    "\n",
    "# 소문자 -> 대문자\n",
    "print(multiStr.upper())"
   ]
  },
  {
   "cell_type": "code",
   "execution_count": 26,
   "metadata": {},
   "outputs": [
    {
     "name": "stdout",
     "output_type": "stream",
     "text": [
      "t\n",
      "g\n",
      "this\n",
      "string\n"
     ]
    }
   ],
   "source": [
    "# 4) indexing / slicing\n",
    "print(lineStr[0])  # 첫번째 문자 - t\n",
    "print(lineStr[-1]) # 마지막 문자 - g\n",
    "\n",
    "print(lineStr[:4])  # [start:end-1] - this\n",
    "print(lineStr[-6:]) # 오른쪽 끝 6개 문자열 - string"
   ]
  }
 ],
 "metadata": {
  "kernelspec": {
   "display_name": "Python 3",
   "language": "python",
   "name": "python3"
  },
  "language_info": {
   "codemirror_mode": {
    "name": "ipython",
    "version": 3
   },
   "file_extension": ".py",
   "mimetype": "text/x-python",
   "name": "python",
   "nbconvert_exporter": "python",
   "pygments_lexer": "ipython3",
   "version": "3.7.4"
  }
 },
 "nbformat": 4,
 "nbformat_minor": 2
}
