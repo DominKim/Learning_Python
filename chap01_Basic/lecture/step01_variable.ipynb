{
 "cells": [
  {
   "cell_type": "code",
   "execution_count": 2,
   "metadata": {},
   "outputs": [
    {
     "data": {
      "text/plain": [
       "'\\n변수(Variable)\\n - 형식) 변수명 = 값 or 수식 or 변수명\\n - 자료를 저장하는 메모리 이름\\n - type 선언이 없음\\x1f\\n'"
      ]
     },
     "execution_count": 2,
     "metadata": {},
     "output_type": "execute_result"
    }
   ],
   "source": [
    "'''\n",
    "변수(Variable)\n",
    " - 형식) 변수명 = 값 or 수식 or 변수명\n",
    " - 자료를 저장하는 메모리 이름\n",
    " - type 선언이 없음\u001f\n",
    "'''"
   ]
  },
  {
   "cell_type": "code",
   "execution_count": 14,
   "metadata": {},
   "outputs": [
    {
     "name": "stdout",
     "output_type": "stream",
     "text": [
      "Hello python\n",
      "Hello python\n",
      "<class 'str'> <class 'str'>\n",
      "100 <class 'int'>\n",
      "150.25 <class 'float'>\n",
      "False <class 'bool'>\n"
     ]
    }
   ],
   "source": [
    "# 1. 변수와 자료\n",
    "var1 = \"Hello python\" # string\n",
    "var2 = 'Hello python' # string\n",
    "print(var1) # line skip\n",
    "print(var2)\n",
    "\n",
    "# 변수 자료형 확인\n",
    "print(type(var1), type(var2)) # <class 'str'>\n",
    "\n",
    "var1 = 100\n",
    "print(var1, type(var1)) # 100 <class 'int'>\n",
    "\n",
    "var3 = 150.25\n",
    "print(var3, type(var3)) # 150.25 <class 'float'>\n",
    "\n",
    "var4 = False # True or Flase\n",
    "print(var4, type(var4)) # False <class 'bool'>"
   ]
  },
  {
   "cell_type": "code",
   "execution_count": 20,
   "metadata": {},
   "outputs": [
    {
     "name": "stdout",
     "output_type": "stream",
     "text": [
      "10 20\n",
      "4334912944 4334913264\n",
      "파이썬 키워드 :  ['False', 'None', 'True', 'and', 'as', 'assert', 'async', 'await', 'break', 'class', 'continue', 'def', 'del', 'elif', 'else', 'except', 'finally', 'for', 'from', 'global', 'if', 'import', 'in', 'is', 'lambda', 'nonlocal', 'not', 'or', 'pass', 'raise', 'return', 'try', 'while', 'with', 'yield']\n",
      "len =  35\n",
      "tot =  250\n"
     ]
    }
   ],
   "source": [
    "# 2. 변수명 작성규칙(p.11)\n",
    "_num10 = 10\n",
    "_NUM10 = 20\n",
    "print(_num10, _NUM10)\n",
    "print(id(_num10), id(_NUM10)) # 4334912944 4334913264 : 변수가 저장된 메모리 위치\n",
    "\n",
    "# 키워드 확인\n",
    "import keyword # 모듈 임포트\n",
    "py_keyword = keyword.kwlist # 키워드 반환\n",
    "print(\"파이썬 키워드 : \", py_keyword)\n",
    "print(\"len = \", len(py_keyword)) # len = 35\n",
    "\n",
    "# 낙타체\n",
    "korScore = 90 # 변수 = 상수\n",
    "matScore = 85 # 변수 = 상수\n",
    "engScore = 75 # 변수 = 상수\n",
    "\n",
    "tot = korScore + matScore + engScore # 변수 = 수식\n",
    "print(\"tot = \", tot)\n"
   ]
  },
  {
   "cell_type": "code",
   "execution_count": 23,
   "metadata": {},
   "outputs": [
    {
     "name": "stdout",
     "output_type": "stream",
     "text": [
      "150 45.23 45.23 150\n",
      "4334917424 4404220336 4404220336 4334917424\n"
     ]
    }
   ],
   "source": [
    "# 3. 참조변수 : 메모리 객체(값)를 참조하는 주소 저장 변수\n",
    "x = 150 # 150 객체의 주소\n",
    "y = 45.23\n",
    "y2 = y  # 변수 복제(주소 복제)\n",
    "x2 = 150 # 기존 객체가 있으면, 주소 반환\n",
    "\n",
    "# 변수 내용 출력\n",
    "print(x, y, y2, x2) # 150 45.23 45.23 150\n",
    "# 변수 주소 출력\n",
    "print(id(x), id(y), id(y2), id(x2))\n",
    "# 4334917424 4404220336 4404220336 4334917424"
   ]
  }
 ],
 "metadata": {
  "kernelspec": {
   "display_name": "Python 3",
   "language": "python",
   "name": "python3"
  },
  "language_info": {
   "codemirror_mode": {
    "name": "ipython",
    "version": 3
   },
   "file_extension": ".py",
   "mimetype": "text/x-python",
   "name": "python",
   "nbconvert_exporter": "python",
   "pygments_lexer": "ipython3",
   "version": "3.7.4"
  }
 },
 "nbformat": 4,
 "nbformat_minor": 2
}
