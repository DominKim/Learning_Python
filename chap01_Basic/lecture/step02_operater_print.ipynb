{
 "cells": [
  {
   "cell_type": "code",
   "execution_count": 2,
   "metadata": {},
   "outputs": [
    {
     "data": {
      "text/plain": [
       "'\\n연산자(Operater)\\n1. 변수에 값 할당(=)\\n2. 연산자 : 산술, 관계, 논리\\n3. print 형식\\n4. input : 키보드 입력\\n'"
      ]
     },
     "execution_count": 2,
     "metadata": {},
     "output_type": "execute_result"
    }
   ],
   "source": [
    "'''\n",
    "연산자(Operater)\n",
    "1. 변수에 값 할당(=)\n",
    "2. 연산자 : 산술, 관계, 논리\n",
    "3. print 형식\n",
    "4. input : 키보드 입력\n",
    "'''"
   ]
  },
  {
   "cell_type": "code",
   "execution_count": 8,
   "metadata": {},
   "outputs": [
    {
     "name": "stdout",
     "output_type": "stream",
     "text": [
      "i =  11\n",
      "tot =  21\n",
      "v1 =  100 v2 =  200\n",
      "v1 =  200 v2 =  100\n",
      "v1 =  1 v2 =  [2, 3, 4, 5]\n",
      "v1 =  [1, 2, 3, 4] v2 =  5\n"
     ]
    }
   ],
   "source": [
    "# 1. 변수에 값 할당(=)\n",
    "i = tot = 10\n",
    "i += 1 # i = i + 1\n",
    "tot += i # tot = tot + i\n",
    "print(\"i = \", i) # i = 11\n",
    "print(\"tot = \", tot) # tot = 21\n",
    "\n",
    "v1 ,v2 = 100, 200\n",
    "print(\"v1 = \", v1, \"v2 = \", v2) # v1 =  100 v2 =  200\n",
    "\n",
    "# 변수 값 교체\n",
    "v1, v2 = v2, v1\n",
    "'''\n",
    "tmp = v1\n",
    "v1 = v2\n",
    "v2 = tmp\n",
    "'''\n",
    "print(\"v1 = \", v1, \"v2 = \", v2) # v1 =  200 v2 =  100\n",
    "\n",
    "# 패킹(packing) 할당(* 사용)\n",
    "lst = [1, 2, 3, 4, 5] # vector : 1차원\n",
    "v1, *v2 = lst\n",
    "print(\"v1 = \", v1, \"v2 = \", v2) # v1 =  1 v2 =  [2, 3, 4, 5]\n",
    "\n",
    "*v1, v2 = lst\n",
    "print(\"v1 = \", v1, \"v2 = \", v2) # v1 =  [1, 2, 3, 4] v2 =  5"
   ]
  },
  {
   "cell_type": "code",
   "execution_count": 18,
   "metadata": {},
   "outputs": [
    {
     "name": "stdout",
     "output_type": "stream",
     "text": [
      "산술연산자\n",
      "120.5 79.5 2050.0\n",
      "4.878048780487805 4.0 18.0\n",
      "100\n",
      "관계연산자\n",
      "False\n",
      "True\n",
      "True\n",
      "False\n",
      "논리 연산자\n",
      "True\n",
      "False\n",
      "True\n"
     ]
    }
   ],
   "source": [
    "# 2. 연산자 : 산술, 관계, 논리\n",
    "print(\"산술연산자\")\n",
    "num1 = 100  # 피연산자1\n",
    "num2 = 20.5 # 피연산자2\n",
    "\n",
    "add = num1 + num2\n",
    "sub = num1 - num2\n",
    "mul = num1 * num2\n",
    "div = num1 / num2 # 실수 몫\n",
    "div2 = num1 // num2 # 정수 몫\n",
    "div3 = num1 % num2 # 나머지 계산\n",
    "square = num1**1\n",
    "print(add, sub, mul)\n",
    "print(div, div2, div3)\n",
    "print(square)\n",
    "\n",
    "print(\"관계연산자\") # True or False\n",
    "# 1) 동등비교\n",
    "bool_re = num1 == num2\n",
    "print(bool_re) # False\n",
    "\n",
    "bool_re = num1 != num2\n",
    "print(bool_re) # True\n",
    "\n",
    "# 2) 대소 관계 : >, >=, <, <=\n",
    "bool_re = num1 >= num2\n",
    "print(bool_re) # True\n",
    "\n",
    "bool_re = num1 <= num2\n",
    "print(bool_re) # False\n",
    "\n",
    "print(\"논리 연산자\") # or, and, not\n",
    "bool_re = num1 >= num2 or num1 <= 10\n",
    "print(bool_re) # True\n",
    "\n",
    "bool_re = num1 >= num2 and num1 <= 10\n",
    "print(bool_re) # False\n",
    "\n",
    "bool_re = not(num1 <= 10) # False -> True\n",
    "print(bool_re) # True"
   ]
  },
  {
   "cell_type": "code",
   "execution_count": 34,
   "metadata": {},
   "outputs": [
    {
     "name": "stdout",
     "output_type": "stream",
     "text": [
      "Help on built-in function print in module builtins:\n",
      "\n",
      "print(...)\n",
      "    print(value, ..., sep=' ', end='\\n', file=sys.stdout, flush=False)\n",
      "    \n",
      "    Prints the values to a stream, or to sys.stdout by default.\n",
      "    Optional keyword arguments:\n",
      "    file:  a file-like object (stream); defaults to the current sys.stdout.\n",
      "    sep:   string inserted between values, default a space.\n",
      "    end:   string appended after the last value, default a newline.\n",
      "    flush: whether to forcibly flush the stream.\n",
      "\n",
      "value =  60\n",
      "출력1, 출력2\n",
      "010-1111-2222\n",
      "원주율 =    3.146\n",
      "금액 =      10000\n",
      "금액 = 125,000\n",
      "10 + 20 = 30\n",
      "8진수 = 12, 16진수 = a\n",
      "PI = 3.146\n",
      "name : 홍길동, age : 35\n",
      "name : 홍길동, age : 35\n",
      "나이 : 35\n",
      "select * from emp where name = '홍길동' and age = 35\n"
     ]
    }
   ],
   "source": [
    "# 3. print 형식\n",
    "help(print) # 함수 도움말\n",
    "# package > module > function or class\n",
    "# Help on built-in function print in module builtins:\n",
    "# print(value, ..., sep=' ', end='\\n'\n",
    "# module builtins: 기본 모듈(Python 설치 시 자동으로 설치되는 모듈)\n",
    "'''\n",
    "함수의 인수\n",
    "매개변수 : 값을 넘겨 받는 함수\n",
    "파라미터 : 값을 갖는 변수 (대개 함수 내에서 dfault 값)\n",
    "'''\n",
    "\n",
    "# 1) 기본 인수\n",
    "print(\"value = \", 10 + 20 +30) # value =  60\n",
    "print(\"출력1\", end = \", \") # 출력1, 출력2\n",
    "print(\"출력2\")\n",
    "print(\"010\", \"1111\", \"2222\", sep = \"-\") # 010-1111-2222\n",
    "\n",
    "# 2) format(value, \"형식\")\n",
    "print(\"원주율 =\", format(3.1459, \"8.3f\")) # 원주율 =    3.146 \"8(전체 자릿수).3(소숫점자리)f\"\n",
    "print(\"금액 =\", format(10000, \"10d\"))    # 금액 =      10000\n",
    "print(\"금액 =\", format(125000, \"3,d\"))   # 금액 = 125,000\n",
    "\n",
    "# 3) print(\"양식문자\" % (값)) # 양식문자(p.22)\n",
    "num1 = 10; num2 = 20\n",
    "tot = num1 + num2\n",
    "print(\"%d + %d = %d\" % (num1, num2, tot))     # 10 + 20 = 30\n",
    "print(\"8진수 = %o, 16진수 = %x\" % (num1, num1)) # 8진수 = 12, 16진수 = a\n",
    "print(\"%s = %.3f\" % (\"PI\", 3.1459))           # PI = 3.146\n",
    "\n",
    "# 4) 외부 상수 받기\n",
    "# \"{}, {}\".format(value1, value2)\n",
    "print(\"name : {}, age : {}\".format(\"홍길동\", 35))\n",
    "# name : 홍길동, age : 35\n",
    "print(\"name : {1}, age : {0}\".format(35, \"홍길동\"))\n",
    "# name : 홍길동, age : 35\n",
    "\n",
    "# format 축약형 : sql\n",
    "# select * from emp whre name = '홍길동'\n",
    "name = \"홍길동\"\n",
    "age = int(input(\"나이 : \"))\n",
    "sql = f\"select * from emp where name = '{name}' and age = {age}\"\n",
    "# f = format\n",
    "print(sql) # select * from emp where name = '홍길동' and age = 35"
   ]
  },
  {
   "cell_type": "code",
   "execution_count": 38,
   "metadata": {},
   "outputs": [
    {
     "name": "stdout",
     "output_type": "stream",
     "text": [
      "첫번째 숫자 입력 : 10\n",
      "두번째 숫자 입력 : 20\n",
      "10 + 20 = 30\n",
      "첫번째 숫자 입력 : 30\n",
      "두번째 숫자 입력 : 40\n",
      "30.0 + 40.0 = 70.0\n",
      "b =  40.0\n",
      "<class 'float'>\n",
      "0\n",
      "1\n",
      "True\n",
      "False\n"
     ]
    }
   ],
   "source": [
    "# 4. input(\"prompt\") : 키보드 입력 : 키보드 입력(문자 인식)\n",
    "a = int(input(\"첫번째 숫자 입력 : \")) # string -> int\n",
    "b = int(input(\"두번째 숫자 입력 : \")) # string -> int\n",
    "tot = a +b\n",
    "print(\"%d + %d = %d\" % (a, b, tot))\n",
    "\n",
    "'''\n",
    "int(value)   : value -> integer\n",
    "float(value) : value -> float\n",
    "str(value)   : value -> string\n",
    "bool(value)  : value -> boolean\n",
    "'''\n",
    "\n",
    "a = float(input(\"첫번째 숫자 입력 : \")) # string -> float\n",
    "b = float(input(\"두번째 숫자 입력 : \")) # string -> float\n",
    "tot = a + b\n",
    "print(\"%.1f + %.1f = %.1f\" % (a, b, tot))\n",
    "print(\"b = \", b)\n",
    "print(type(b)) # <class 'float'>\n",
    "\n",
    "# boolean -> int\n",
    "print(int(False)) # 0\n",
    "print(int(True))  # 1\n",
    "\n",
    "# int -> boolean\n",
    "print(bool(-123123)) # True(0이 아닌 모든 값은 True로 반환한다.)\n",
    "print(bool(0)) # False"
   ]
  },
  {
   "cell_type": "code",
   "execution_count": null,
   "metadata": {},
   "outputs": [],
   "source": []
  }
 ],
 "metadata": {
  "kernelspec": {
   "display_name": "Python 3",
   "language": "python",
   "name": "python3"
  },
  "language_info": {
   "codemirror_mode": {
    "name": "ipython",
    "version": 3
   },
   "file_extension": ".py",
   "mimetype": "text/x-python",
   "name": "python",
   "nbconvert_exporter": "python",
   "pygments_lexer": "ipython3",
   "version": "3.7.4"
  }
 },
 "nbformat": 4,
 "nbformat_minor": 2
}
