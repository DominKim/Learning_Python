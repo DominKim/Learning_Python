{
 "cells": [
  {
   "cell_type": "code",
   "execution_count": null,
   "metadata": {},
   "outputs": [],
   "source": [
    "'''\n",
    "1. 축약함수(lambda)\n",
    " - 한줄 함수\n",
    " 형식) 변수 = lambda 인수 ㅖ 리턴값\n",
    " ex) lambda x,y : x + y\n",
    " \n",
    "2. scope\n",
    " - 전역변수, 지역변수(함수)\n",
    "'''\n",
    "\n",
    "# 1. 축약함수\n",
    "def adder(x, y):\n",
    "    add = x + y\n",
    "    return add\n",
    "\n",
    "add = lambda x, y : x + y\n",
    "# [lambda x, y : x + y for 변수 인 열거형객체]\n",
    "\n",
    "re = add(10, 20)\n",
    "print(re) # 30"
   ]
  },
  {
   "cell_type": "code",
   "execution_count": null,
   "metadata": {},
   "outputs": [],
   "source": [
    "# 2. scope\n",
    "'''\n",
    "전역변수 : 전지역 사용되는 변수\n",
    "지역변수 : 특정 지역(함수)에서만 사용되는 변수\n",
    "'''\n",
    "\n",
    "x = 50 # 전역변수\n",
    "\n",
    "def local_func(x):\n",
    "    x += 50 # x = 100 : 지역변수\n",
    "    #해당 함수가 종료되면 자동으로 소멸\n",
    "    \n",
    "local_func(x)   # x = 50\n",
    "print(\"x =\", x) # x = 50\n",
    "\n",
    "def global_func():\n",
    "    global x # 전역변수\n",
    "    x += 50\n",
    "    \n",
    "global_func()   # 함수\n",
    "print(\"x =\", x) # x = 100"
   ]
  }
 ],
 "metadata": {
  "kernelspec": {
   "display_name": "Python 3",
   "language": "python",
   "name": "python3"
  },
  "language_info": {
   "codemirror_mode": {
    "name": "ipython",
    "version": 3
   },
   "file_extension": ".py",
   "mimetype": "text/x-python",
   "name": "python",
   "nbconvert_exporter": "python",
   "pygments_lexer": "ipython3",
   "version": "3.7.4"
  }
 },
 "nbformat": 4,
 "nbformat_minor": 2
}
