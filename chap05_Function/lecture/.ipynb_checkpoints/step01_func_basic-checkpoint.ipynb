{
 "cells": [
  {
   "cell_type": "code",
   "execution_count": null,
   "metadata": {},
   "outputs": [],
   "source": [
    "'''\n",
    "함수(function)\n",
    " - 중복 코드 제거\n",
    " - 재사용 가능\n",
    " - 특정 기능 1개 정의\n",
    " - 유형) 사용자 정의 함수, 라이브러리 함수\n",
    "'''\n",
    "\n",
    "# 1. 사용자 정의함수\n",
    "'''\n",
    "형식)\n",
    "def 함수명(매개변수):\n",
    "    실행문\n",
    "    실행문\n",
    "    [return 값1, 값2, ...]\n",
    "'''\n",
    "\n",
    "# 1) 인수가 없는 함수\n",
    "def userFunc1():\n",
    "    print(\"인수가 없는 함수\")\n",
    "    print(\"userFunc1\")\n",
    "    \n",
    "userFunc1() # 함수 호출\n",
    "\n",
    "# 2) 인수가 있는 함수\n",
    "def userFunc2(x, y):\n",
    "    adder = x + y\n",
    "    print(\"adder =\", adder)\n",
    "    \n",
    "userFunc2(1, 10) # adder = 11\n",
    "\n",
    "# 3) 리턴 있는 함수\n",
    "def userFunc3(x, y):\n",
    "    add = x + y\n",
    "    sub = x - y\n",
    "    mul = x * y\n",
    "    div = x / y\n",
    "    return add, sub, mul, div\n",
    "\n",
    "a, s, m ,d = userFunc3(100, 20)\n",
    "print(\"add =\", a)\n",
    "print(\"sub =\", s)\n",
    "print(\"mul =\", m)\n",
    "print(\"div =\", d)"
   ]
  },
  {
   "cell_type": "code",
   "execution_count": 9,
   "metadata": {},
   "outputs": [
    {
     "name": "stdout",
     "output_type": "stream",
     "text": [
      "[1, 2, 3, 4, 5]\n",
      "['Decimal', 'Fraction', 'StatisticsError', '__all__', '__builtins__', '__cached__', '__doc__', '__file__', '__loader__', '__name__', '__package__', '__spec__', '_coerce', '_convert', '_counts', '_exact_ratio', '_fail_neg', '_find_lteq', '_find_rteq', '_isfinite', '_ss', '_sum', 'bisect_left', 'bisect_right', 'collections', 'groupby', 'harmonic_mean', 'math', 'mean', 'median', 'median_grouped', 'median_high', 'median_low', 'mode', 'numbers', 'pstdev', 'pvariance', 'stdev', 'variance']\n"
     ]
    }
   ],
   "source": [
    "# 2. 라이브러리 함수\n",
    "'''\n",
    "1) bulit-in : 기본함수\n",
    "2) import   : 모듈.함수()\n",
    "'''\n",
    "\n",
    "# 1) built-in : 기본함수()\n",
    "dataset = list(range(1,6))\n",
    "print(dataset) # [1, 2, 3, 4, 5]\n",
    "\n",
    "# 2) import : 모듈.함수()\n",
    "import statistics # 방법1) 통계관련 함수 제공\n",
    "'''\n",
    "ctrl + 클릭 : module or function source 보기\n",
    "'''\n",
    "from statistics import mean # 방법2)\n",
    "\n",
    "print(dir(statistics)) # 해당 모듈의 정보\n",
    "\n",
    "avg1 = statistics.mean(dataset)\n",
    "avg2 = mean(dataset)"
   ]
  },
  {
   "cell_type": "code",
   "execution_count": null,
   "metadata": {},
   "outputs": [],
   "source": []
  }
 ],
 "metadata": {
  "kernelspec": {
   "display_name": "Python 3",
   "language": "python",
   "name": "python3"
  },
  "language_info": {
   "codemirror_mode": {
    "name": "ipython",
    "version": 3
   },
   "file_extension": ".py",
   "mimetype": "text/x-python",
   "name": "python",
   "nbconvert_exporter": "python",
   "pygments_lexer": "ipython3",
   "version": "3.7.4"
  }
 },
 "nbformat": 4,
 "nbformat_minor": 2
}
