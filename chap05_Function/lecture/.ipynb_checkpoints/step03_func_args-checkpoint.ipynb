{
 "cells": [
  {
   "cell_type": "code",
   "execution_count": null,
   "metadata": {},
   "outputs": [],
   "source": [
    "'''\n",
    "함수의 가변인수\n",
    " - 한개의 가인수로 여러 개의 실인수를 받는 인수\n",
    " 형식) def 함수명(*인수)\n",
    "'''\n",
    "# 1. tuple형으로 받는 가변인수\n",
    "def Func1(name, *names):\n",
    "    print(name)     # 홍길동\n",
    "    print(names)    # ('인순이', '조피디')\n",
    "    print(names[0]) # 인순이\n",
    "\n",
    "Func1(\"홍길동\", \"인순이\", \"조피디\")\n",
    "\n",
    "# import 패키지.모듈 or 모듈(라이브러리가 작을때)\n",
    "import scatter_module # 방법1) import 패키지.모듈\n",
    "# from 패키지.모듈 import 함수1, 함수2, 클래스1, 클래스2\n",
    "from scatter_module import Avg, var_std\n",
    "\n",
    "datas = [2, 3, 5, 6, 7, 8.5]\n",
    "avg1 = scatter_module.Avg(datas)\n",
    "avg2 = Avg(datas) # 방법2)\n",
    "print(avg1) # 5.25\n",
    "print(avg2) # 5.25\n",
    "\n",
    "var, std = var_std(datas)\n",
    "print(\"var = \", var) # var =  5.975\n",
    "print(\"std =\", std)  # std = 2.444381312316063\n",
    "\n",
    "def stats(func, *data):\n",
    "    if func == \"sum\":\n",
    "        return sum(data) # 함수 실행 종료(break랑 비슷하다.)\n",
    "    elif func == \"avg\":\n",
    "        return Avg(data)\n",
    "    elif func == \"var\":\n",
    "        return var_std(data)\n",
    "    elif func == \"std\":\n",
    "        return var_std(data)\n",
    "    else:\n",
    "        return '해당 함수 없음' # \"\" 넣어서 하는건 불가능\n",
    "    \n",
    "print(\"sum =\", stats(\"sum\", 1, 2, 3, 4, 5)) # sum = 15\n",
    "print(\"avg =\", stats(\"avg\", 1, 2, 3, 4, 5)) # avg = 3\n",
    "var, _ = stats(\"var\", 1, 2, 3, 4, 5) # _ 함수의 값을 반환 받지만 사용차지 않을 때 사용\n",
    "print(\"var =\", var) # var = 2.5\n",
    "_, std = stats(\"std\", 1, 2, 3, 4, 5)\n",
    "print(\"std =\", std) # std = 1.5811388300841898"
   ]
  },
  {
   "cell_type": "code",
   "execution_count": null,
   "metadata": {},
   "outputs": [],
   "source": [
    "# 2. dict형 가변인수\n",
    "def person(w, h, **other):\n",
    "    print(\"w=\", w)\n",
    "    print(\"h=\", h)\n",
    "    print(other)\n",
    "\n",
    "person(65, 175, name = \"홍길동\", age = 35)\\\n",
    "'''\n",
    "w= 65\n",
    "h= 175\n",
    "{'name': '홍길동', 'age': 35}\n",
    "'''"
   ]
  },
  {
   "cell_type": "code",
   "execution_count": null,
   "metadata": {},
   "outputs": [],
   "source": [
    "# 3. 함수를 인수로 받기\n",
    "def square(x):\n",
    "    return x ** 2\n",
    "\n",
    "def my_func(func, datas):\n",
    "    result = [func(d) for d in datas]\n",
    "    return result\n",
    "\n",
    "datas = [1, 2, 3, 4, 5]\n",
    "print(my_func(square, datas)) # (함수, 데이터셋)\n",
    "# [1, 4, 9, 16, 25]"
   ]
  }
 ],
 "metadata": {
  "kernelspec": {
   "display_name": "Python 3",
   "language": "python",
   "name": "python3"
  },
  "language_info": {
   "codemirror_mode": {
    "name": "ipython",
    "version": 3
   },
   "file_extension": ".py",
   "mimetype": "text/x-python",
   "name": "python",
   "nbconvert_exporter": "python",
   "pygments_lexer": "ipython3",
   "version": "3.7.4"
  }
 },
 "nbformat": 4,
 "nbformat_minor": 2
}
