{
 "cells": [
  {
   "cell_type": "code",
   "execution_count": null,
   "metadata": {},
   "outputs": [],
   "source": [
    "from statistics import mean # 통계함수\n",
    "from math import sqrt       # 수학함수\n",
    "\n",
    "# 평균 함수\n",
    "def Avg(dataset):\n",
    "    return mean(dataset)\n",
    "\n",
    "# 분산과 표준편차 함수\n",
    "def var_std(dataset):\n",
    "    avg = Avg(dataset)  # 산술평균\n",
    "    \n",
    "    # list + for\n",
    "    diff = [(x-avg) ** 2 for x in dataset] # (x변량 -  평균) ** 2\n",
    "    diff_sum = sum(diff)\n",
    "    \n",
    "    var = diff_sum / (len(dataset) - 1) # 분산\n",
    "    std = sqrt(var) # 표준편차\n",
    "    return var, std\n",
    "!jupyter nbconvert --to python scatter_module.ipynb"
   ]
  },
  {
   "cell_type": "code",
   "execution_count": null,
   "metadata": {},
   "outputs": [],
   "source": []
  }
 ],
 "metadata": {
  "kernelspec": {
   "display_name": "Python 3",
   "language": "python",
   "name": "python3"
  },
  "language_info": {
   "codemirror_mode": {
    "name": "ipython",
    "version": 3
   },
   "file_extension": ".py",
   "mimetype": "text/x-python",
   "name": "python",
   "nbconvert_exporter": "python",
   "pygments_lexer": "ipython3",
   "version": "3.7.4"
  }
 },
 "nbformat": 4,
 "nbformat_minor": 2
}
