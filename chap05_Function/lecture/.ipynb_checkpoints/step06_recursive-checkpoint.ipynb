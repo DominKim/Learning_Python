{
 "cells": [
  {
   "cell_type": "code",
   "execution_count": 13,
   "metadata": {},
   "outputs": [
    {
     "name": "stdout",
     "output_type": "stream",
     "text": [
      "0\n",
      "1 2 3 4 5 \n"
     ]
    }
   ],
   "source": [
    "'''\n",
    "재귀호출(recursive call)\n",
    " - 함수 내에서 자신의 함수를 반복적으로 호출하는 기법\n",
    " - 반복적으로 변수의 값을 조정해서 연산 수해\n",
    " ex) 1 ~ n (1 + 2 + 3 + 4 .... n)\n",
    " - 반드시 종료조건 필요\n",
    "'''\n",
    "\n",
    "# 1. 카운터 : 1 ~ n\n",
    "def Counter(n):\n",
    "    if n == 0: # 종료조건\n",
    "        # print(\"프로그램 종료\")\n",
    "        return 0 # 함수종료\n",
    "    else:\n",
    "        Counter(n-1) # 1. 재ㅜ기호출\n",
    "        '''\n",
    "        1. stack : [5(first), 4(5-1), 3(4-1), 2(3-1), 1(2-1)] 0\n",
    "        2. stack 역순으로 출력\n",
    "        '''\n",
    "        print(n, end= \" \") # 카운트 : 1 2 3 4 5(stack)\n",
    "\n",
    "print(Counter(0)) # 0\n",
    "Counter(5)\n",
    "print()"
   ]
  },
  {
   "cell_type": "code",
   "execution_count": 15,
   "metadata": {},
   "outputs": [
    {
     "name": "stdout",
     "output_type": "stream",
     "text": [
      "1\n",
      "3 6 10 15 15\n"
     ]
    }
   ],
   "source": [
    "# 2. 누적(1 + 2 + 3 ... ~ n)\n",
    "def Adder(n):\n",
    "    if n == 1:\n",
    "        return 1\n",
    "    else:\n",
    "        result = n + Adder(n-1) # 1. 재귀호출 -> 2. 누적\n",
    "        '''\n",
    "        stack : LIFO(후입선출)\n",
    "        1. stack[5(first), 4(5-1), 3(4-1), 2(3-1)] 1(2-1)\n",
    "        2. stack 역순으로 누적 : 1 + [2 + 3 + 4 + 5] = 15\n",
    "        '''\n",
    "        print(result, end = \" \")\n",
    "        return result\n",
    "print(Adder(1)) # 1\n",
    "print(Adder(5)) # 15"
   ]
  },
  {
   "cell_type": "code",
   "execution_count": 16,
   "metadata": {},
   "outputs": [
    {
     "name": "stdout",
     "output_type": "stream",
     "text": [
      "원반의 개수를 입력하세요!(종료 : 0) :3\n",
      "A에서 C로 1 번째 원반 이동\n",
      "A에서 B로 2 번째 원반 이동\n",
      "C에서 B로 1 번째 원반 이동\n",
      "A에서 C로 3 번째 원반 이동\n",
      "B에서 A로 1 번째 원반 이동\n",
      "B에서 C로 2 번째 원반 이동\n",
      "A에서 C로 1 번째 원반 이동\n",
      "원반의 개수를 입력하세요!(종료 : 0) :0\n"
     ]
    }
   ],
   "source": [
    "def hanoi(num, _from, _by, _to):\n",
    "    #탈출 조건\n",
    "    if num == 1:\n",
    "        print(\"{}에서 {}로 {} 번째 원반 이동\".format(_from, _to, num))\n",
    "        return\n",
    "\n",
    "    hanoi(num-1, _from, _to, _by)\n",
    "    print(\"{}에서 {}로 {} 번째 원반 이동\".format(_from, _to, num))\n",
    "    hanoi(num-1, _by, _from, _to)\n",
    "\n",
    "if __name__ == \"__main__\":\n",
    "    while 1:\n",
    "        numOfTray = int(input(\"원반의 개수를 입력하세요!(종료 : 0) :\"))\n",
    "        if numOfTray == 0:\n",
    "            break\n",
    "        hanoi(numOfTray, 'A', 'B', 'C')"
   ]
  }
 ],
 "metadata": {
  "kernelspec": {
   "display_name": "Python 3",
   "language": "python",
   "name": "python3"
  },
  "language_info": {
   "codemirror_mode": {
    "name": "ipython",
    "version": 3
   },
   "file_extension": ".py",
   "mimetype": "text/x-python",
   "name": "python",
   "nbconvert_exporter": "python",
   "pygments_lexer": "ipython3",
   "version": "3.7.4"
  }
 },
 "nbformat": 4,
 "nbformat_minor": 2
}
