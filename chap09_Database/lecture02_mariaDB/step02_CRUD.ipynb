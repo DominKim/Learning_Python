{
 "cells": [
  {
   "cell_type": "code",
   "execution_count": 13,
   "metadata": {},
   "outputs": [],
   "source": [
    "'''\n",
    "CRUD\n",
    " Create, Read, Update, Delete\n",
    "'''\n",
    "\n",
    "import pymysql\n",
    "\n",
    "config = {\n",
    "    \"host\" : \"127.0.0.1\",\n",
    "    \"user\" : \"root\",\n",
    "    \"password\" : \"mariadb\",\n",
    "    \"database\" : \"work\",\n",
    "    \"port\" : 3306,\n",
    "    \"charset\" : \"utf8\",\n",
    "    \"use_unicode\" : True}"
   ]
  },
  {
   "cell_type": "code",
   "execution_count": 14,
   "metadata": {},
   "outputs": [
    {
     "name": "stdout",
     "output_type": "stream",
     "text": [
      "code :1\n",
      "name :test\n",
      "su :3\n",
      "dan :500000\n",
      "에러 발생 (1146, \"Table 'work.goods' doesn't exist\")\n"
     ]
    }
   ],
   "source": [
    "try:\n",
    "    # 1. db 연동 객체\n",
    "    conn = pymysql.connect(**config)\n",
    "    # 2. cursor 객체 : sql 문\n",
    "    cursor = conn.cursor()\n",
    "    \n",
    "    # 4. Insert\n",
    "    code = int(input(\"code :\"))\n",
    "    name = input(\"name :\")\n",
    "    su = int(input(\"su :\"))\n",
    "    dan = int(input(\"dan :\"))\n",
    "    sql = f\"insert into goods values({code}, '{name}', {su}, {dan})\"\n",
    "    cursor.execute(sql) # 레코드 추가\n",
    "    conn.commit()\n",
    "    \n",
    "    # 5. Update : code -> su, dan 수정\n",
    "    code = int(input(\"수정 code :\"))\n",
    "    su = int(input(\"수정 su :\"))\n",
    "    dan = int(input(\"수정 dan :\"))\n",
    "    sql = f\"update goods set su = {su}, dan = {dan} where code = {code}\"\n",
    "    cursor.execute(sql) # 레코드 추가\n",
    "    conn.commit()\n",
    "    \n",
    "    # 6. Delete : code -> 유무 -> 삭제\n",
    "    code = int(input(\"삭제 code : \"))\n",
    "    cursor.execute(f\"select * from goods where code = {code}\")\n",
    "    row = cursor.fetchone()\n",
    "    \n",
    "    if row:\n",
    "        curosr.execute(f\"delete from goods where code = {code}\")\n",
    "        conn.commit()\n",
    "    else:\n",
    "        print(\"해당 코드 없음\")\n",
    "    \n",
    "except Exception as e:\n",
    "    print(\"에러 발생\", e)\n",
    "    conn.rollback()\n",
    "finally:\n",
    "    cursor.close()\n",
    "    conn.close()"
   ]
  },
  {
   "cell_type": "code",
   "execution_count": null,
   "metadata": {},
   "outputs": [],
   "source": []
  }
 ],
 "metadata": {
  "kernelspec": {
   "display_name": "Python 3",
   "language": "python",
   "name": "python3"
  },
  "language_info": {
   "codemirror_mode": {
    "name": "ipython",
    "version": 3
   },
   "file_extension": ".py",
   "mimetype": "text/x-python",
   "name": "python",
   "nbconvert_exporter": "python",
   "pygments_lexer": "ipython3",
   "version": "3.7.4"
  }
 },
 "nbformat": 4,
 "nbformat_minor": 2
}
