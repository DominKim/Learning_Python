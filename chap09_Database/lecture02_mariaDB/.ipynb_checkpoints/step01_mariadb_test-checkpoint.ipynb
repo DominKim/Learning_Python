{
 "cells": [
  {
   "cell_type": "code",
   "execution_count": null,
   "metadata": {},
   "outputs": [],
   "source": [
    "'''\n",
    "MariaDB 연동 TEST\n",
    "'''\n",
    "import cx_Oracle\n",
    "\n",
    "\n",
    "try:\n",
    "    # 1. db 연동 객체\n",
    "    conn = cx_Oracle.connect(\"scott/oracle@localhost:32769/xe\")\n",
    "    \n",
    "    # 2. sql 실행 객체\n",
    "    cursor = conn.cursor()\n",
    "    \n",
    "    '''\n",
    "    # 3. table 생성 & 재생성\n",
    "    sql = \"\"\"create or replace table goods(\n",
    "    code int primary key,\n",
    "    name varchar(30) not null,\n",
    "    su int not null,\n",
    "    dan int not null)\n",
    "    \"\"\"\n",
    "    cursor.execute(sql)\n",
    "    '''\n",
    "    \n",
    "    # 4. 레코드 추가\n",
    "    cursor.execute(\"insert into goods values(1, 're', 2, 850000)\")\n",
    "    cursor.execute(\"insert into goods values(2, 'se', 3, 550000)\")\n",
    "    cursor.execute(\"insert into goods values(3, 'as', 2, 350000)\")\n",
    "    cursor.execute(\"insert into goods values(4, 'HDTV', 2, 1500000)\")\n",
    "    conn.commit()\n",
    "    \n",
    "    # 5. sql문 실행\n",
    "    sql = \"select * from goods\"\n",
    "    cursor.execute(sql)\n",
    "    data = cursor.fetchall()\n",
    "    \n",
    "    for row in data:\n",
    "        print(row)\n",
    "    print(\"전체 레코드 수 :\", len(data))\n",
    "    \n",
    "except Exception as e:\n",
    "    print(\"예외발생 :\", e)\n",
    "    conn.rollback()\n",
    "finally:\n",
    "    cursor.close()\n",
    "    conn.close()\n"
   ]
  },
  {
   "cell_type": "code",
   "execution_count": 19,
   "metadata": {},
   "outputs": [
    {
     "ename": "DatabaseError",
     "evalue": "Error while trying to retrieve text for error ORA-01804",
     "output_type": "error",
     "traceback": [
      "\u001b[0;31m---------------------------------------------------------------------------\u001b[0m",
      "\u001b[0;31mDatabaseError\u001b[0m                             Traceback (most recent call last)",
      "\u001b[0;32m<ipython-input-19-5fc201018a3f>\u001b[0m in \u001b[0;36m<module>\u001b[0;34m\u001b[0m\n\u001b[1;32m      1\u001b[0m \u001b[0;32mimport\u001b[0m \u001b[0mcx_Oracle\u001b[0m\u001b[0;34m\u001b[0m\u001b[0;34m\u001b[0m\u001b[0m\n\u001b[0;32m----> 2\u001b[0;31m \u001b[0mconn\u001b[0m \u001b[0;34m=\u001b[0m \u001b[0mcx_Oracle\u001b[0m\u001b[0;34m.\u001b[0m\u001b[0mconnect\u001b[0m\u001b[0;34m(\u001b[0m\u001b[0;34m\"scott/tiger@localhost:32769/xe\"\u001b[0m\u001b[0;34m)\u001b[0m\u001b[0;34m\u001b[0m\u001b[0;34m\u001b[0m\u001b[0m\n\u001b[0m",
      "\u001b[0;31mDatabaseError\u001b[0m: Error while trying to retrieve text for error ORA-01804"
     ]
    }
   ],
   "source": [
    "import cx_Oracle\n",
    "conn = cx_Oracle.connect(\"scott/tiger@localhost:32769/xe\")"
   ]
  },
  {
   "cell_type": "code",
   "execution_count": null,
   "metadata": {},
   "outputs": [],
   "source": []
  }
 ],
 "metadata": {
  "kernelspec": {
   "display_name": "Python 3",
   "language": "python",
   "name": "python3"
  },
  "language_info": {
   "codemirror_mode": {
    "name": "ipython",
    "version": 3
   },
   "file_extension": ".py",
   "mimetype": "text/x-python",
   "name": "python",
   "nbconvert_exporter": "python",
   "pygments_lexer": "ipython3",
   "version": "3.7.4"
  }
 },
 "nbformat": 4,
 "nbformat_minor": 2
}
