{
 "cells": [
  {
   "cell_type": "code",
   "execution_count": 3,
   "metadata": {},
   "outputs": [],
   "source": [
    "'''\n",
    "CRUD\n",
    " Create, Read, Update, Delete\n",
    "'''\n",
    "\n",
    "import pymysql\n",
    "\n",
    "# config = {\n",
    "#     \"host\" : \"127.0.0.1\",\n",
    "#     \"user\" : \"scott\",\n",
    "#     \"password\" : \"tiger\",\n",
    "#     \"database\" : \"work\",\n",
    "#     \"port\" : 3306,\n",
    "#     \"charset\" : \"utf8\"\n",
    "#     \"use_unicode\" : True}"
   ]
  },
  {
   "cell_type": "code",
   "execution_count": null,
   "metadata": {},
   "outputs": [],
   "source": [
    "try:\n",
    "    # 1. db 연동 객체\n",
    "    conn = pymysql.connect(**config)\n",
    "    # 2. cursor 객체 : sql 문\n",
    "    cursor = conn.cursor()\n",
    "except Exception as e:\n",
    "    print(\"에러 발생\", e)\n",
    "    conn.rollback()\n",
    "finally:\n",
    "    cursor.close()\n",
    "    conn.close()"
   ]
  }
 ],
 "metadata": {
  "kernelspec": {
   "display_name": "Python 3",
   "language": "python",
   "name": "python3"
  },
  "language_info": {
   "codemirror_mode": {
    "name": "ipython",
    "version": 3
   },
   "file_extension": ".py",
   "mimetype": "text/x-python",
   "name": "python",
   "nbconvert_exporter": "python",
   "pygments_lexer": "ipython3",
   "version": "3.7.4"
  }
 },
 "nbformat": 4,
 "nbformat_minor": 2
}
