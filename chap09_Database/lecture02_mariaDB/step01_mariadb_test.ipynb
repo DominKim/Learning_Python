{
 "cells": [
  {
   "cell_type": "code",
   "execution_count": 17,
   "metadata": {},
   "outputs": [
    {
     "name": "stdout",
     "output_type": "stream",
     "text": [
      "예외발생 : ORA-01017: invalid username/password; logon denied\n"
     ]
    },
    {
     "ename": "InterfaceError",
     "evalue": "not open",
     "output_type": "error",
     "traceback": [
      "\u001b[0;31m---------------------------------------------------------------------------\u001b[0m",
      "\u001b[0;31mDatabaseError\u001b[0m                             Traceback (most recent call last)",
      "\u001b[0;32m<ipython-input-17-2a941545258e>\u001b[0m in \u001b[0;36m<module>\u001b[0;34m\u001b[0m\n\u001b[1;32m      8\u001b[0m     \u001b[0;31m# 1. db 연동 객체\u001b[0m\u001b[0;34m\u001b[0m\u001b[0;34m\u001b[0m\u001b[0;34m\u001b[0m\u001b[0m\n\u001b[0;32m----> 9\u001b[0;31m     \u001b[0mconn\u001b[0m \u001b[0;34m=\u001b[0m \u001b[0mcx_Oracle\u001b[0m\u001b[0;34m.\u001b[0m\u001b[0mconnect\u001b[0m\u001b[0;34m(\u001b[0m\u001b[0;34m\"scott/oracle@localhost:32769/xe\"\u001b[0m\u001b[0;34m)\u001b[0m\u001b[0;34m\u001b[0m\u001b[0;34m\u001b[0m\u001b[0m\n\u001b[0m\u001b[1;32m     10\u001b[0m \u001b[0;34m\u001b[0m\u001b[0m\n",
      "\u001b[0;31mDatabaseError\u001b[0m: ORA-01017: invalid username/password; logon denied",
      "\nDuring handling of the above exception, another exception occurred:\n",
      "\u001b[0;31mInterfaceError\u001b[0m                            Traceback (most recent call last)",
      "\u001b[0;32m<ipython-input-17-2a941545258e>\u001b[0m in \u001b[0;36m<module>\u001b[0;34m\u001b[0m\n\u001b[1;32m     42\u001b[0m     \u001b[0mprint\u001b[0m\u001b[0;34m(\u001b[0m\u001b[0;34m\"예외발생 :\"\u001b[0m\u001b[0;34m,\u001b[0m \u001b[0me\u001b[0m\u001b[0;34m)\u001b[0m\u001b[0;34m\u001b[0m\u001b[0;34m\u001b[0m\u001b[0m\n\u001b[0;32m---> 43\u001b[0;31m     \u001b[0mconn\u001b[0m\u001b[0;34m.\u001b[0m\u001b[0mrollback\u001b[0m\u001b[0;34m(\u001b[0m\u001b[0;34m)\u001b[0m\u001b[0;34m\u001b[0m\u001b[0;34m\u001b[0m\u001b[0m\n\u001b[0m\u001b[1;32m     44\u001b[0m \u001b[0;32mfinally\u001b[0m\u001b[0;34m:\u001b[0m\u001b[0;34m\u001b[0m\u001b[0;34m\u001b[0m\u001b[0m\n",
      "\u001b[0;31mInterfaceError\u001b[0m: not connected",
      "\nDuring handling of the above exception, another exception occurred:\n",
      "\u001b[0;31mInterfaceError\u001b[0m                            Traceback (most recent call last)",
      "\u001b[0;32m<ipython-input-17-2a941545258e>\u001b[0m in \u001b[0;36m<module>\u001b[0;34m\u001b[0m\n\u001b[1;32m     43\u001b[0m     \u001b[0mconn\u001b[0m\u001b[0;34m.\u001b[0m\u001b[0mrollback\u001b[0m\u001b[0;34m(\u001b[0m\u001b[0;34m)\u001b[0m\u001b[0;34m\u001b[0m\u001b[0;34m\u001b[0m\u001b[0m\n\u001b[1;32m     44\u001b[0m \u001b[0;32mfinally\u001b[0m\u001b[0;34m:\u001b[0m\u001b[0;34m\u001b[0m\u001b[0;34m\u001b[0m\u001b[0m\n\u001b[0;32m---> 45\u001b[0;31m     \u001b[0mcursor\u001b[0m\u001b[0;34m.\u001b[0m\u001b[0mclose\u001b[0m\u001b[0;34m(\u001b[0m\u001b[0;34m)\u001b[0m\u001b[0;34m\u001b[0m\u001b[0;34m\u001b[0m\u001b[0m\n\u001b[0m\u001b[1;32m     46\u001b[0m     \u001b[0mconn\u001b[0m\u001b[0;34m.\u001b[0m\u001b[0mclose\u001b[0m\u001b[0;34m(\u001b[0m\u001b[0;34m)\u001b[0m\u001b[0;34m\u001b[0m\u001b[0;34m\u001b[0m\u001b[0m\n",
      "\u001b[0;31mInterfaceError\u001b[0m: not open"
     ]
    }
   ],
   "source": [
    "'''\n",
    "MariaDB 연동 TEST\n",
    "'''\n",
    "import cx_Oracle\n",
    "\n",
    "\n",
    "try:\n",
    "    # 1. db 연동 객체\n",
    "    conn = cx_Oracle.connect(\"scott/oracle@localhost:32769/xe\")\n",
    "    \n",
    "    # 2. sql 실행 객체\n",
    "    cursor = conn.cursor()\n",
    "    \n",
    "    '''\n",
    "    # 3. table 생성 & 재생성\n",
    "    sql = \"\"\"create or replace table goods(\n",
    "    code int primary key,\n",
    "    name varchar(30) not null,\n",
    "    su int not null,\n",
    "    dan int not null)\n",
    "    \"\"\"\n",
    "    cursor.execute(sql)\n",
    "    '''\n",
    "    \n",
    "    # 4. 레코드 추가\n",
    "    cursor.execute(\"insert into goods values(1, 're', 2, 850000)\")\n",
    "    cursor.execute(\"insert into goods values(2, 'se', 3, 550000)\")\n",
    "    cursor.execute(\"insert into goods values(3, 'as', 2, 350000)\")\n",
    "    cursor.execute(\"insert into goods values(4, 'HDTV', 2, 1500000)\")\n",
    "    conn.commit()\n",
    "    \n",
    "    # 5. sql문 실행\n",
    "    sql = \"select * from goods\"\n",
    "    cursor.execute(sql)\n",
    "    data = cursor.fetchall()\n",
    "    \n",
    "    for row in data:\n",
    "        print(row)\n",
    "    print(\"전체 레코드 수 :\", len(data))\n",
    "    \n",
    "except Exception as e:\n",
    "    print(\"예외발생 :\", e)\n",
    "    conn.rollback()\n",
    "finally:\n",
    "    cursor.close()\n",
    "    conn.close()\n"
   ]
  },
  {
   "cell_type": "code",
   "execution_count": 18,
   "metadata": {},
   "outputs": [],
   "source": [
    "import cx_Oracle\n",
    "conn = cx_Oracle.connect(\"scott/tiger@localhost:32769/xe\")"
   ]
  },
  {
   "cell_type": "code",
   "execution_count": 20,
   "metadata": {},
   "outputs": [
    {
     "name": "stdout",
     "output_type": "stream",
     "text": [
      "(1, '참치세트', 1, 100000)\n",
      "(2, '샴푸세트', 100001, 200000)\n",
      "(3, '세차용품세트', 200001, 300000)\n",
      "(4, '주방용품세트', 300001, 400000)\n",
      "(5, '산악용자전거', 400001, 500000)\n",
      "(6, 'LCD모니터', 500001, 600000)\n",
      "(7, '노트북', 600001, 700000)\n",
      "(8, '벽걸이TV', 700001, 800000)\n",
      "(9, '드럼세탁기', 800001, 900000)\n",
      "(10, '양쪽문냉장고', 900001, 1000000)\n"
     ]
    }
   ],
   "source": [
    "import cx_Oracle \n",
    "\n",
    "cursor = conn.cursor()\n",
    "sql = \"select * from gift\"\n",
    "cursor.execute(\"select * from gift\")\n",
    "data = cursor.fetchall()\n",
    "for row in data:\n",
    "    print(row)\n",
    "cursor.close()\n",
    "conn.close()"
   ]
  },
  {
   "cell_type": "code",
   "execution_count": null,
   "metadata": {},
   "outputs": [],
   "source": []
  }
 ],
 "metadata": {
  "kernelspec": {
   "display_name": "Python 3",
   "language": "python",
   "name": "python3"
  },
  "language_info": {
   "codemirror_mode": {
    "name": "ipython",
    "version": 3
   },
   "file_extension": ".py",
   "mimetype": "text/x-python",
   "name": "python",
   "nbconvert_exporter": "python",
   "pygments_lexer": "ipython3",
   "version": "3.7.4"
  }
 },
 "nbformat": 4,
 "nbformat_minor": 2
}
