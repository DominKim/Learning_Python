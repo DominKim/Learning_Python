{
 "cells": [
  {
   "cell_type": "code",
   "execution_count": 4,
   "metadata": {},
   "outputs": [
    {
     "name": "stdout",
     "output_type": "stream",
     "text": [
      "(3, 30, 0)\n",
      "('홍길동', '010-111-1111', '서울시')\n",
      "('이순신', '010-111-1111', '해남시')\n",
      "('유관순', '010-111-1111', '충남')\n",
      "('홍길동', '010-111-1111', '서울시')\n",
      "('이순신', '010-111-1111', '해남시')\n",
      "('유관순', '010-111-1111', '충남')\n",
      "이름\t\t전화번호\t\t주소\n",
      "홍길동\t010-111-1111\t서울시\n",
      "이순신\t010-111-1111\t해남시\n",
      "유관순\t010-111-1111\t충남\n",
      "홍길동\t010-111-1111\t서울시\n",
      "이순신\t010-111-1111\t해남시\n",
      "유관순\t010-111-1111\t충남\n"
     ]
    }
   ],
   "source": [
    "'''\n",
    "sqlite3\n",
    " - 내장형 DBMS : 기기 내부에서 사용\n",
    " - 외부 접근 허용 안됨\n",
    "'''\n",
    "\n",
    "import sqlite3\n",
    "\n",
    "print(sqlite3.sqlite_version_info) # (3, 30, 0)\n",
    "\n",
    "try:\n",
    "    # 1. database 생성(auto commit) & db 연동 객체\n",
    "    conn = sqlite3.connect(\"../data/sqlite.db\") # sqlite.db\n",
    "    # sql 문 실행 객체\n",
    "    cursor = conn.cursor()\n",
    "    \n",
    "    # 2. table 생성\n",
    "    sql = \"\"\"create table if not exists test_tab(name text(10),\n",
    "    phone text(15), addr text(50))\"\"\"\n",
    "    cursor.execute(sql) # table 생성\n",
    "    \n",
    "    # 3. 레코드 추가\n",
    "    cursor.execute(\"insert into test_tab values('홍길동', '010-111-1111', '서울시')\")\n",
    "    cursor.execute(\"insert into test_tab values('이순신', '010-111-1111', '해남시')\")\n",
    "    cursor.execute(\"insert into test_tab values('유관순', '010-111-1111', '충남')\")\n",
    "    conn.commit() # db 반영\n",
    "    \n",
    "    # 4. 레코드 조회\n",
    "    cursor.execute(\"select * from test_tab\")\n",
    "    dataset = cursor.fetchall() # 객체 레코드 -> 레코드 가져오기\n",
    "    for row in dataset:\n",
    "        print(row) # tuple\n",
    "        \n",
    "    print(\"이름\\t\\t전화번호\\t\\t주소\")\n",
    "    for row in dataset:\n",
    "        print(row[0] + \"\\t\" + row[1] + \"\\t\" + row[2])\n",
    "        \n",
    "except Exception as e:\n",
    "    print(\"db 연동 오류 :\", e)\n",
    "    conn.rollback() # 이전 쿼리 실행 취소\n",
    "finally:\n",
    "    cursor.close()\n",
    "    conn.close()"
   ]
  }
 ],
 "metadata": {
  "kernelspec": {
   "display_name": "Python 3",
   "language": "python",
   "name": "python3"
  },
  "language_info": {
   "codemirror_mode": {
    "name": "ipython",
    "version": 3
   },
   "file_extension": ".py",
   "mimetype": "text/x-python",
   "name": "python",
   "nbconvert_exporter": "python",
   "pygments_lexer": "ipython3",
   "version": "3.7.4"
  }
 },
 "nbformat": 4,
 "nbformat_minor": 2
}
